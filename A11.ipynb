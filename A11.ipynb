{
  "cells": [
    {
      "cell_type": "markdown",
      "source": [
        "# A11\n",
        "## Antonio Ortegón Muñoz\n",
        "## 749730"
      ],
      "metadata": {
        "id": "492-vXXazM1o"
      }
    },
    {
      "cell_type": "markdown",
      "source": [
        "Integra los siguientes intervalos utilizando 1 millón de muestras. Escribe los resultados en un DataFrame de pandas.\n",
        "\n"
      ],
      "metadata": {
        "id": "gmOmwoTK15w8"
      }
    },
    {
      "cell_type": "code",
      "source": [
        "import numpy as np\n",
        "import matplotlib.pyplot as plt\n",
        "def f1(x):\n",
        "    return (np.log(1.5+np.sin(x**2)))/(x*np.exp(-x**2))"
      ],
      "metadata": {
        "id": "cIF5CWXpzV4U"
      },
      "execution_count": 21,
      "outputs": []
    },
    {
      "cell_type": "markdown",
      "source": [
        "a)"
      ],
      "metadata": {
        "id": "9TqlUtghzztc"
      }
    },
    {
      "cell_type": "code",
      "source": [
        "def montecarlo_tipo1(f, a, b, n):\n",
        "    u=np.random.uniform(a, b, n)\n",
        "    return np.mean(f(u))*(b-a)\n",
        "a=.1\n",
        "b=.3\n",
        "n=1000000\n",
        "vc1=montecarlo_tipo1(f1, a, b, n)\n",
        "vc1"
      ],
      "metadata": {
        "colab": {
          "base_uri": "https://localhost:8080/"
        },
        "id": "GQ6u2B1Fz17P",
        "outputId": "cf8e3dda-8ef5-4d82-b403-35a8f8c14471"
      },
      "execution_count": 40,
      "outputs": [
        {
          "output_type": "execute_result",
          "data": {
            "text/plain": [
              "0.4896440962277012"
            ]
          },
          "metadata": {},
          "execution_count": 40
        }
      ]
    },
    {
      "cell_type": "markdown",
      "source": [
        "b)"
      ],
      "metadata": {
        "id": "TbcM36iA0ggr"
      }
    },
    {
      "cell_type": "code",
      "source": [
        "vc2=montecarlo_tipo1(f1, .3, .5, n)\n",
        "vc2"
      ],
      "metadata": {
        "colab": {
          "base_uri": "https://localhost:8080/"
        },
        "id": "5Uy-0Loj0iLM",
        "outputId": "c38c6b2b-0912-4893-9c03-789990e5e867"
      },
      "execution_count": 41,
      "outputs": [
        {
          "output_type": "execute_result",
          "data": {
            "text/plain": [
              "0.3021105099971208"
            ]
          },
          "metadata": {},
          "execution_count": 41
        }
      ]
    },
    {
      "cell_type": "markdown",
      "source": [
        "c)"
      ],
      "metadata": {
        "id": "M1h7nBlK0rvh"
      }
    },
    {
      "cell_type": "code",
      "source": [
        "vc3=montecarlo_tipo1(f1, .5, .7, n)\n",
        "vc3"
      ],
      "metadata": {
        "colab": {
          "base_uri": "https://localhost:8080/"
        },
        "id": "kkopHqSC0obp",
        "outputId": "36b74d16-3c48-42c2-d96e-54b1d2b8c9c4"
      },
      "execution_count": 42,
      "outputs": [
        {
          "output_type": "execute_result",
          "data": {
            "text/plain": [
              "0.2968227133568049"
            ]
          },
          "metadata": {},
          "execution_count": 42
        }
      ]
    },
    {
      "cell_type": "markdown",
      "source": [
        "d)"
      ],
      "metadata": {
        "id": "_U-NCMKu1e1X"
      }
    },
    {
      "cell_type": "code",
      "source": [
        "vc4=montecarlo_tipo1(f1, .7, .9, n)\n",
        "vc4"
      ],
      "metadata": {
        "colab": {
          "base_uri": "https://localhost:8080/"
        },
        "id": "nN4nwLKX1gns",
        "outputId": "b4e817e2-afbe-4827-f85b-d8488d1dd0a9"
      },
      "execution_count": 43,
      "outputs": [
        {
          "output_type": "execute_result",
          "data": {
            "text/plain": [
              "0.3533690948735325"
            ]
          },
          "metadata": {},
          "execution_count": 43
        }
      ]
    },
    {
      "cell_type": "markdown",
      "source": [
        "e)"
      ],
      "metadata": {
        "id": "3PTQJzgf1vyn"
      }
    },
    {
      "cell_type": "code",
      "source": [
        "vc5=montecarlo_tipo1(f1, .7, 1.1, n)\n",
        "vc5"
      ],
      "metadata": {
        "colab": {
          "base_uri": "https://localhost:8080/"
        },
        "id": "LYMbjQHE1uuk",
        "outputId": "7207c2dd-7f1e-4dfe-ab6f-a7766943668e"
      },
      "execution_count": 44,
      "outputs": [
        {
          "output_type": "execute_result",
          "data": {
            "text/plain": [
              "0.8186324487342032"
            ]
          },
          "metadata": {},
          "execution_count": 44
        }
      ]
    },
    {
      "cell_type": "markdown",
      "source": [
        "Usa el teorema fundamental del cálculo para escribir la secuencia de valores para y(x)"
      ],
      "metadata": {
        "id": "Y7By5rBh1-m3"
      }
    },
    {
      "cell_type": "code",
      "source": [],
      "metadata": {
        "id": "CU1FCX2n3vPF"
      },
      "execution_count": 44,
      "outputs": []
    },
    {
      "cell_type": "code",
      "source": [
        "import pandas as pd\n",
        "\n",
        "def f1(x):\n",
        "    return (np.log(1.5+np.sin(x**2)))/(x*np.exp(-x**2))\n",
        "tabla=pd.DataFrame(columns=[\"a\", \"b\", \"c\", \"d\", \"e\"])\n",
        "\n",
        "tabla.loc[\"1\", \"a\"]=vc1\n",
        "tabla.loc[\"1\", \"b\"]=vc2\n",
        "tabla.loc[\"1\", \"c\"]=vc3\n",
        "tabla.loc[\"1\", \"d\"]=vc4\n",
        "tabla.loc[\"1\", \"e\"]=vc5\n",
        "\n",
        "tabla"
      ],
      "metadata": {
        "colab": {
          "base_uri": "https://localhost:8080/",
          "height": 89
        },
        "id": "cFXgzqU32AQk",
        "outputId": "faf5c3cc-ee6b-4e94-d5bd-aef0dec0fbc6"
      },
      "execution_count": 45,
      "outputs": [
        {
          "output_type": "execute_result",
          "data": {
            "text/plain": [
              "          a         b         c         d         e\n",
              "1  0.489644  0.302111  0.296823  0.353369  0.818632"
            ],
            "text/html": [
              "\n",
              "  <div id=\"df-6c7f6d68-f106-407f-b7c4-622f3e28781c\" class=\"colab-df-container\">\n",
              "    <div>\n",
              "<style scoped>\n",
              "    .dataframe tbody tr th:only-of-type {\n",
              "        vertical-align: middle;\n",
              "    }\n",
              "\n",
              "    .dataframe tbody tr th {\n",
              "        vertical-align: top;\n",
              "    }\n",
              "\n",
              "    .dataframe thead th {\n",
              "        text-align: right;\n",
              "    }\n",
              "</style>\n",
              "<table border=\"1\" class=\"dataframe\">\n",
              "  <thead>\n",
              "    <tr style=\"text-align: right;\">\n",
              "      <th></th>\n",
              "      <th>a</th>\n",
              "      <th>b</th>\n",
              "      <th>c</th>\n",
              "      <th>d</th>\n",
              "      <th>e</th>\n",
              "    </tr>\n",
              "  </thead>\n",
              "  <tbody>\n",
              "    <tr>\n",
              "      <th>1</th>\n",
              "      <td>0.489644</td>\n",
              "      <td>0.302111</td>\n",
              "      <td>0.296823</td>\n",
              "      <td>0.353369</td>\n",
              "      <td>0.818632</td>\n",
              "    </tr>\n",
              "  </tbody>\n",
              "</table>\n",
              "</div>\n",
              "    <div class=\"colab-df-buttons\">\n",
              "\n",
              "  <div class=\"colab-df-container\">\n",
              "    <button class=\"colab-df-convert\" onclick=\"convertToInteractive('df-6c7f6d68-f106-407f-b7c4-622f3e28781c')\"\n",
              "            title=\"Convert this dataframe to an interactive table.\"\n",
              "            style=\"display:none;\">\n",
              "\n",
              "  <svg xmlns=\"http://www.w3.org/2000/svg\" height=\"24px\" viewBox=\"0 -960 960 960\">\n",
              "    <path d=\"M120-120v-720h720v720H120Zm60-500h600v-160H180v160Zm220 220h160v-160H400v160Zm0 220h160v-160H400v160ZM180-400h160v-160H180v160Zm440 0h160v-160H620v160ZM180-180h160v-160H180v160Zm440 0h160v-160H620v160Z\"/>\n",
              "  </svg>\n",
              "    </button>\n",
              "\n",
              "  <style>\n",
              "    .colab-df-container {\n",
              "      display:flex;\n",
              "      gap: 12px;\n",
              "    }\n",
              "\n",
              "    .colab-df-convert {\n",
              "      background-color: #E8F0FE;\n",
              "      border: none;\n",
              "      border-radius: 50%;\n",
              "      cursor: pointer;\n",
              "      display: none;\n",
              "      fill: #1967D2;\n",
              "      height: 32px;\n",
              "      padding: 0 0 0 0;\n",
              "      width: 32px;\n",
              "    }\n",
              "\n",
              "    .colab-df-convert:hover {\n",
              "      background-color: #E2EBFA;\n",
              "      box-shadow: 0px 1px 2px rgba(60, 64, 67, 0.3), 0px 1px 3px 1px rgba(60, 64, 67, 0.15);\n",
              "      fill: #174EA6;\n",
              "    }\n",
              "\n",
              "    .colab-df-buttons div {\n",
              "      margin-bottom: 4px;\n",
              "    }\n",
              "\n",
              "    [theme=dark] .colab-df-convert {\n",
              "      background-color: #3B4455;\n",
              "      fill: #D2E3FC;\n",
              "    }\n",
              "\n",
              "    [theme=dark] .colab-df-convert:hover {\n",
              "      background-color: #434B5C;\n",
              "      box-shadow: 0px 1px 3px 1px rgba(0, 0, 0, 0.15);\n",
              "      filter: drop-shadow(0px 1px 2px rgba(0, 0, 0, 0.3));\n",
              "      fill: #FFFFFF;\n",
              "    }\n",
              "  </style>\n",
              "\n",
              "    <script>\n",
              "      const buttonEl =\n",
              "        document.querySelector('#df-6c7f6d68-f106-407f-b7c4-622f3e28781c button.colab-df-convert');\n",
              "      buttonEl.style.display =\n",
              "        google.colab.kernel.accessAllowed ? 'block' : 'none';\n",
              "\n",
              "      async function convertToInteractive(key) {\n",
              "        const element = document.querySelector('#df-6c7f6d68-f106-407f-b7c4-622f3e28781c');\n",
              "        const dataTable =\n",
              "          await google.colab.kernel.invokeFunction('convertToInteractive',\n",
              "                                                    [key], {});\n",
              "        if (!dataTable) return;\n",
              "\n",
              "        const docLinkHtml = 'Like what you see? Visit the ' +\n",
              "          '<a target=\"_blank\" href=https://colab.research.google.com/notebooks/data_table.ipynb>data table notebook</a>'\n",
              "          + ' to learn more about interactive tables.';\n",
              "        element.innerHTML = '';\n",
              "        dataTable['output_type'] = 'display_data';\n",
              "        await google.colab.output.renderOutput(dataTable, element);\n",
              "        const docLink = document.createElement('div');\n",
              "        docLink.innerHTML = docLinkHtml;\n",
              "        element.appendChild(docLink);\n",
              "      }\n",
              "    </script>\n",
              "  </div>\n",
              "\n",
              "\n",
              "  <div id=\"id_38eb6a61-5d29-4b86-a3f6-9d4defbd95b3\">\n",
              "    <style>\n",
              "      .colab-df-generate {\n",
              "        background-color: #E8F0FE;\n",
              "        border: none;\n",
              "        border-radius: 50%;\n",
              "        cursor: pointer;\n",
              "        display: none;\n",
              "        fill: #1967D2;\n",
              "        height: 32px;\n",
              "        padding: 0 0 0 0;\n",
              "        width: 32px;\n",
              "      }\n",
              "\n",
              "      .colab-df-generate:hover {\n",
              "        background-color: #E2EBFA;\n",
              "        box-shadow: 0px 1px 2px rgba(60, 64, 67, 0.3), 0px 1px 3px 1px rgba(60, 64, 67, 0.15);\n",
              "        fill: #174EA6;\n",
              "      }\n",
              "\n",
              "      [theme=dark] .colab-df-generate {\n",
              "        background-color: #3B4455;\n",
              "        fill: #D2E3FC;\n",
              "      }\n",
              "\n",
              "      [theme=dark] .colab-df-generate:hover {\n",
              "        background-color: #434B5C;\n",
              "        box-shadow: 0px 1px 3px 1px rgba(0, 0, 0, 0.15);\n",
              "        filter: drop-shadow(0px 1px 2px rgba(0, 0, 0, 0.3));\n",
              "        fill: #FFFFFF;\n",
              "      }\n",
              "    </style>\n",
              "    <button class=\"colab-df-generate\" onclick=\"generateWithVariable('tabla')\"\n",
              "            title=\"Generate code using this dataframe.\"\n",
              "            style=\"display:none;\">\n",
              "\n",
              "  <svg xmlns=\"http://www.w3.org/2000/svg\" height=\"24px\"viewBox=\"0 0 24 24\"\n",
              "       width=\"24px\">\n",
              "    <path d=\"M7,19H8.4L18.45,9,17,7.55,7,17.6ZM5,21V16.75L18.45,3.32a2,2,0,0,1,2.83,0l1.4,1.43a1.91,1.91,0,0,1,.58,1.4,1.91,1.91,0,0,1-.58,1.4L9.25,21ZM18.45,9,17,7.55Zm-12,3A5.31,5.31,0,0,0,4.9,8.1,5.31,5.31,0,0,0,1,6.5,5.31,5.31,0,0,0,4.9,4.9,5.31,5.31,0,0,0,6.5,1,5.31,5.31,0,0,0,8.1,4.9,5.31,5.31,0,0,0,12,6.5,5.46,5.46,0,0,0,6.5,12Z\"/>\n",
              "  </svg>\n",
              "    </button>\n",
              "    <script>\n",
              "      (() => {\n",
              "      const buttonEl =\n",
              "        document.querySelector('#id_38eb6a61-5d29-4b86-a3f6-9d4defbd95b3 button.colab-df-generate');\n",
              "      buttonEl.style.display =\n",
              "        google.colab.kernel.accessAllowed ? 'block' : 'none';\n",
              "\n",
              "      buttonEl.onclick = () => {\n",
              "        google.colab.notebook.generateWithVariable('tabla');\n",
              "      }\n",
              "      })();\n",
              "    </script>\n",
              "  </div>\n",
              "\n",
              "    </div>\n",
              "  </div>\n"
            ],
            "application/vnd.google.colaboratory.intrinsic+json": {
              "type": "dataframe",
              "variable_name": "tabla",
              "summary": "{\n  \"name\": \"tabla\",\n  \"rows\": 1,\n  \"fields\": [\n    {\n      \"column\": \"a\",\n      \"properties\": {\n        \"dtype\": \"date\",\n        \"min\": 0.4896440962277012,\n        \"max\": 0.4896440962277012,\n        \"num_unique_values\": 1,\n        \"samples\": [\n          0.4896440962277012\n        ],\n        \"semantic_type\": \"\",\n        \"description\": \"\"\n      }\n    },\n    {\n      \"column\": \"b\",\n      \"properties\": {\n        \"dtype\": \"date\",\n        \"min\": 0.3021105099971208,\n        \"max\": 0.3021105099971208,\n        \"num_unique_values\": 1,\n        \"samples\": [\n          0.3021105099971208\n        ],\n        \"semantic_type\": \"\",\n        \"description\": \"\"\n      }\n    },\n    {\n      \"column\": \"c\",\n      \"properties\": {\n        \"dtype\": \"date\",\n        \"min\": 0.2968227133568049,\n        \"max\": 0.2968227133568049,\n        \"num_unique_values\": 1,\n        \"samples\": [\n          0.2968227133568049\n        ],\n        \"semantic_type\": \"\",\n        \"description\": \"\"\n      }\n    },\n    {\n      \"column\": \"d\",\n      \"properties\": {\n        \"dtype\": \"date\",\n        \"min\": 0.3533690948735325,\n        \"max\": 0.3533690948735325,\n        \"num_unique_values\": 1,\n        \"samples\": [\n          0.3533690948735325\n        ],\n        \"semantic_type\": \"\",\n        \"description\": \"\"\n      }\n    },\n    {\n      \"column\": \"e\",\n      \"properties\": {\n        \"dtype\": \"date\",\n        \"min\": 0.8186324487342032,\n        \"max\": 0.8186324487342032,\n        \"num_unique_values\": 1,\n        \"samples\": [\n          0.8186324487342032\n        ],\n        \"semantic_type\": \"\",\n        \"description\": \"\"\n      }\n    }\n  ]\n}"
            }
          },
          "metadata": {},
          "execution_count": 45
        }
      ]
    },
    {
      "cell_type": "code",
      "source": [
        "y01=.1\n",
        "y03=y01+vc1\n",
        "y05=y03+vc2\n",
        "y07=y05+vc3\n",
        "y09=y07+vc4\n",
        "y11=y09+vc5\n",
        "y01, y03, y05, y07, y09, y11"
      ],
      "metadata": {
        "colab": {
          "base_uri": "https://localhost:8080/"
        },
        "id": "3dQ4lsdO6udS",
        "outputId": "af2c9b39-b4da-4239-cd40-0b834ef7ebd7"
      },
      "execution_count": 50,
      "outputs": [
        {
          "output_type": "execute_result",
          "data": {
            "text/plain": [
              "(0.1,\n",
              " 0.5896440962277012,\n",
              " 0.891754606224822,\n",
              " 1.188577319581627,\n",
              " 1.5419464144551593,\n",
              " 2.3605788631893625)"
            ]
          },
          "metadata": {},
          "execution_count": 50
        }
      ]
    },
    {
      "cell_type": "markdown",
      "source": [],
      "metadata": {
        "id": "1BKAY5sI6neu"
      }
    },
    {
      "cell_type": "markdown",
      "source": [
        "2"
      ],
      "metadata": {
        "id": "bFH9aqx95Haf"
      }
    },
    {
      "cell_type": "code",
      "source": [
        "def region1(x, y):\n",
        "    return (-x*y*np.exp((-x**2-y**2)))>.05\n",
        "def tipo2(region, ax, bx, ay, by, n):\n",
        "    x=np.random.uniform(ax, bx, n)\n",
        "    y=np.random.uniform(ax, bx, n)\n",
        "    AR=(bx-ax)*(by-ay)\n",
        "    return np.mean(region(x, y))*AR\n",
        "\n",
        "ax=-1.65\n",
        "bx=1.65\n",
        "ay=-1.65\n",
        "by=1.65\n",
        "n=10000\n",
        "x=np.random.uniform(ax, bx, n)\n",
        "y=np.random.uniform(ay, by, n)\n",
        "region(x, y)\n",
        "import matplotlib.pyplot as plt\n",
        "\n",
        "plt.figure()\n",
        "plt.scatter(x, y, c=region1(x, y))\n"
      ],
      "metadata": {
        "colab": {
          "base_uri": "https://localhost:8080/",
          "height": 447
        },
        "id": "KcLadrWX4J6h",
        "outputId": "f08a1ca7-b93b-4e7d-d9be-f93e80d9615b"
      },
      "execution_count": 62,
      "outputs": [
        {
          "output_type": "execute_result",
          "data": {
            "text/plain": [
              "<matplotlib.collections.PathCollection at 0x7b4ca32c01f0>"
            ]
          },
          "metadata": {},
          "execution_count": 62
        },
        {
          "output_type": "display_data",
          "data": {
            "text/plain": [
              "<Figure size 640x480 with 1 Axes>"
            ],
            "image/png": "[encoded data removed]"
          },
          "metadata": {}
        }
      ]
    },
    {
      "cell_type": "code",
      "source": [
        "tipo2(region, ax, ay, bx, by, n)"
      ],
      "metadata": {
        "colab": {
          "base_uri": "https://localhost:8080/"
        },
        "id": "Q38wskik5U2I",
        "outputId": "6837c8e3-2f98-4248-fce9-523aaf3c2b27"
      },
      "execution_count": 63,
      "outputs": [
        {
          "output_type": "execute_result",
          "data": {
            "text/plain": [
              "0.0"
            ]
          },
          "metadata": {},
          "execution_count": 63
        }
      ]
    },
    {
      "cell_type": "code",
      "source": [],
      "metadata": {
        "id": "muRcU41H8Udc"
      },
      "execution_count": null,
      "outputs": []
    }
  ],
  "metadata": {
    "kernelspec": {
      "display_name": "Python 3 (ipykernel)",
      "language": "python",
      "name": "python3"
    },
    "language_info": {
      "codemirror_mode": {
        "name": "ipython",
        "version": 3
      },
      "file_extension": ".py",
      "mimetype": "text/x-python",
      "name": "python",
      "nbconvert_exporter": "python",
      "pygments_lexer": "ipython3",
      "version": "3.12.4"
    },
    "colab": {
      "provenance": []
    }
  },
  "nbformat": 4,
  "nbformat_minor": 0
}