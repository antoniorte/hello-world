{
 "cells": [
  {
   "cell_type": "markdown",
   "id": "85992f5c-d633-4a77-b44a-9bc90ec9a5fe",
   "metadata": {},
   "source": [
    "# Antonio Ortegón"
   ]
  },
  {
   "cell_type": "code",
   "execution_count": 1,
   "id": "5d3ece9c-7e6d-48e4-94f1-a8d4cb5674e7",
   "metadata": {},
   "outputs": [
    {
     "name": "stdout",
     "output_type": "stream",
     "text": [
      "24\n"
     ]
    }
   ],
   "source": [
    "# factorial\n",
    "a = 4\n",
    "i = 1 \n",
    "fact=1\n",
    "while i <= a:\n",
    "    fact *= i\n",
    "    i += 1\n",
    "print(fact) "
   ]
  },
  {
   "cell_type": "code",
   "execution_count": 7,
   "id": "fc67d9ef-7af7-4a66-9f52-e6d94121c132",
   "metadata": {},
   "outputs": [
    {
     "name": "stdout",
     "output_type": "stream",
     "text": [
      "El número es primo\n"
     ]
    }
   ],
   "source": [
    "a = 5\n",
    "i = 2\n",
    "primo = True\n",
    "while i < a:\n",
    "    if a % i == 0:\n",
    "        primo = False\n",
    "        break\n",
    "    i += 1\n",
    "if (primo) :\n",
    "    print(\"El número es primo\")\n",
    "else :\n",
    "    print(\"El número no primo\")"
   ]
  },
  {
   "cell_type": "markdown",
   "id": "3d5e9f1b-82bf-4f55-ae19-4dc6a64cb521",
   "metadata": {},
   "source": [
    "![](Diagrama.jpg)"
   ]
  },
  {
   "cell_type": "markdown",
   "id": "3c34e4ff-a65f-468a-b050-396fecec6077",
   "metadata": {},
   "source": [
    "![](Diagrama.jpg)"
   ]
  }
 ],
 "metadata": {
  "kernelspec": {
   "display_name": "Python 3 (ipykernel)",
   "language": "python",
   "name": "python3"
  },
  "language_info": {
   "codemirror_mode": {
    "name": "ipython",
    "version": 3
   },
   "file_extension": ".py",
   "mimetype": "text/x-python",
   "name": "python",
   "nbconvert_exporter": "python",
   "pygments_lexer": "ipython3",
   "version": "3.12.4"
  }
 },
 "nbformat": 4,
 "nbformat_minor": 5
}
