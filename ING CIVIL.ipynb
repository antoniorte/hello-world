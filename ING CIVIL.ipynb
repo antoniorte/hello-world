{
 "cells": [
  {
   "cell_type": "markdown",
   "id": "3354d9e3-f2c4-4ce2-bcd4-b14a44793b10",
   "metadata": {},
   "source": [
    "# INGENIERÍA CIVIL\n",
    "### Antonio Ortegón Muñoz 13/08/2024"
   ]
  },
  {
   "cell_type": "markdown",
   "id": "613be25a-1867-4898-8979-219edec1300a",
   "metadata": {},
   "source": [
    "Buenas tardes o días, depende a qué hora estén leyendo esto. Hoy les voy a hablar un poco sobre la ingeniería civil."
   ]
  },
  {
   "cell_type": "markdown",
   "id": "b4435b5a-6672-458b-a15c-a4a77750ac6d",
   "metadata": {},
   "source": [
    "## ¿Qué es la ingenieria civil?"
   ]
  },
  {
   "cell_type": "markdown",
   "id": "b6a93237-d670-45c3-964e-0986bdffe923",
   "metadata": {},
   "source": [
    "La ingeniería civil es una rama de las ingenieras que se encarga de abrir o restaurar la infraestructura de una localidad. Esta rama de la ingeniería ve poco de mucho y esto lo digo, porque, uno como ingeniero tiene que saber cosas de construcción (<u>área principal</u>), electricidad, transporte, cosas del medio ambiente, hidráulica y muchas cosas más, que a lo largo de esta platica les ire hablando. \r\n",
    "\r\n",
    "La ingeniería civil, yo la considero que es muy importante por los siguientes dos factores: \r\n",
    "\r\n",
    "* **Impulsa economías**: esto yo lo digo porque, uno como ingeniero civil tiene que ver cómo hacer para que las obras que se hagan tengan un impacto a futuro. Por ejemplo, hacer un condominio grande, uno debe de considerar los factores de turismo y los de salud, hay veces que donde se va a construir tendrá estos factores, pero en caso de que no lo tengan uno puede ir planeando como futuro proyecto irlo haciendo\r\n",
    "- *Medio ambiente*: hoy en día la cuestión ecológica es muy importante y el área de la construcción es uno de los principales contaminantes del mundo, sin embargo, ya hay soluciones para estos problemas. Una de esa es que el concreto que se está poniendo en las nuevas vialidades filtran mejor el agua y son hechas con materiales reciclados, lo que ayuda a que el suelo pueda filtrar mejor el agua y el suelo de abajo se hi.rate\r\n"
   ]
  },
  {
   "cell_type": "markdown",
   "id": "e688d9b8-1cff-42fa-8266-e3e883943692",
   "metadata": {},
   "source": [
    "Ya sabiendo esto, quiero hablar de por qué escogí yo esta carrera: \r\n",
    "\r\n",
    "1. De chiquito me gustaba mucho ver bob el constructo, de hecho, dejen agrego una imagen de él![](https://static.wikia.nocookie.net/agustin-sepulveda-2/images/0/0a/Bob-BtB-OS.png/revision/latest/scale-to-width-down/983?cb=20201013234546&path-prefix=e).s)\r\n",
    "2. Desde muy pequeño me vi muy involucrado en esta área, siempre que se podía mi padrino me llevaba con él a las obras y me iba platicando sobre las cosas que pasaban y le fui agarrando cariño a las cosas\r\n",
    "3. Me gustan las Matemáticas, desde secundaria me di cuenta de que no las matemáticas no se me dificultaban tanto como otras materias y les fui agarrando cariño. Por ejemplo, una vez aprendí la fórmula general de una ecuación cuadrát\n",
    "ic$$ x = \\frac{-b +- \\sqrt{b^2-4ac}}{2a} $$}{} $$\r\n",
    "\r\n",
    "5. Nunca me gusto estar encerrado, este para mí fue un factor determinante para escoger la carrera, debido a que yo quería estudiar algo que me permitiera estar de campo, es decir, no estar todo el día en una oficina, soy mucho de salir y disfrutar las vistas que nos presentan los lugares y por eso decidí estudiar esto antes que cualquir cosa.\r\n"
   ]
  },
  {
   "cell_type": "code",
   "execution_count": null,
   "id": "b80cbe81-b2fd-49bd-a59b-4d720c2054df",
   "metadata": {},
   "outputs": [],
   "source": []
  }
 ],
 "metadata": {
  "kernelspec": {
   "display_name": "Python 3 (ipykernel)",
   "language": "python",
   "name": "python3"
  },
  "language_info": {
   "codemirror_mode": {
    "name": "ipython",
    "version": 3
   },
   "file_extension": ".py",
   "mimetype": "text/x-python",
   "name": "python",
   "nbconvert_exporter": "python",
   "pygments_lexer": "ipython3",
   "version": "3.12.4"
  }
 },
 "nbformat": 4,
 "nbformat_minor": 5
}
