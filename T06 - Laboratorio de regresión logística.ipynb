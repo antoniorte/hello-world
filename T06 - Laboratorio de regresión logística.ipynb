{
 "cells": [
  {
   "cell_type": "markdown",
   "id": "c191c972-2c85-4284-a555-7db618ba5b26",
   "metadata": {},
   "source": [
    "# Laboratorio de regresión logística"
   ]
  },
  {
   "cell_type": "markdown",
   "id": "e11c177c-1848-44b0-8c6b-b35537b5ae2f",
   "metadata": {},
   "source": [
    "|                |   |\n",
    ":----------------|---|\n",
    "| **Antonio Ortegón Muñoz**     |   |\n",
    "| **260924**      |   |\n",
    "| **749730** |   | "
   ]
  },
  {
   "cell_type": "markdown",
   "id": "c4f75ddf-058d-4e10-8a53-bf1b4874e1fa",
   "metadata": {},
   "source": [
    "La regresión logística es una herramienta utilizada para predecir respuestas cualitativas. Al igual que la regresión lineal, es un método sencillo que sirve como un punto de partida para técnicas más avanzadas. Por ejemplo, lo que se conoce como *redes neuronales* o *red de perceptrones multicapa* no es más que una estructura de regresiones logísticas que se alimentan entre sí."
   ]
  },
  {
   "cell_type": "markdown",
   "id": "7aca8491-9d65-4f36-86c5-60b58282c56b",
   "metadata": {},
   "source": [
    "1. Descarga el archivo de créditos y carga los datos (Default.csv). Utiliza `pandas`."
   ]
  },
  {
   "cell_type": "code",
   "execution_count": 7,
   "id": "cf337cda-782d-41e3-9a27-15abe95121ad",
   "metadata": {},
   "outputs": [
    {
     "data": {
      "text/html": [
       "<div>\n",
       "<style scoped>\n",
       "    .dataframe tbody tr th:only-of-type {\n",
       "        vertical-align: middle;\n",
       "    }\n",
       "\n",
       "    .dataframe tbody tr th {\n",
       "        vertical-align: top;\n",
       "    }\n",
       "\n",
       "    .dataframe thead th {\n",
       "        text-align: right;\n",
       "    }\n",
       "</style>\n",
       "<table border=\"1\" class=\"dataframe\">\n",
       "  <thead>\n",
       "    <tr style=\"text-align: right;\">\n",
       "      <th></th>\n",
       "      <th>default</th>\n",
       "      <th>student</th>\n",
       "      <th>balance</th>\n",
       "      <th>income</th>\n",
       "    </tr>\n",
       "  </thead>\n",
       "  <tbody>\n",
       "    <tr>\n",
       "      <th>0</th>\n",
       "      <td>No</td>\n",
       "      <td>No</td>\n",
       "      <td>729.526495</td>\n",
       "      <td>44361.625074</td>\n",
       "    </tr>\n",
       "    <tr>\n",
       "      <th>1</th>\n",
       "      <td>No</td>\n",
       "      <td>Yes</td>\n",
       "      <td>817.180407</td>\n",
       "      <td>12106.134700</td>\n",
       "    </tr>\n",
       "    <tr>\n",
       "      <th>2</th>\n",
       "      <td>No</td>\n",
       "      <td>No</td>\n",
       "      <td>1073.549164</td>\n",
       "      <td>31767.138950</td>\n",
       "    </tr>\n",
       "    <tr>\n",
       "      <th>3</th>\n",
       "      <td>No</td>\n",
       "      <td>No</td>\n",
       "      <td>529.250605</td>\n",
       "      <td>35704.493940</td>\n",
       "    </tr>\n",
       "    <tr>\n",
       "      <th>4</th>\n",
       "      <td>No</td>\n",
       "      <td>No</td>\n",
       "      <td>785.655883</td>\n",
       "      <td>38463.495880</td>\n",
       "    </tr>\n",
       "    <tr>\n",
       "      <th>...</th>\n",
       "      <td>...</td>\n",
       "      <td>...</td>\n",
       "      <td>...</td>\n",
       "      <td>...</td>\n",
       "    </tr>\n",
       "    <tr>\n",
       "      <th>9995</th>\n",
       "      <td>No</td>\n",
       "      <td>No</td>\n",
       "      <td>711.555020</td>\n",
       "      <td>52992.378910</td>\n",
       "    </tr>\n",
       "    <tr>\n",
       "      <th>9996</th>\n",
       "      <td>No</td>\n",
       "      <td>No</td>\n",
       "      <td>757.962918</td>\n",
       "      <td>19660.721770</td>\n",
       "    </tr>\n",
       "    <tr>\n",
       "      <th>9997</th>\n",
       "      <td>No</td>\n",
       "      <td>No</td>\n",
       "      <td>845.411989</td>\n",
       "      <td>58636.156980</td>\n",
       "    </tr>\n",
       "    <tr>\n",
       "      <th>9998</th>\n",
       "      <td>No</td>\n",
       "      <td>No</td>\n",
       "      <td>1569.009053</td>\n",
       "      <td>36669.112360</td>\n",
       "    </tr>\n",
       "    <tr>\n",
       "      <th>9999</th>\n",
       "      <td>No</td>\n",
       "      <td>Yes</td>\n",
       "      <td>200.922183</td>\n",
       "      <td>16862.952320</td>\n",
       "    </tr>\n",
       "  </tbody>\n",
       "</table>\n",
       "<p>10000 rows × 4 columns</p>\n",
       "</div>"
      ],
      "text/plain": [
       "     default student      balance        income\n",
       "0         No      No   729.526495  44361.625074\n",
       "1         No     Yes   817.180407  12106.134700\n",
       "2         No      No  1073.549164  31767.138950\n",
       "3         No      No   529.250605  35704.493940\n",
       "4         No      No   785.655883  38463.495880\n",
       "...      ...     ...          ...           ...\n",
       "9995      No      No   711.555020  52992.378910\n",
       "9996      No      No   757.962918  19660.721770\n",
       "9997      No      No   845.411989  58636.156980\n",
       "9998      No      No  1569.009053  36669.112360\n",
       "9999      No     Yes   200.922183  16862.952320\n",
       "\n",
       "[10000 rows x 4 columns]"
      ]
     },
     "execution_count": 7,
     "metadata": {},
     "output_type": "execute_result"
    }
   ],
   "source": [
    "import pandas as pd\n",
    "import numpy as np\n",
    "import matplotlib.pyplot as plt\n",
    "import scipy.optimize as opt\n",
    "from scipy import stats\n",
    "datos=pd.read_csv(\"Default.csv\")\n",
    "datos"
   ]
  },
  {
   "cell_type": "markdown",
   "id": "65b9bbd4-2e26-44b3-8842-a992c7da7374",
   "metadata": {},
   "source": [
    "2. Utiliza el comando `obj.head()`, donde `obj` es el nombre que le diste a los datos del archivo."
   ]
  },
  {
   "cell_type": "code",
   "execution_count": 9,
   "id": "523807f3-b35f-45f8-bf81-a1dd5f63e7a6",
   "metadata": {},
   "outputs": [
    {
     "data": {
      "text/html": [
       "<div>\n",
       "<style scoped>\n",
       "    .dataframe tbody tr th:only-of-type {\n",
       "        vertical-align: middle;\n",
       "    }\n",
       "\n",
       "    .dataframe tbody tr th {\n",
       "        vertical-align: top;\n",
       "    }\n",
       "\n",
       "    .dataframe thead th {\n",
       "        text-align: right;\n",
       "    }\n",
       "</style>\n",
       "<table border=\"1\" class=\"dataframe\">\n",
       "  <thead>\n",
       "    <tr style=\"text-align: right;\">\n",
       "      <th></th>\n",
       "      <th>default</th>\n",
       "      <th>student</th>\n",
       "      <th>balance</th>\n",
       "      <th>income</th>\n",
       "    </tr>\n",
       "  </thead>\n",
       "  <tbody>\n",
       "    <tr>\n",
       "      <th>0</th>\n",
       "      <td>No</td>\n",
       "      <td>No</td>\n",
       "      <td>729.526495</td>\n",
       "      <td>44361.625074</td>\n",
       "    </tr>\n",
       "    <tr>\n",
       "      <th>1</th>\n",
       "      <td>No</td>\n",
       "      <td>Yes</td>\n",
       "      <td>817.180407</td>\n",
       "      <td>12106.134700</td>\n",
       "    </tr>\n",
       "    <tr>\n",
       "      <th>2</th>\n",
       "      <td>No</td>\n",
       "      <td>No</td>\n",
       "      <td>1073.549164</td>\n",
       "      <td>31767.138950</td>\n",
       "    </tr>\n",
       "    <tr>\n",
       "      <th>3</th>\n",
       "      <td>No</td>\n",
       "      <td>No</td>\n",
       "      <td>529.250605</td>\n",
       "      <td>35704.493940</td>\n",
       "    </tr>\n",
       "    <tr>\n",
       "      <th>4</th>\n",
       "      <td>No</td>\n",
       "      <td>No</td>\n",
       "      <td>785.655883</td>\n",
       "      <td>38463.495880</td>\n",
       "    </tr>\n",
       "  </tbody>\n",
       "</table>\n",
       "</div>"
      ],
      "text/plain": [
       "  default student      balance        income\n",
       "0      No      No   729.526495  44361.625074\n",
       "1      No     Yes   817.180407  12106.134700\n",
       "2      No      No  1073.549164  31767.138950\n",
       "3      No      No   529.250605  35704.493940\n",
       "4      No      No   785.655883  38463.495880"
      ]
     },
     "execution_count": 9,
     "metadata": {},
     "output_type": "execute_result"
    }
   ],
   "source": [
    "datos.head() "
   ]
  },
  {
   "cell_type": "markdown",
   "id": "15c04d29-f53e-4abc-be36-84fcd4ec5f0d",
   "metadata": {},
   "source": [
    "El comando head arroja los primeras *n* líneas (por defecto 5) de los datos que están en el DataFrame.\n",
    "\n",
    "3. Utiliza el comando `obj.describe()`."
   ]
  },
  {
   "cell_type": "code",
   "execution_count": 11,
   "id": "d9500b33-6d04-4322-bebe-08fa02305429",
   "metadata": {},
   "outputs": [
    {
     "data": {
      "text/html": [
       "<div>\n",
       "<style scoped>\n",
       "    .dataframe tbody tr th:only-of-type {\n",
       "        vertical-align: middle;\n",
       "    }\n",
       "\n",
       "    .dataframe tbody tr th {\n",
       "        vertical-align: top;\n",
       "    }\n",
       "\n",
       "    .dataframe thead th {\n",
       "        text-align: right;\n",
       "    }\n",
       "</style>\n",
       "<table border=\"1\" class=\"dataframe\">\n",
       "  <thead>\n",
       "    <tr style=\"text-align: right;\">\n",
       "      <th></th>\n",
       "      <th>balance</th>\n",
       "      <th>income</th>\n",
       "    </tr>\n",
       "  </thead>\n",
       "  <tbody>\n",
       "    <tr>\n",
       "      <th>count</th>\n",
       "      <td>10000.000000</td>\n",
       "      <td>10000.000000</td>\n",
       "    </tr>\n",
       "    <tr>\n",
       "      <th>mean</th>\n",
       "      <td>835.374886</td>\n",
       "      <td>33516.981876</td>\n",
       "    </tr>\n",
       "    <tr>\n",
       "      <th>std</th>\n",
       "      <td>483.714985</td>\n",
       "      <td>13336.639563</td>\n",
       "    </tr>\n",
       "    <tr>\n",
       "      <th>min</th>\n",
       "      <td>0.000000</td>\n",
       "      <td>771.967729</td>\n",
       "    </tr>\n",
       "    <tr>\n",
       "      <th>25%</th>\n",
       "      <td>481.731105</td>\n",
       "      <td>21340.462903</td>\n",
       "    </tr>\n",
       "    <tr>\n",
       "      <th>50%</th>\n",
       "      <td>823.636973</td>\n",
       "      <td>34552.644802</td>\n",
       "    </tr>\n",
       "    <tr>\n",
       "      <th>75%</th>\n",
       "      <td>1166.308386</td>\n",
       "      <td>43807.729275</td>\n",
       "    </tr>\n",
       "    <tr>\n",
       "      <th>max</th>\n",
       "      <td>2654.322576</td>\n",
       "      <td>73554.233500</td>\n",
       "    </tr>\n",
       "  </tbody>\n",
       "</table>\n",
       "</div>"
      ],
      "text/plain": [
       "            balance        income\n",
       "count  10000.000000  10000.000000\n",
       "mean     835.374886  33516.981876\n",
       "std      483.714985  13336.639563\n",
       "min        0.000000    771.967729\n",
       "25%      481.731105  21340.462903\n",
       "50%      823.636973  34552.644802\n",
       "75%     1166.308386  43807.729275\n",
       "max     2654.322576  73554.233500"
      ]
     },
     "execution_count": 11,
     "metadata": {},
     "output_type": "execute_result"
    }
   ],
   "source": [
    "datos.describe()"
   ]
  },
  {
   "cell_type": "markdown",
   "id": "d0bddd85-1291-4b86-ac54-08579009eaad",
   "metadata": {},
   "source": [
    "El comando describe toma las columnas que tienen datos numéricos y saca datos estadísticos comunes:\n",
    "- *n*\n",
    "- media\n",
    "- desviación estándar\n",
    "- valor mínimo\n",
    "- primer cuartil\n",
    "- mediana\n",
    "- tercer cuartil\n",
    "- valor máximo\n",
    "\n",
    "3. Vistos estos datos, ¿qué columnas existen en el DataFrame? ¿Qué tipo de datos contienen?\n",
    "\n",
    "Numericos son los tipos de datos que tiene"
   ]
  },
  {
   "cell_type": "markdown",
   "id": "d647ca4b-012f-4b9e-a062-6484f2fdb2c8",
   "metadata": {},
   "source": [
    "4. Configura el tipo de dato de las columnas `default` y `student` para cambiarlos a variables categóricas.\n",
    "\n",
    "`data[columna] = data[columna].astype(\"category\")`"
   ]
  },
  {
   "cell_type": "code",
   "execution_count": 14,
   "id": "1ca68e38-8821-4a7b-96de-20f4209a2c84",
   "metadata": {},
   "outputs": [
    {
     "data": {
      "text/plain": [
       "(0       No\n",
       " 1       No\n",
       " 2       No\n",
       " 3       No\n",
       " 4       No\n",
       "         ..\n",
       " 9995    No\n",
       " 9996    No\n",
       " 9997    No\n",
       " 9998    No\n",
       " 9999    No\n",
       " Name: default, Length: 10000, dtype: category\n",
       " Categories (2, object): ['No', 'Yes'],\n",
       " 0        No\n",
       " 1       Yes\n",
       " 2        No\n",
       " 3        No\n",
       " 4        No\n",
       "        ... \n",
       " 9995     No\n",
       " 9996     No\n",
       " 9997     No\n",
       " 9998     No\n",
       " 9999    Yes\n",
       " Name: student, Length: 10000, dtype: category\n",
       " Categories (2, object): ['No', 'Yes'])"
      ]
     },
     "execution_count": 14,
     "metadata": {},
     "output_type": "execute_result"
    }
   ],
   "source": [
    "datos[\"default\"]=datos[\"default\"].astype(\"category\")\n",
    "datos[\"student\"]=datos[\"student\"].astype(\"category\")\n",
    "datos[\"default\"], datos[\"student\"]"
   ]
  },
  {
   "cell_type": "markdown",
   "id": "ab653f15-e6c1-418f-8b78-4e4cb34c8380",
   "metadata": {},
   "source": [
    "Imagina que trabajas en un banco y que se te entregan estos datos. Tu objetivo es crear un modelo que ayude a predecir si una persona que solicita un crédito lo va a pagar. Exploremos los datos un poco más antes de crear un modelo.\n",
    "\n",
    "Veamos primero cómo es la distribución de los valores cuando una persona dejó de pagar y cuando siguió pagando. `Default` es el término utilizado para cuando una persona dejó de pagar.\n",
    "\n",
    "5. Crea una gráfica de caja para las columnas `income` y `balance`, con los datos agrupados con la columna `default`. Utiliza el comando `obj.boxplot(column=____, by=_____)`"
   ]
  },
  {
   "cell_type": "code",
   "execution_count": 16,
   "id": "546de528-d1b8-442b-9aec-e6be74bdbfbf",
   "metadata": {},
   "outputs": [
    {
     "ename": "AttributeError",
     "evalue": "module 'matplotlib.pyplot' has no attribute 'xlable'",
     "output_type": "error",
     "traceback": [
      "\u001b[1;31m---------------------------------------------------------------------------\u001b[0m",
      "\u001b[1;31mAttributeError\u001b[0m                            Traceback (most recent call last)",
      "Cell \u001b[1;32mIn[16], line 3\u001b[0m\n\u001b[0;32m      1\u001b[0m datos\u001b[38;5;241m.\u001b[39mboxplot(column\u001b[38;5;241m=\u001b[39m\u001b[38;5;124m\"\u001b[39m\u001b[38;5;124mincome\u001b[39m\u001b[38;5;124m\"\u001b[39m, by\u001b[38;5;241m=\u001b[39m\u001b[38;5;124m\"\u001b[39m\u001b[38;5;124mdefault\u001b[39m\u001b[38;5;124m\"\u001b[39m)\n\u001b[0;32m      2\u001b[0m plt\u001b[38;5;241m.\u001b[39mtitle(\u001b[38;5;124m\"\u001b[39m\u001b[38;5;124mCaja income\u001b[39m\u001b[38;5;124m\"\u001b[39m)\n\u001b[1;32m----> 3\u001b[0m plt\u001b[38;5;241m.\u001b[39mxlable(\u001b[38;5;124m\"\u001b[39m\u001b[38;5;124mDefault\u001b[39m\u001b[38;5;124m\"\u001b[39m)\n\u001b[0;32m      4\u001b[0m plt\u001b[38;5;241m.\u001b[39mylable(\u001b[38;5;124m\"\u001b[39m\u001b[38;5;124mIncome\u001b[39m\u001b[38;5;124m\"\u001b[39m)\n\u001b[0;32m      5\u001b[0m plt\u001b[38;5;241m.\u001b[39mshow()\n",
      "\u001b[1;31mAttributeError\u001b[0m: module 'matplotlib.pyplot' has no attribute 'xlable'"
     ]
    },
    {
     "data": {
      "image/png": "[encoded data removed]",
      "text/plain": [
       "<Figure size 640x480 with 1 Axes>"
      ]
     },
     "metadata": {},
     "output_type": "display_data"
    }
   ],
   "source": [
    "datos.boxplot(column=\"income\", by=\"default\")\n",
    "plt.title(\"Caja income\")\n",
    "plt.xlable(\"Default\")\n",
    "plt.ylable(\"Income\")\n",
    "plt.show()"
   ]
  },
  {
   "cell_type": "code",
   "execution_count": null,
   "id": "4388e93e-be93-4db7-b0ce-1cd946432a07",
   "metadata": {},
   "outputs": [],
   "source": [
    "datos.boxplot(column=\"balance\", by=\"default\")\n",
    "plt.title(\"Caja balance\")\n",
    "plt.xlable(\"Default\")\n",
    "plt.ylable(\"balance\")\n",
    "plt.show()"
   ]
  },
  {
   "cell_type": "markdown",
   "id": "ebb61978-5302-4b07-b20a-603b429f874b",
   "metadata": {},
   "source": [
    "6. Crea una gráfica de dispersión donde el eje *x* sea la columna `balance` y el eje *y* la columna `income`. Utiliza el comando `obj.plot.scatter(x, y, c=\"default\", colormap=\"PiYG_r\", alpha=0.5)`."
   ]
  },
  {
   "cell_type": "code",
   "execution_count": null,
   "id": "1008ae54-6a73-442d-9598-2a2dfdb807a5",
   "metadata": {},
   "outputs": [],
   "source": [
    "datos.plot.scatter(x=\"balance\", y=\"income\", c=\"default\", colormap=\"PiYG_r\", alpha=.05)\n",
    "plt.title(\"Gráfico de dispersión\")\n",
    "ptl.xlable(\"Balance\")\n",
    "plt.ylabel(\"Income\")\n",
    "plt.show()"
   ]
  },
  {
   "cell_type": "markdown",
   "id": "49f3bb3e-5ba5-405f-9cfd-08a944f3a142",
   "metadata": {},
   "source": [
    "La regresión (lineal o logística) se usa para encontrar una línea que ajuste los datos para tomar una decisión. La línea que buscamos en regresión logística es aquella que nos ayude a separar las diferentes categorías. \n",
    "\n",
    "<img style=\"float: left; \" src=\"https://www.baeldung.com/wp-content/uploads/sites/4/2023/10/decision_boundary_curve.jpg\" width=\"400px\" />\n"
   ]
  },
  {
   "cell_type": "markdown",
   "id": "d04c4af0-ccb8-4174-b388-6260f4f206ed",
   "metadata": {},
   "source": [
    "## Regresión logística simple"
   ]
  },
  {
   "cell_type": "markdown",
   "id": "8479721f-877b-4c4f-abc1-1da69b8520eb",
   "metadata": {},
   "source": [
    "Creemos un modelo simple donde sólo utilizamos una de los factores para predecir una respuesta. Quiero conocer la probabilidad de que una persona deje de pagar su crédito dado el balance que tiene en su cuenta.\n",
    "\n",
    "$$ P(\\text{default}=\\text{Yes}|\\text{balance}) $$"
   ]
  },
  {
   "cell_type": "markdown",
   "id": "3cb24746-3fc3-444b-b7f4-0427a79eafc4",
   "metadata": {},
   "source": [
    "Por el momento la columna default no contiene valores numéricos, por lo que hay que transformar los datos. Como default es nuestra variable de respuesta (lo que queremos predecir) podemos nombrarla *y*.\n",
    "\n",
    "Ejecuta el código `y = obj[\"default\"] == \"Yes\"`. Extrae el factor `balance` en una variable *x*."
   ]
  },
  {
   "cell_type": "code",
   "execution_count": 63,
   "id": "c5f7d3df-a374-433a-bcf7-4c2e59cf2491",
   "metadata": {},
   "outputs": [],
   "source": [
    "y=datos[\"default\"]==\"Yes\" #y_setosa\n",
    "x=datos[\"balance\"]"
   ]
  },
  {
   "cell_type": "code",
   "execution_count": 65,
   "id": "0e99db8a-e858-4a03-b806-f411473209a4",
   "metadata": {},
   "outputs": [],
   "source": [
    "#yo\n",
    "#datos.plot.scatter(x, y, alpha=.05)\n",
    "#plt.title(\"Gráfico de dispersión\")\n",
    "#ptl.xlable(\"balnce\")#\n",
    "#plt.ylabel(\"default\")\n",
    "#plt.show()'"
   ]
  },
  {
   "cell_type": "markdown",
   "id": "979a233e-fb64-4051-8a1f-aa9143c2ad1e",
   "metadata": {},
   "source": [
    "Crea un gráfico de dispersión donde el eje *x* sea `balance` y el eje *y* sea `default` transformado."
   ]
  },
  {
   "cell_type": "code",
   "execution_count": 68,
   "id": "38601930-985f-41b8-95c0-64e269fdd4fd",
   "metadata": {},
   "outputs": [
    {
     "data": {
      "image/png": "[encoded data removed]",
      "text/plain": [
       "<Figure size 640x480 with 1 Axes>"
      ]
     },
     "metadata": {},
     "output_type": "display_data"
    }
   ],
   "source": [
    "#chat\n",
    "# Transformar la columna 'default' en valores numéricos\n",
    "datos['default_num'] = datos['default'].map({'Yes': 1, 'No': 0})\n",
    "\n",
    "# Crear la gráfica de dispersión\n",
    "plt.scatter(datos['balance'], datos['default_num'], alpha=0.5)\n",
    "\n",
    "# Etiquetas y título\n",
    "plt.title('Gráfica de dispersión: Balance vs Default transformado')\n",
    "plt.xlabel('Balance')\n",
    "plt.ylabel('Default (1 = Yes, 0 = No)')\n",
    "\n",
    "# Mostrar la gráfica\n",
    "plt.show()\n"
   ]
  },
  {
   "cell_type": "markdown",
   "id": "4d2f52fe-f647-420a-bc8d-98854ce647eb",
   "metadata": {},
   "source": [
    "La línea que utilizaremos para predecir la probabilidad es:\n",
    "\n",
    "$$ p(x) = \\frac{1}{1 + e^{-(\\beta_0 + \\beta_1 x)}} $$\n",
    "\n",
    "Para nuestro ejemplo de pagos y balance:\n",
    "\n",
    "$$ P(\\text{default}=1|\\text{balance}) = \\frac{1}{1 + e^{-(\\beta_0 + \\beta_1  \\text{balance})}} $$"
   ]
  },
  {
   "cell_type": "markdown",
   "id": "867bbcf8-3287-4f69-b396-1bc891e3d4b4",
   "metadata": {},
   "source": [
    "Buscamos maximizar la probabilidad de que el modelo tome decisiones correctas. Es decir, que cuando `default` fue verdadero, que la predicción sea 100%, y que cuando `default` fue falso que la predicción sea 0%.\n",
    "\n",
    "$$ \\Pi_{i:y_i=1} p(x_i) \\Pi_{i':y_{i'}} (1-p(x_{i'})) $$"
   ]
  },
  {
   "cell_type": "markdown",
   "id": "2548f26c-4608-45f6-974c-76dd9ff9ce10",
   "metadata": {},
   "source": [
    "La función de costo ya simplificada es la siguiente:\n",
    "\n",
    "$$ J(\\vec{\\beta}) = -  \\sum_{i=1}^n{[y_i \\ln{(\\hat{p}(x_i))} + (1-y_i)\\ln{(1 - \\hat{p}(x_i))}]}$$"
   ]
  },
  {
   "cell_type": "markdown",
   "id": "cd13da5a-745c-42c9-b54d-eb0201038089",
   "metadata": {},
   "source": [
    "Utiliza la función `minimize` del módulo `optimize` la librería `scipy` para estimar los parámetros del modelo. Utiliza $\\beta_0=-10$ y $\\beta_1=0.005$ como valores iniciales."
   ]
  },
  {
   "cell_type": "code",
   "execution_count": 287,
   "id": "1e27ce77-d143-40a8-8a85-7596ceb7ec07",
   "metadata": {},
   "outputs": [
    {
     "data": {
      "text/plain": [
       "  message: Optimization terminated successfully.\n",
       "  success: True\n",
       "   status: 0\n",
       "      fun: 798.2258422360521\n",
       "        x: [-1.065e+01  5.499e-03]\n",
       "      nit: 13\n",
       "      jac: [ 0.000e+00  7.629e-06]\n",
       " hess_inv: [[ 2.280e-06 -1.312e-09]\n",
       "            [-1.312e-09  1.715e-09]]\n",
       "     nfev: 102\n",
       "     njev: 34"
      ]
     },
     "execution_count": 287,
     "metadata": {},
     "output_type": "execute_result"
    }
   ],
   "source": [
    "n=len(y)\n",
    "ones=np.ones([n, 1])\n",
    "balance=np.reshape(datos[\"balance\"], [n, 1])\n",
    "X=np.hstack((ones, balance))\n",
    "y_vector=np.reshape(y, [n, 1])\n",
    "def prediccion(beta, X): # prediccion\n",
    "    return 1/(1+np.exp(-X@beta))\n",
    "def J(beta, X, y): # y va a comparar\n",
    "    epsilon=1e-45\n",
    "    n, p=X.shape\n",
    "    beta=np.reshape(beta,[p, 1])\n",
    "    y_pred=prediccion(beta, X)\n",
    "    e=y*np.log(y_pred+epsilon)+(1-y)*np.log(1-y_pred+epsilon)\n",
    "    return -np.sum(e)\n",
    "beta=[-10, -.0005]\n",
    "rrs=opt.minimize(J, beta, args=(X, y_vector))\n",
    "rrs"
   ]
  },
  {
   "cell_type": "markdown",
   "id": "1df9414b-2a8e-42bd-a84b-633ba221dc12",
   "metadata": {},
   "source": [
    "Muchos aspectos de la regresión logística son similares a la regresión lineal. Podemos medir la precisión de nuestros estimados calculando sus errores estándar. El objetivo de calcular estos errores es asegurar que hay una relación estadísticamente significativa entre el factor y la variable de respuesta.\n",
    "\n",
    "Los errores estándar se obtienen con el siguiente procedimiento:\n",
    "\n",
    "1. Calcula las predicciones utilizando los $\\beta_0$ y $\\beta_1$ encontrados."
   ]
  },
  {
   "cell_type": "code",
   "execution_count": 77,
   "id": "3a41f402-bf4f-4dd9-9f41-b47aaa2ff7f7",
   "metadata": {},
   "outputs": [
    {
     "data": {
      "text/plain": [
       "array([1.30592143e-03, 2.11294683e-03, 8.59570272e-03, ...,\n",
       "       2.46690908e-03, 1.16760495e-01, 7.14687008e-05])"
      ]
     },
     "execution_count": 77,
     "metadata": {},
     "output_type": "execute_result"
    }
   ],
   "source": [
    "pre=prediccion(rrs.x, X)\n",
    "pre"
   ]
  },
  {
   "cell_type": "markdown",
   "id": "7c9fd491-1e87-4b54-ad24-ae972ff499cb",
   "metadata": {},
   "source": [
    "2. Idealmente la probabilidad debería ser 100% o 0%. Si alguna predicción no fue absoluta significa que hay incertidumbre. Calcula $p(1-p)$ para todas tus predicciones."
   ]
  },
  {
   "cell_type": "code",
   "execution_count": 80,
   "id": "2ec63991-e6cd-48b9-afe1-0e6f2c25578b",
   "metadata": {},
   "outputs": [
    {
     "data": {
      "text/plain": [
       "array([1.30421600e-03, 2.10848229e-03, 8.52181662e-03, ...,\n",
       "       2.46082344e-03, 1.03127481e-01, 7.14635930e-05])"
      ]
     },
     "execution_count": 80,
     "metadata": {},
     "output_type": "execute_result"
    }
   ],
   "source": [
    "p=pre*(1-pre)\n",
    "p"
   ]
  },
  {
   "cell_type": "markdown",
   "id": "f3897eae-d856-4cc9-9224-4988784a2531",
   "metadata": {},
   "source": [
    "3. Crea una matriz vacía y llena la diagonal con las probabilidades encontradas.\n",
    "\n",
    "`V = np.diagflat(*p(1-p)*)`"
   ]
  },
  {
   "cell_type": "code",
   "execution_count": 83,
   "id": "b0414d6b-f881-4ee7-b406-9be9972aa4d5",
   "metadata": {},
   "outputs": [],
   "source": [
    "V=np.diagflat(p)"
   ]
  },
  {
   "cell_type": "code",
   "execution_count": 85,
   "id": "e0ce76fe-4da1-49e0-83f3-aafadc4c9a66",
   "metadata": {},
   "outputs": [
    {
     "data": {
      "text/plain": [
       "array([[1.30421600e-03, 0.00000000e+00, 0.00000000e+00, ...,\n",
       "        0.00000000e+00, 0.00000000e+00, 0.00000000e+00],\n",
       "       [0.00000000e+00, 2.10848229e-03, 0.00000000e+00, ...,\n",
       "        0.00000000e+00, 0.00000000e+00, 0.00000000e+00],\n",
       "       [0.00000000e+00, 0.00000000e+00, 8.52181662e-03, ...,\n",
       "        0.00000000e+00, 0.00000000e+00, 0.00000000e+00],\n",
       "       ...,\n",
       "       [0.00000000e+00, 0.00000000e+00, 0.00000000e+00, ...,\n",
       "        2.46082344e-03, 0.00000000e+00, 0.00000000e+00],\n",
       "       [0.00000000e+00, 0.00000000e+00, 0.00000000e+00, ...,\n",
       "        0.00000000e+00, 1.03127481e-01, 0.00000000e+00],\n",
       "       [0.00000000e+00, 0.00000000e+00, 0.00000000e+00, ...,\n",
       "        0.00000000e+00, 0.00000000e+00, 7.14635930e-05]])"
      ]
     },
     "execution_count": 85,
     "metadata": {},
     "output_type": "execute_result"
    }
   ],
   "source": [
    "V"
   ]
  },
  {
   "cell_type": "markdown",
   "id": "f8e905e4-9d02-4077-aa3e-e8f2da17491c",
   "metadata": {},
   "source": [
    "4. Calcula la matriz de covarianza. (Dado que X es la matriz que contiene todos los factores)\n",
    "\n",
    "`cov = np.linalg.inv(X.T @ V @ X)`"
   ]
  },
  {
   "cell_type": "code",
   "execution_count": 88,
   "id": "6eb4d973-362b-470c-8f50-6ea4a5fb2c71",
   "metadata": {},
   "outputs": [
    {
     "data": {
      "text/plain": [
       "array([[ 1.30430885e-01, -7.81688634e-05],\n",
       "       [-7.81688634e-05,  4.85616677e-08]])"
      ]
     },
     "execution_count": 88,
     "metadata": {},
     "output_type": "execute_result"
    }
   ],
   "source": [
    "cov = np.linalg.inv(X.T @ V @ X)\n",
    "cov"
   ]
  },
  {
   "cell_type": "markdown",
   "id": "8a0ebe10-5f57-4f33-98d0-cc62259273ac",
   "metadata": {},
   "source": [
    "5. Los valores en la diagonal de la matriz de covarianza corresponden a la varianza de los factores. Utiliza los valores de la diagonal para calcular el error estándar.\n",
    "\n",
    "`se = np.sqrt(np.diag(cov))`"
   ]
  },
  {
   "cell_type": "code",
   "execution_count": 91,
   "id": "99119840-b3b2-4d99-8250-ff777b67cf19",
   "metadata": {},
   "outputs": [
    {
     "data": {
      "text/plain": [
       "array([3.61152163e-01, 2.20367120e-04])"
      ]
     },
     "execution_count": 91,
     "metadata": {},
     "output_type": "execute_result"
    }
   ],
   "source": [
    "se = np.sqrt(np.diag(cov))\n",
    "se"
   ]
  },
  {
   "cell_type": "markdown",
   "id": "850e3bf5-a888-4985-936c-6655f0109b02",
   "metadata": {},
   "source": [
    "Ahora, revisemos si los estimados de nuestros coeficientes demuestran que hay una relación significativa entre los factores y la respuesta.\n",
    "\n",
    "Calculamos el estadístico *z*\n",
    "\n",
    "$$ z_j = \\frac{\\hat{\\beta_j}}{\\text{SE}(\\hat{\\beta_j})} $$"
   ]
  },
  {
   "cell_type": "code",
   "execution_count": 94,
   "id": "a49cdb9a-6ad8-4ccf-a408-c13c024d4096",
   "metadata": {},
   "outputs": [
    {
     "data": {
      "text/plain": [
       "array([-29.49170083,  24.95248051])"
      ]
     },
     "execution_count": 94,
     "metadata": {},
     "output_type": "execute_result"
    }
   ],
   "source": [
    "este=rrs.x/se\n",
    "este\n"
   ]
  },
  {
   "cell_type": "markdown",
   "id": "d4b57cc6-6a33-4554-ba5f-1d1570986f00",
   "metadata": {},
   "source": [
    "Utilizamos el estadístico *z* para encontrar el *p-value*.\n",
    "\n",
    "`from scipy.stats import norm`\n",
    "\n",
    "`p_value = 2 * (1 - norm.cdf(abs(z_statistic)))`"
   ]
  },
  {
   "cell_type": "code",
   "execution_count": 97,
   "id": "b95028ec-9c4b-48d3-95bb-7210202d9902",
   "metadata": {},
   "outputs": [],
   "source": [
    "from scipy.stats import norm"
   ]
  },
  {
   "cell_type": "code",
   "execution_count": 99,
   "id": "7a38b128-87a1-4ffd-b9f1-d35f72743cb2",
   "metadata": {},
   "outputs": [
    {
     "data": {
      "text/plain": [
       "array([0., 0.])"
      ]
     },
     "execution_count": 99,
     "metadata": {},
     "output_type": "execute_result"
    }
   ],
   "source": [
    "p_v=2 * (1 - norm.cdf(abs(este)))\n",
    "p_v"
   ]
  },
  {
   "cell_type": "markdown",
   "id": "a465d7b1-1f78-4ae9-84a6-2b766c737e86",
   "metadata": {},
   "source": [
    "¿Es significativa la relación de los factores con la variable de respuesta?"
   ]
  },
  {
   "cell_type": "markdown",
   "id": "24252820-f896-4cda-9ff9-14b1c4e73cc1",
   "metadata": {},
   "source": [
    "# Preguntar profe"
   ]
  },
  {
   "cell_type": "markdown",
   "id": "d436f218-93ab-4319-98b7-f9b2ea222efd",
   "metadata": {},
   "source": [
    "Repite el procedimiento con el factor `student`. \n",
    "1. Transforma el factor de {\"Yes\", \"No\"} a {1, 0}.\n",
    "2. Utiliza `minimize` para estimar los coeficientes. Utiliza $\\beta_0 = -3.5$ y $\\beta_1 = 0.4$ como punto de partida.\n",
    "3. Calcula el error estándar de tus estimaciones.\n",
    "   1. Usa tu modelo para encontrar $\\hat{p}(X)$\n",
    "   2. Calcula el error $p(1-p)$\n",
    "   3. Calcula la matriz de covarianza\n",
    "   4. Extrae el error estándar\n",
    "5. Argumenta si los factores son significativos utilizando el *p-value*.\n",
    "   1. Utiliza el error estándar para calcular el estadístico *z*\n",
    "   2. Calcula el *p-value*\n",
    "   3. ¿Son significativos?\n"
   ]
  },
  {
   "cell_type": "markdown",
   "id": "874b2856-117e-471f-ae76-53ef2d6a2014",
   "metadata": {},
   "source": [
    "1. Transforma el factor de {\"Yes\", \"No\"} a {1, 0}."
   ]
  },
  {
   "cell_type": "code",
   "execution_count": 254,
   "id": "12102d05-63c4-4835-b2ea-f3e7bbef0ee6",
   "metadata": {},
   "outputs": [
    {
     "data": {
      "image/png": "[encoded data removed]",
      "text/plain": [
       "<Figure size 640x480 with 1 Axes>"
      ]
     },
     "metadata": {},
     "output_type": "display_data"
    },
    {
     "data": {
      "text/plain": [
       "0       0\n",
       "1       1\n",
       "2       0\n",
       "3       0\n",
       "4       0\n",
       "       ..\n",
       "9995    0\n",
       "9996    0\n",
       "9997    0\n",
       "9998    0\n",
       "9999    1\n",
       "Name: student_num, Length: 10000, dtype: category\n",
       "Categories (2, int64): [0, 1]"
      ]
     },
     "execution_count": 254,
     "metadata": {},
     "output_type": "execute_result"
    }
   ],
   "source": [
    "y1=datos[\"default\"]==\"Yes\" #y_setosa\n",
    "x1=datos[\"student\"]\n",
    "#chat\n",
    "# Transformar la columna 'default' en valores numéricos\n",
    "datos['student_num'] = datos['student'].map({'Yes': 1, 'No': 0}) #transformación a numeros\n",
    "\n",
    "# Crear la gráfica de dispersión\n",
    "plt.scatter(datos['balance'], datos['student_num'], alpha=0.5)\n",
    "\n",
    "# Etiquetas y título\n",
    "plt.title('Gráfica de dispersión: Balance vs Student transformado')\n",
    "plt.xlabel('Balance')\n",
    "plt.ylabel('Student (1 = Yes, 0 = No)')\n",
    "\n",
    "# Mostrar la gráfica\n",
    "plt.show()\n",
    "datos['student_num']"
   ]
  },
  {
   "cell_type": "markdown",
   "id": "e297141f-dbb3-480d-9f15-a3302588929a",
   "metadata": {},
   "source": [
    "2. Utiliza `minimize` para estimar los coeficientes. Utiliza $\\beta_0 = -3.5$ y $\\beta_1 = 0.4$ como punto de partida."
   ]
  },
  {
   "cell_type": "code",
   "execution_count": 260,
   "id": "62197a1c-18b5-40d4-b955-3c7f119ab075",
   "metadata": {},
   "outputs": [
    {
     "data": {
      "text/plain": [
       "  message: Desired error not necessarily achieved due to precision loss.\n",
       "  success: False\n",
       "   status: 2\n",
       "      fun: 1454.341529987519\n",
       "        x: [-3.504e+00  4.049e-01]\n",
       "      nit: 6\n",
       "      jac: [ 7.629e-05 -1.526e-05]\n",
       " hess_inv: [[ 7.010e-12  9.628e-11]\n",
       "            [ 9.628e-11  3.792e-01]]\n",
       "     nfev: 48\n",
       "     njev: 16"
      ]
     },
     "execution_count": 260,
     "metadata": {},
     "output_type": "execute_result"
    }
   ],
   "source": [
    "n1=len(y1)\n",
    "ones1=np.ones([n1, 1])\n",
    "student=np.reshape(datos[\"student_num\"], [n1, 1])\n",
    "X1=np.hstack((ones1, student))\n",
    "y_vector1=np.reshape(y1, [n1, 1])\n",
    "def prediccion1(beta1, X1): # prediccion\n",
    "    return 1/(1+np.exp(-X1@beta1))\n",
    "def J1(beta1, X1, y1): # y va a comparar\n",
    "    epsilon=1e-10\n",
    "    n1, p1=X1.shape\n",
    "    beta1=np.reshape(beta1,[p1, 1])\n",
    "    y_pred1=prediccion1(beta1, X1)\n",
    "    e1=y1*np.log(y_pred1+epsilon)+(1-y1)*np.log(1-y_pred1+epsilon)\n",
    "    return -np.sum(e1)\n",
    "beta1=[-3.5, .4]\n",
    "rrs1=opt.minimize(J1, beta1, args=(X1, y_vector1))\n",
    "rrs1"
   ]
  },
  {
   "cell_type": "markdown",
   "id": "dc95e06d-5fa2-4d38-b247-02e9de13fdf8",
   "metadata": {},
   "source": [
    "3. Calcula el error estándar de tus estimaciones."
   ]
  },
  {
   "cell_type": "markdown",
   "id": "3844dbb0-d4dc-4387-85fc-d2dd96b90ec7",
   "metadata": {},
   "source": [
    "31. Usa tu modelo para encontrar $\\hat{p}(X)$"
   ]
  },
  {
   "cell_type": "code",
   "execution_count": 274,
   "id": "d4bfe52c-8913-4d56-9eab-4a2b76a759ad",
   "metadata": {},
   "outputs": [
    {
     "data": {
      "text/plain": [
       "array([0.02919501, 0.04313859, 0.02919501, ..., 0.02919501, 0.02919501,\n",
       "       0.04313859])"
      ]
     },
     "execution_count": 274,
     "metadata": {},
     "output_type": "execute_result"
    }
   ],
   "source": [
    "pre1=prediccion1(rrs1.x, X1)\n",
    "pre1"
   ]
  },
  {
   "cell_type": "markdown",
   "id": "16c24d3e-376a-401b-8956-582932306791",
   "metadata": {},
   "source": [
    "32. Calcula el error $p(1-p)$"
   ]
  },
  {
   "cell_type": "code",
   "execution_count": 264,
   "id": "0eecf014-bc63-4b08-8141-6239ead1da40",
   "metadata": {},
   "outputs": [
    {
     "data": {
      "text/plain": [
       "array([0.02834266, 0.04127765, 0.02834266, ..., 0.02834266, 0.02834266,\n",
       "       0.04127765])"
      ]
     },
     "execution_count": 264,
     "metadata": {},
     "output_type": "execute_result"
    }
   ],
   "source": [
    "p1=pre1*(1-pre1)\n",
    "p1"
   ]
  },
  {
   "cell_type": "markdown",
   "id": "67794312-ee57-4db4-80c5-03caace111b3",
   "metadata": {},
   "source": [
    "34. Calcula la matriz de covarianza"
   ]
  },
  {
   "cell_type": "code",
   "execution_count": 266,
   "id": "5f8ec568-b0cd-45bf-a08d-a1b8bc7e2f69",
   "metadata": {},
   "outputs": [
    {
     "data": {
      "text/plain": [
       "array([[ 0.00500035, -0.00500035],\n",
       "       [-0.00500035,  0.01322936]])"
      ]
     },
     "execution_count": 266,
     "metadata": {},
     "output_type": "execute_result"
    }
   ],
   "source": [
    "V1=np.diagflat(p1)\n",
    "cov1 = np.linalg.inv(X1.T @ V1 @ X1)\n",
    "cov1"
   ]
  },
  {
   "cell_type": "markdown",
   "id": "f5d38694-5eb3-4a76-9617-6a039d65d8e8",
   "metadata": {},
   "source": [
    "34. Extrae el error estándar"
   ]
  },
  {
   "cell_type": "code",
   "execution_count": 268,
   "id": "0ae9b710-ca6f-48fb-a504-1b8112d10d26",
   "metadata": {},
   "outputs": [
    {
     "data": {
      "text/plain": [
       "array([0.07071318, 0.11501894])"
      ]
     },
     "execution_count": 268,
     "metadata": {},
     "output_type": "execute_result"
    }
   ],
   "source": [
    "se1 = np.sqrt(np.diag(cov1))\n",
    "se1"
   ]
  },
  {
   "cell_type": "markdown",
   "id": "8d1096ad-df3e-4cb6-ad55-a656fe4fa852",
   "metadata": {},
   "source": [
    "4. Argumenta si los factores son significativos utilizando el *p-value*.\n"
   ]
  },
  {
   "cell_type": "markdown",
   "id": "7f6db33c-a14b-4ea2-863c-c687e9b09ba3",
   "metadata": {},
   "source": [
    "41. Utiliza el error estándar para calcular el estadístico *z*\n"
   ]
  },
  {
   "cell_type": "code",
   "execution_count": 270,
   "id": "7274581a-0fdf-47c8-9cba-e85160174a3f",
   "metadata": {},
   "outputs": [
    {
     "data": {
      "text/plain": [
       "array([-49.55409497,   3.52017669])"
      ]
     },
     "execution_count": 270,
     "metadata": {},
     "output_type": "execute_result"
    }
   ],
   "source": [
    "este1=rrs1.x/se1\n",
    "este1"
   ]
  },
  {
   "cell_type": "markdown",
   "id": "c9708b0c-3a43-46fc-9c87-95e9f0c8a67c",
   "metadata": {},
   "source": [
    "42. Calcula el *p-value*\n"
   ]
  },
  {
   "cell_type": "code",
   "execution_count": 276,
   "id": "8807f1a7-e016-4da2-ae9d-376c4f8857dd",
   "metadata": {},
   "outputs": [
    {
     "data": {
      "text/plain": [
       "array([0.        , 0.00043126])"
      ]
     },
     "execution_count": 276,
     "metadata": {},
     "output_type": "execute_result"
    }
   ],
   "source": [
    "p_v1=2 * (1 - norm.cdf(abs(este1)))\n",
    "p_v1"
   ]
  },
  {
   "cell_type": "markdown",
   "id": "789d30f8-87ed-4f96-8a8c-6e1ead408b18",
   "metadata": {},
   "source": [
    "\n",
    "43. ¿Son significativos?"
   ]
  },
  {
   "cell_type": "code",
   "execution_count": null,
   "id": "5cea21c7-b4c0-4dc6-9cc5-ac17e396edf0",
   "metadata": {},
   "outputs": [],
   "source": []
  },
  {
   "cell_type": "markdown",
   "id": "78e212e9-c505-4db4-8e7a-e533f11d1286",
   "metadata": {},
   "source": [
    "## Regresión logística múltiple"
   ]
  },
  {
   "cell_type": "markdown",
   "id": "9ac8c6c2-5e15-4684-9bd9-c31854d75fe1",
   "metadata": {},
   "source": [
    "Considera ahora el caso de múltiples factores. Intentemos predecir si la persona dejará de pagar su crédito utilizando toda la información que tenemos disponible. I.e.\n",
    "\n",
    "$$ P(\\text{default}=1|\\text{balance}, \\text{income}, \\text{student}) = \\frac{1}{1 + e^{-(\\beta_0 + \\beta_1  \\text{balance} + \\beta_2 \\text{income} + \\beta_3 \\text{student})}} $$"
   ]
  },
  {
   "cell_type": "markdown",
   "id": "9ae17c0f-e754-4287-bc34-f04396100460",
   "metadata": {},
   "source": [
    "1. Utiliza `minimize` para estimar los coeficientes. Utiliza los siguientes valores como punto de partida:\n",
    "   - $\\beta_0 = -10$\n",
    "   - $\\beta_1 = 0.005$\n",
    "   - $\\beta_2 = 0.003$\n",
    "   - $\\beta_3 = -0.65$\n",
    "2. Calcula el error estándar de tus estimaciones.\n",
    "3. Argumenta si los factores son significativos utilizando el *p-value*. "
   ]
  },
  {
   "cell_type": "code",
   "execution_count": 284,
   "id": "e7e36334-79c4-43c8-9006-da1ddf534dd6",
   "metadata": {},
   "outputs": [
    {
     "name": "stderr",
     "output_type": "stream",
     "text": [
      "C:\\Users\\AMunoz\\AppData\\Local\\Temp\\ipykernel_27888\\2147733070.py:7: RuntimeWarning: overflow encountered in exp\n",
      "  return 1/(1+np.exp(-X_T@beta3))\n"
     ]
    },
    {
     "data": {
      "text/plain": [
       "  message: Optimization terminated successfully.\n",
       "  success: True\n",
       "   status: 0\n",
       "      fun: 345042376.1851577\n",
       "        x: [-1.000e+01 -1.566e-02 -1.007e+00 -6.500e-01]\n",
       "      nit: 1\n",
       "      jac: [ 0.000e+00  0.000e+00  0.000e+00  0.000e+00]\n",
       " hess_inv: [[1 0 0 0]\n",
       "            [0 1 0 0]\n",
       "            [0 0 1 0]\n",
       "            [0 0 0 1]]\n",
       "     nfev: 10\n",
       "     njev: 2"
      ]
     },
     "execution_count": 284,
     "metadata": {},
     "output_type": "execute_result"
    }
   ],
   "source": [
    "balance, student, y\n",
    "x3=datos[\"income\"]\n",
    "income=np.reshape(datos[\"income\"], [n, 1])\n",
    "ones, balance,income, student\n",
    "X_T= np.hstack((ones, balance, income, student))\n",
    "def prediccion3(beta3, X_T): \n",
    "    return 1/(1+np.exp(-X_T@beta3))\n",
    "def J3 (beta3, X_T, y): \n",
    "    epsilon=1e-45\n",
    "    n, p3=X_T.shape\n",
    "    beta=np.reshape(beta3, [p3, 1])\n",
    "    y_pred3=prediccion3(beta3, X_T)\n",
    "    e=y*np.log(y_pred3+epsilon)+(1-y)*np.log(1-y_pred3+epsilon)\n",
    "    return -np.sum(e)\n",
    "beta3=[-10, .005, .003, -.65]\n",
    "rr3=opt.minimize(J3, beta3, args=(X_T, y_vector))\n",
    "rr3\n"
   ]
  },
  {
   "cell_type": "code",
   "execution_count": null,
   "id": "f6a299ea-0986-4c6a-8522-86247552b77f",
   "metadata": {},
   "outputs": [],
   "source": [
    "pre3=prediccion3(rrs3.x, X_T)\n",
    "p3=pre3*(1-pre3)\n",
    "V3=np.diagflat(p3)\n",
    "cov3 = np.linalg.inv(X_T.T @ V3 @ X_T)\n",
    "se3 = np.sqrt(np.diag(cov3))\n",
    "este3=rrs3.x/se3\n",
    "p_v3=2 * (1 - norm.cdf(abs(este3)))"
   ]
  },
  {
   "cell_type": "code",
   "execution_count": null,
   "id": "d49d4ed6-3732-4630-8445-8ae48f4135e1",
   "metadata": {},
   "outputs": [],
   "source": []
  },
  {
   "cell_type": "markdown",
   "id": "c251eb97-5c7e-470b-b95b-c04a6f8831ff",
   "metadata": {},
   "source": [
    "¿Cómo sabemos qué tan bueno es el modelo? Hay cuatro posibles casos para un problema de clasificación simple:\n",
    "- Era sí y se predijo sí. (Verdadero positivo **TP**)\n",
    "- Era sí y se predijo no. (Falso negativo **FN**)\n",
    "- Era no y se predijo sí. (Falso positivo **FP**)\n",
    "- Era no y se predijo no. (Verdadero negativo **TN**)\n",
    "\n",
    "De esos cuatro casos hay dos donde el modelo es correcto y dos donde el modelo no es correcto."
   ]
  },
  {
   "cell_type": "markdown",
   "id": "c30ff1dd-5ed3-4ec2-8f21-1b11b34db645",
   "metadata": {},
   "source": [
    "![](https://miro.medium.com/v2/resize:fit:720/format:webp/1*IuymDnZpRlkat0qejE26Nw.png)"
   ]
  },
  {
   "cell_type": "markdown",
   "id": "6510780d-6b24-41dc-a755-41daf62396ac",
   "metadata": {},
   "source": [
    "1. Menciona dos ejemplos donde consideres que un falso positivo sea un peor resultado que un falso negativo."
   ]
  },
  {
   "cell_type": "markdown",
   "id": "db97be2c-cd7d-4c44-9459-28286d261904",
   "metadata": {},
   "source": [
    "Salud puede ser un ejemplo, donde un mal diagonostico puede perjudicar a alguien\n",
    "\n",
    "Fraudes financieros, donde un falso postivo puede generar bloqueos de cuentas"
   ]
  },
  {
   "cell_type": "markdown",
   "id": "994601c2-a7ff-4406-9235-d9b6bb5054bd",
   "metadata": {},
   "source": [
    "2. Menciona dos ejemplos donde consideres que un falso negativo sea un peor resultado que un falso positivo."
   ]
  },
  {
   "cell_type": "markdown",
   "id": "91e4ec0d-9d8e-4aba-a590-14f02cf68a47",
   "metadata": {},
   "source": [
    "Detección de un cancer (caso personal) donde por un mal diagnostico no se detecto un cancer a tiempo\n",
    "\n",
    "Covid, muchas personas por un falso negativo pierdieorn las vidas. "
   ]
  },
  {
   "cell_type": "markdown",
   "id": "15db3797-05d5-4cce-87d9-42c5ecbd3c3e",
   "metadata": {},
   "source": []
  },
  {
   "cell_type": "markdown",
   "id": "3202b95e-cb0d-4891-b07e-5981e67eab3f",
   "metadata": {},
   "source": []
  },
  {
   "cell_type": "markdown",
   "id": "ea6276ff-dad9-4caf-a6ed-a23a60ac7ada",
   "metadata": {},
   "source": [
    "## Referencia\n",
    "\n",
    "James, G., Witten, D., Hastie, T., Tibshirani, R.,, Taylor, J. (2023). An Introduction to Statistical Learning with Applications in Python. Cham: Springer. ISBN: 978-3-031-38746-3"
   ]
  }
 ],
 "metadata": {
  "kernelspec": {
   "display_name": "Python 3 (ipykernel)",
   "language": "python",
   "name": "python3"
  },
  "language_info": {
   "codemirror_mode": {
    "name": "ipython",
    "version": 3
   },
   "file_extension": ".py",
   "mimetype": "text/x-python",
   "name": "python",
   "nbconvert_exporter": "python",
   "pygments_lexer": "ipython3",
   "version": "3.12.4"
  }
 },
 "nbformat": 4,
 "nbformat_minor": 5
}
