{
 "cells": [
  {
   "cell_type": "markdown",
   "id": "052f6100-40a6-442f-afcc-4b1ff2263c2e",
   "metadata": {},
   "source": [
    "# Antonio Ortegón\n",
    "## 19/08/2024\n"
   ]
  },
  {
   "cell_type": "code",
   "execution_count": 2,
   "id": "91c264a7-e282-433a-83d8-fc91b9df6499",
   "metadata": {},
   "outputs": [
    {
     "data": {
      "text/plain": [
       "False"
      ]
     },
     "execution_count": 2,
     "metadata": {},
     "output_type": "execute_result"
    }
   ],
   "source": [
    "def esprimo(a): \n",
    "    i=2\n",
    "    primo = True\n",
    "    while i < a:\n",
    "        if a % i == 0:\n",
    "            primo = False\n",
    "            break\n",
    "        i += 1\n",
    "    if (primo) :\n",
    "        return True\n",
    "    else :\n",
    "        return False\n",
    "esprimo(4)"
   ]
  },
  {
   "cell_type": "code",
   "execution_count": 4,
   "id": "2e7fa93f-f3b6-46e1-ba81-edb2a74ab534",
   "metadata": {},
   "outputs": [
    {
     "ename": "SyntaxError",
     "evalue": "incomplete input (6383062.py, line 10)",
     "output_type": "error",
     "traceback": [
      "\u001b[1;36m  Cell \u001b[1;32mIn[4], line 10\u001b[1;36m\u001b[0m\n\u001b[1;33m    \u001b[0m\n\u001b[1;37m    ^\u001b[0m\n\u001b[1;31mSyntaxError\u001b[0m\u001b[1;31m:\u001b[0m incomplete input\n"
     ]
    }
   ],
   "source": [
    "def cerca(a): \n",
    "    i=2\n",
    "    primo = True\n",
    "    while i < a:\n",
    "        if a % i == 0:\n",
    "            primo = False\n",
    "            break\n",
    "        i += 1\n",
    "    if cerca(a+i): \n",
    "        "
   ]
  },
  {
   "cell_type": "code",
   "execution_count": null,
   "id": "9835da3d-7f94-4939-b6aa-44e7078d445f",
   "metadata": {},
   "outputs": [],
   "source": [
    "def factorial(a): \n",
    "    i = 1\n",
    "    acc = 1\n",
    "    while i <= a:  \n",
    "        acc *= i\n",
    "        i += 1\n",
    "    return acc\n",
    "\n",
    "lista = [4, 7, 5, 8, 9, 3]\n",
    "for elemento in lista:\n",
    "    factoriales = factorial(elemento)\n",
    "    print(factoriales)"
   ]
  }
 ],
 "metadata": {
  "kernelspec": {
   "display_name": "Python 3 (ipykernel)",
   "language": "python",
   "name": "python3"
  },
  "language_info": {
   "codemirror_mode": {
    "name": "ipython",
    "version": 3
   },
   "file_extension": ".py",
   "mimetype": "text/x-python",
   "name": "python",
   "nbconvert_exporter": "python",
   "pygments_lexer": "ipython3",
   "version": "3.12.4"
  }
 },
 "nbformat": 4,
 "nbformat_minor": 5
}
