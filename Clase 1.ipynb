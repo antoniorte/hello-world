{
 "cells": [
  {
   "cell_type": "markdown",
   "id": "1f1a2432-5358-4154-af51-e7ec36efc9f7",
   "metadata": {},
   "source": [
    "# Clase 1"
   ]
  },
  {
   "cell_type": "code",
   "execution_count": 12,
   "id": "3e3a8d0a-5a1b-4a79-878d-1d2ade693089",
   "metadata": {},
   "outputs": [
    {
     "data": {
      "text/plain": [
       "2"
      ]
     },
     "execution_count": 12,
     "metadata": {},
     "output_type": "execute_result"
    }
   ],
   "source": [
    "1+1"
   ]
  },
  {
   "cell_type": "code",
   "execution_count": 14,
   "id": "40534e75-e002-425a-b27f-009bc17ef6b3",
   "metadata": {},
   "outputs": [
    {
     "name": "stdout",
     "output_type": "stream",
     "text": [
      "Hola\n"
     ]
    }
   ],
   "source": [
    "print(\"Hola\")"
   ]
  },
  {
   "cell_type": "markdown",
   "id": "9fe7d87a-2005-47fe-9fe6-37bb1182b63c",
   "metadata": {},
   "source": [
    "# Grande"
   ]
  },
  {
   "cell_type": "markdown",
   "id": "6aa5a672-b7d7-4d2f-8bf1-f05a9c2b39a7",
   "metadata": {},
   "source": [
    "## Pequeño"
   ]
  },
  {
   "cell_type": "markdown",
   "id": "a231af61-6237-4bef-b7a6-a8a61d4df34f",
   "metadata": {},
   "source": [
    "Lista: \n",
    "* asteristico\n",
    "- guión"
   ]
  },
  {
   "cell_type": "markdown",
   "id": "419f03ee-4d18-4a61-8bdb-10a18486c158",
   "metadata": {},
   "source": [
    "# Insertar equaciones\n",
    "\n",
    "$ Texto normal $\n",
    "$$centrado$$"
   ]
  },
  {
   "cell_type": "markdown",
   "id": "aa05b9b6-3823-4b31-a834-8afbe90c95a4",
   "metadata": {},
   "source": [
    "**Orden**\n",
    "1. Uno\n",
    "2. dos\n"
   ]
  },
  {
   "cell_type": "markdown",
   "id": "3ff091a8-fb5f-4679-b085-08ef42094006",
   "metadata": {},
   "source": [
    "*Curisva*\n",
    "\n",
    "**Negritas**\n"
   ]
  },
  {
   "cell_type": "markdown",
   "id": "7fd0d3f5-8a23-4475-a984-e9c1a22624c6",
   "metadata": {},
   "source": [
    "$\\frac{1}{2}$\n"
   ]
  },
  {
   "cell_type": "markdown",
   "id": "fa9afc60-9051-4aca-aaeb-eff221260425",
   "metadata": {},
   "source": [
    "$ \\sqrt{100} $\n"
   ]
  },
  {
   "cell_type": "markdown",
   "id": "44abb854-57ff-44da-975e-85e4e03cbbb7",
   "metadata": {},
   "source": [
    "$$ e^4$$"
   ]
  },
  {
   "cell_type": "markdown",
   "id": "9c6cb30a-4fab-4acc-a627-5d97c6f71d3c",
   "metadata": {},
   "source": [
    "# Letras griegas\n",
    "$$ \\delta \\alpha \\beta$$"
   ]
  },
  {
   "cell_type": "code",
   "execution_count": null,
   "id": "96bc6fe6-460b-4109-83c8-70ba683c52a5",
   "metadata": {},
   "outputs": [],
   "source": []
  }
 ],
 "metadata": {
  "kernelspec": {
   "display_name": "Python 3 (ipykernel)",
   "language": "python",
   "name": "python3"
  },
  "language_info": {
   "codemirror_mode": {
    "name": "ipython",
    "version": 3
   },
   "file_extension": ".py",
   "mimetype": "text/x-python",
   "name": "python",
   "nbconvert_exporter": "python",
   "pygments_lexer": "ipython3",
   "version": "3.12.4"
  }
 },
 "nbformat": 4,
 "nbformat_minor": 5
}
