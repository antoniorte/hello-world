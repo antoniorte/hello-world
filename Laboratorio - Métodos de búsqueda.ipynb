{
 "cells": [
  {
   "cell_type": "markdown",
   "id": "28086fca-2cdd-41ac-b7bf-bc1af9f759a2",
   "metadata": {},
   "source": [
    "# Laboratorio: Métodos de búsqueda"
   ]
  },
  {
   "cell_type": "markdown",
   "id": "ea997909-65ed-44db-bc39-0b1b65457751",
   "metadata": {},
   "source": [
    "# Antonio Ortegón Muñoz\n",
    "## 16/11/2024"
   ]
  },
  {
   "cell_type": "markdown",
   "id": "9e19abc1-82f0-4f28-9493-468e4227c14f",
   "metadata": {},
   "source": [
    "En las clases anteriores creaste códigos para realizar búsquedas aleatorias (Simulated Annealing) y búsquedas dirigidas (Optimización Bayesiana). Estos métodos de búsqueda se utilizan para facilitar el proceso de optimización de funciones objetivos compleja y costosas de computar."
   ]
  },
  {
   "cell_type": "markdown",
   "id": "038474ce-6e2f-4d45-895a-bb17f7c8871d",
   "metadata": {},
   "source": [
    "En este laboratorio usaremos el dataset de los diferentes tipos de iris, y sus longitudes y anchos de pétalos y sépalos. Utilizaremos un RandomForest para crear un modelo de clasificación y el métrico F1 para decidir cuál es el mejor modelo de acuerdo a lo que tenemos disponible."
   ]
  },
  {
   "cell_type": "markdown",
   "id": "c04956ea-14f4-419e-adf8-add3b81da443",
   "metadata": {},
   "source": [
    "1. Carga el dataset de Iris"
   ]
  },
  {
   "cell_type": "code",
   "execution_count": 1,
   "id": "aad912f2-1359-437e-af68-3c8cca8d1b03",
   "metadata": {},
   "outputs": [],
   "source": [
    "from sklearn import datasets\n",
    "X, y = datasets.load_iris(return_X_y=True)"
   ]
  },
  {
   "cell_type": "markdown",
   "id": "9b97ad91-d82b-491c-ac5d-be6f872c5334",
   "metadata": {},
   "source": [
    "2. Importa el archivo `Bosque.py`.\n",
    "\n",
    "Este archivo contiene la función `RegresionBosque`, que recibe:\n",
    "- X: las características independientes\n",
    "- y: la variable de respuesta\n",
    "- árboles: cantidad total de árboles\n",
    "- profundidad de bosque: niveles de profundidad del bosque\n",
    "\n",
    "Su salida es:\n",
    "- modelo: El objeto con el modelo ajustado\n",
    "- f1: El métrico que califica qué tan bueno es el modelo que se ajustó.\n"
   ]
  },
  {
   "cell_type": "code",
   "execution_count": 4,
   "id": "23f875f1-a72a-4a57-8355-16d6bb9fb33a",
   "metadata": {},
   "outputs": [
    {
     "data": {
      "text/plain": [
       "0.9333333333333333"
      ]
     },
     "execution_count": 4,
     "metadata": {},
     "output_type": "execute_result"
    }
   ],
   "source": [
    "import Bosque\n",
    "modelo, f1 = Bosque.RegresionBosque(X, y, 10, 3)\n",
    "f1 #ejectividad del modelo"
   ]
  },
  {
   "cell_type": "markdown",
   "id": "15ac2825-33ac-4919-9ccb-8324701ce99f",
   "metadata": {},
   "source": [
    "### Actividad 1:"
   ]
  },
  {
   "cell_type": "code",
   "execution_count": 8,
   "id": "7221ae41-2d64-455b-9b9f-aae8fce6e593",
   "metadata": {},
   "outputs": [
    {
     "data": {
      "text/plain": [
       "[0.9444444444444444,\n",
       " 0.9444444444444444,\n",
       " 0.9555555555555556,\n",
       " 0.9555555555555556,\n",
       " 0.9666666666666667]"
      ]
     },
     "execution_count": 8,
     "metadata": {},
     "output_type": "execute_result"
    }
   ],
   "source": [
    "import numpy as np \n",
    "import matplotlib.pyplot as plt\n",
    "from sklearn.gaussian_process import GaussianProcessRegressor\n",
    "from sklearn.gaussian_process.kernels import RBF\n",
    "n=5\n",
    "n_arboles=np.random.randint(5, 51, n)\n",
    "profundidad=np.random.randint(2,11, n)\n",
    "\n",
    "lista_f1 = []\n",
    "for n_arb, prof in zip(n_arboles, profundidad) :\n",
    "    modelo, f1 = Bosque.RegresionBosque(X, y, n_arb, prof) #x\n",
    "    lista_f1.append(f1)\n",
    "lista_f1 #y"
   ]
  },
  {
   "cell_type": "markdown",
   "id": "a8eb265f-9ccf-4fb4-b8c0-8fe221ea534c",
   "metadata": {},
   "source": [
    "Inicializa un espacio con 5 muestras en nuestro dominio de variables independientes:\n",
    "- árboles: números enteros entre 5 y 50.\n",
    "- profundidad: números enteros entre 2 y 10"
   ]
  },
  {
   "cell_type": "markdown",
   "id": "1ed7c396-af97-49a6-828e-c5d63c1b6999",
   "metadata": {},
   "source": [
    "Utiliza optimización Bayesiana para encontrar la combinación de árboles y profundidad que **maximice** el métrico F1."
   ]
  },
  {
   "cell_type": "code",
   "execution_count": 14,
   "id": "1e563392-4509-4d70-9cb6-adca944d2406",
   "metadata": {
    "scrolled": true
   },
   "outputs": [],
   "source": [
    "import numpy as np \n",
    "import matplotlib.pyplot as plt\n",
    "from sklearn.gaussian_process import GaussianProcessRegressor\n",
    "from sklearn.gaussian_process.kernels import RBF\n",
    "\n",
    "n_arb_vec = n_arboles.reshape([-1, 1])\n",
    "prof_vec = profundidad.reshape([-1, 1])\n",
    "X_hiperparam = np.hstack((n_arb_vec, prof_vec))\n",
    "\n",
    "\n",
    "kernel=1.0*RBF(length_scale=1)\n",
    "gp=GaussianProcessRegressor(kernel=kernel, n_restarts_optimizer=10).fit(X_hiperparam, lista_f1)\n",
    "\n",
    "x_arb = np.linspace(5, 50, 1000).reshape([-1, 1])\n",
    "x_prof = np.linspace(2, 10, 1000).reshape([-1, 1])\n",
    "x_h = np.hstack((x_arb, x_prof))\n"
   ]
  },
  {
   "cell_type": "code",
   "execution_count": 16,
   "id": "6b1f76e9-0eab-429f-9509-4f2c7ec17d73",
   "metadata": {},
   "outputs": [
    {
     "data": {
      "text/plain": [
       "array([[ 5.        ,  2.        ],\n",
       "       [ 5.04504505,  2.00800801],\n",
       "       [ 5.09009009,  2.01601602],\n",
       "       ...,\n",
       "       [49.90990991,  9.98398398],\n",
       "       [49.95495495,  9.99199199],\n",
       "       [50.        , 10.        ]])"
      ]
     },
     "execution_count": 16,
     "metadata": {},
     "output_type": "execute_result"
    }
   ],
   "source": [
    "x_h"
   ]
  },
  {
   "cell_type": "code",
   "execution_count": null,
   "id": "b6ed87ad-9586-4cdd-8e26-7f91f742431a",
   "metadata": {},
   "outputs": [],
   "source": []
  },
  {
   "cell_type": "code",
   "execution_count": 20,
   "id": "e4377da2-251b-4e3d-ab15-dfbdf465c43d",
   "metadata": {},
   "outputs": [
    {
     "name": "stderr",
     "output_type": "stream",
     "text": [
      "C:\\Users\\AMunoz\\anaconda3\\Lib\\site-packages\\sklearn\\gaussian_process\\_gpr.py:663: ConvergenceWarning: lbfgs failed to converge (status=2):\n",
      "ABNORMAL_TERMINATION_IN_LNSRCH.\n",
      "\n",
      "Increase the number of iterations (max_iter) or scale the data as shown in:\n",
      "    https://scikit-learn.org/stable/modules/preprocessing.html\n",
      "  _check_optimize_result(\"lbfgs\", opt_res)\n"
     ]
    },
    {
     "data": {
      "text/plain": [
       "0.9666666666666667"
      ]
     },
     "execution_count": 20,
     "metadata": {},
     "output_type": "execute_result"
    }
   ],
   "source": [
    "for i in range(10):\n",
    "    y_pred, y_std = gp.predict(x_h, return_std=True)\n",
    "    y_pred_low=y_pred-1.96*y_std\n",
    "    y_pred_high=y_pred+1.96*y_std\n",
    "    i_next=np.argmax(y_pred_high-y_pred_low)\n",
    "    x_next=x_h[i_next]\n",
    "    modelo, f1=Bosque.RegresionBosque(X, y, int(x_next[0]), int(x_next[1]))\n",
    "    lista_f1.append(f1)\n",
    "    X_hiperparam=np.vstack((X_hiperparam, x_next))\n",
    "    gp.fit(X_hiperparam, lista_f1)\n",
    "mejor_f1=max(lista_f1)\n",
    "indice=lista_f1.index(mejor_f1)\n",
    "hiper=X_hiperparam[indice]\n",
    "\n",
    "mejor_f1\n",
    "    \n",
    "\n"
   ]
  },
  {
   "cell_type": "code",
   "execution_count": 22,
   "id": "f12d00e1-d2a1-429b-a41d-cc87d28021c0",
   "metadata": {},
   "outputs": [
    {
     "data": {
      "text/plain": [
       "4"
      ]
     },
     "execution_count": 22,
     "metadata": {},
     "output_type": "execute_result"
    }
   ],
   "source": [
    "indice"
   ]
  },
  {
   "cell_type": "code",
   "execution_count": 24,
   "id": "700d4727-cdb6-473c-983c-0b4829c364ff",
   "metadata": {},
   "outputs": [
    {
     "data": {
      "text/plain": [
       "array([42.,  2.])"
      ]
     },
     "execution_count": 24,
     "metadata": {},
     "output_type": "execute_result"
    }
   ],
   "source": [
    "hiper"
   ]
  },
  {
   "cell_type": "markdown",
   "id": "5e083a3c-fa68-4942-b5d3-f1f7130b4fbb",
   "metadata": {},
   "source": [
    "### Actividad 2:"
   ]
  },
  {
   "cell_type": "markdown",
   "id": "2817a47c-0081-4376-b222-c65735f4ab9d",
   "metadata": {},
   "source": [
    "Inicializa 2 vectores con posibles valores para las variables independientes:\n",
    "- árboles: números enteros entre 5 y 50\n",
    "- profundidad: números enteros entre 2 y 10\n",
    "\n",
    "Utiliza el algoritmo de Simulated Annealing que siga el siguiente orden:\n",
    "- Elige un punto de partida para las variables.\n",
    "- Selecciona al azar una de las dos para modificarlas.\n",
    "- Selecciona un elemento al azar de la lista que contiene los posibles valores de esa variable.\n",
    "- Sigue el algoritmo ($p$ y $q$) para decidir si usas esa combinación nueva o si mantienes la anterior."
   ]
  },
  {
   "cell_type": "code",
   "execution_count": null,
   "id": "e6286fe8-ec56-4871-9c31-8d4d3ca4c0ae",
   "metadata": {},
   "outputs": [],
   "source": [
    "import random\n",
    "\n",
    "X, y = datasets.load_iris(return_X_y=True)\n",
    "v_arboles=np.arange(5, 51)\n",
    "v_profundidad=np.arange(2, 11)\n",
    "#Parametros SA\n",
    "T_i=10\n",
    "T_min=.1\n",
    "alpha=.9\n",
    "#Partida\n",
    "a_actual=random.choice(v_arboles)\n",
    "p_actual=random.choice(v_profundidad)\n",
    "modelo, f1_actual=Bosque.RegresionBosque(X, y, a_actual, p_actual)\n",
    "\n",
    "#Función SA\n",
    "\n",
    "def a_new_f1(f1_actual, f1_new, T): \n",
    "    if f1_new>f1_actual: \n",
    "        return True\n",
    "    else:\n",
    "        p=exp((f1_new-f1_actual)/T)\n",
    "        return random.random()<p\n",
    "T=T_i\n",
    "best_f1=f1_actual\n",
    "best_h=(a_actual, p_actual)\n",
    "while T>T_min: \n",
    "    if random.choice([True, False]): #T para arboles, F para profunidad\n",
    "        new_a=random.choice(v_arboles)\n",
    "        new_p=p_actual\n",
    "    else: \n",
    "        new_a=a_actual\n",
    "        new_p=random.choice(v_profundidad)\n",
    "    modelo, new_f1= Bosque.RegresionBosque(X, y, new_a, new_p)\n",
    "    if a_new_f1(f1_actual, new_f1, T):\n",
    "        a_actual, p_actual=new_a, new_p\n",
    "        f1_actual=new_f1\n",
    "        if new_f1>best_f1: \n",
    "            best_f1=new_f1\n",
    "            best_h=(a_actual, p_actual)\n",
    "    T*=alpha\n",
    "best_f1\n",
    "                     "
   ]
  },
  {
   "cell_type": "code",
   "execution_count": null,
   "id": "00442559-60d2-440a-9ba0-5217ea775ac7",
   "metadata": {},
   "outputs": [],
   "source": [
    "best_h[0], best_h[1]"
   ]
  },
  {
   "cell_type": "code",
   "execution_count": null,
   "id": "cd0cac16-1225-400d-a8ad-ef5e99745791",
   "metadata": {},
   "outputs": [],
   "source": []
  }
 ],
 "metadata": {
  "kernelspec": {
   "display_name": "Python 3 (ipykernel)",
   "language": "python",
   "name": "python3"
  },
  "language_info": {
   "codemirror_mode": {
    "name": "ipython",
    "version": 3
   },
   "file_extension": ".py",
   "mimetype": "text/x-python",
   "name": "python",
   "nbconvert_exporter": "python",
   "pygments_lexer": "ipython3",
   "version": "3.12.4"
  }
 },
 "nbformat": 4,
 "nbformat_minor": 5
}
