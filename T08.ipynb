{
 "cells": [
  {
   "cell_type": "markdown",
   "id": "d71e8fab-b3a3-49c1-9e7a-321ff8bf0fad",
   "metadata": {},
   "source": [
    "# T08\n",
    "## Antonio Ortegón\n",
    "## 749730\n"
   ]
  },
  {
   "cell_type": "markdown",
   "id": "626adf71-653b-45f9-a94e-2deec8075cc6",
   "metadata": {},
   "source": [
    "1.- Un proyecto de construcción está por comenzar. Se hace la compra de los materiales y el proveedor dice que en promedio tardan una semana con una desviación de 3 días en llegar. Una vez llegados los materiales se tarda entre 3 y 5 semanas en construir (uniforme). Después de la construcción se deben esperar 3 días antes de empezar a pintar, y toma 6 días en promedio con 2 días de desviación estándar hacerlo."
   ]
  },
  {
   "cell_type": "markdown",
   "id": "43126130-d934-4dbf-a8bc-1674d7c9646e",
   "metadata": {},
   "source": [
    "a) Describe en una celda qué distribución usarías para cada paso del proceso\n",
    "\n",
    "normal, materiales y pintura\n",
    "\n",
    "Uniforme, hablamos de tiempo\n",
    "\n",
    "\n"
   ]
  },
  {
   "cell_type": "markdown",
   "id": "96264379-286b-4330-a8c4-0fb4ee6e8749",
   "metadata": {},
   "source": [
    "b) Simula cada paso en el proceso un millón de veces"
   ]
  },
  {
   "cell_type": "code",
   "execution_count": 16,
   "id": "ffeed950-b0b1-460c-b759-26c683c14737",
   "metadata": {},
   "outputs": [],
   "source": [
    "import numpy as np\n",
    "n=1000000\n",
    "# preguntar profe si utilizo los 7 días a la semana o solo 5\n",
    "mat=np.random.normal(7, 3, n) \n",
    "con=np.random.uniform(21, 35, n)\n",
    "pintar=np.random.normal(6, 2, n)"
   ]
  },
  {
   "cell_type": "markdown",
   "id": "100362af-b3a8-4141-bbfc-bb36838cfc85",
   "metadata": {},
   "source": [
    "c) Agrupa las simulaciones de cada paso para tener la simulación del proceso completo"
   ]
  },
  {
   "cell_type": "code",
   "execution_count": 19,
   "id": "6cf0b372-7964-43eb-9c0e-1aa3adb23a41",
   "metadata": {},
   "outputs": [
    {
     "data": {
      "text/plain": [
       "array([38.06883702, 44.34099365, 45.18668083, ..., 39.40265488,\n",
       "       36.7806129 , 56.2985492 ])"
      ]
     },
     "execution_count": 19,
     "metadata": {},
     "output_type": "execute_result"
    }
   ],
   "source": [
    "t=mat+con+3+pintar\n",
    "t"
   ]
  },
  {
   "cell_type": "markdown",
   "id": "669eec25-26f3-4247-9544-e86dba77af70",
   "metadata": {},
   "source": [
    "d) ¿Cuál es el tiempo promedio para de inicio-fin del proyecto?"
   ]
  },
  {
   "cell_type": "code",
   "execution_count": 22,
   "id": "6e820c56-9043-4894-bea1-cdc23abc0008",
   "metadata": {},
   "outputs": [
    {
     "data": {
      "text/plain": [
       "43.99357943567143"
      ]
     },
     "execution_count": 22,
     "metadata": {},
     "output_type": "execute_result"
    }
   ],
   "source": [
    "np.mean(t)"
   ]
  },
  {
   "cell_type": "markdown",
   "id": "12095e78-c6f3-406b-a7f3-d99240bea75f",
   "metadata": {},
   "source": [
    "e) De acuerdo a tus simulaciones, ¿cuál es el peor caso? ¿cuál es el mejor caso?"
   ]
  },
  {
   "cell_type": "code",
   "execution_count": 25,
   "id": "2e09917b-0a39-492b-b70e-5ebc98e29468",
   "metadata": {},
   "outputs": [
    {
     "data": {
      "text/plain": [
       "(66.00072345542799, 20.730712260793716)"
      ]
     },
     "execution_count": 25,
     "metadata": {},
     "output_type": "execute_result"
    }
   ],
   "source": [
    "np.max(t), np.min(t)"
   ]
  },
  {
   "cell_type": "markdown",
   "id": "0299a2ea-9b82-4b1e-881d-e99733ffdc22",
   "metadata": {},
   "source": [
    "f) Si el proyecto se tiene que entregar a más tardar en 50 días o se tiene que pagar una compensación al cliente, ¿cuál es la probabilidad de que el proyecto se entregue a tiempo?"
   ]
  },
  {
   "cell_type": "code",
   "execution_count": 31,
   "id": "5807a528-5d81-4dc2-9f42-a5855ebe8a7e",
   "metadata": {},
   "outputs": [
    {
     "data": {
      "text/plain": [
       "0.857638"
      ]
     },
     "execution_count": 31,
     "metadata": {},
     "output_type": "execute_result"
    }
   ],
   "source": [
    "temp = t <= 50\n",
    "temp = np.sum(temp)\n",
    "temp = temp/n\n",
    "temp"
   ]
  },
  {
   "cell_type": "code",
   "execution_count": null,
   "id": "9c79951b-25c8-4e2a-a3f7-fb2ee26dd128",
   "metadata": {},
   "outputs": [],
   "source": []
  },
  {
   "cell_type": "code",
   "execution_count": 14,
   "id": "a53ae5b6-ad56-4620-9052-23ace57ad8ee",
   "metadata": {},
   "outputs": [
    {
     "data": {
      "text/plain": [
       "0.856884"
      ]
     },
     "execution_count": 14,
     "metadata": {},
     "output_type": "execute_result"
    }
   ],
   "source": [
    "np.sum(t <= 50)/n"
   ]
  },
  {
   "cell_type": "markdown",
   "id": "81b64d93-f66c-4c8f-9526-b7ffd388ff90",
   "metadata": {},
   "source": [
    "g) ¿Cuál es la probabilidad de que el proyecto tome entre 20 y 40 días?"
   ]
  },
  {
   "cell_type": "code",
   "execution_count": 43,
   "id": "ab11dfac-760b-4b00-b855-b291a660b8ec",
   "metadata": {},
   "outputs": [
    {
     "data": {
      "text/plain": [
       "0.24401"
      ]
     },
     "execution_count": 43,
     "metadata": {},
     "output_type": "execute_result"
    }
   ],
   "source": [
    "temp = t >= 20\n",
    "temp2 = t <= 40\n",
    "dom=(temp == True) & (temp2 == True)\n",
    "np.mean(dom)"
   ]
  },
  {
   "cell_type": "code",
   "execution_count": 45,
   "id": "60132c7c-cf74-45fc-b447-882d81bf9f43",
   "metadata": {},
   "outputs": [
    {
     "data": {
      "text/plain": [
       "0.24401"
      ]
     },
     "execution_count": 45,
     "metadata": {},
     "output_type": "execute_result"
    }
   ],
   "source": [
    "np.sum((t >= 20) & (t <= 40))/ n "
   ]
  },
  {
   "cell_type": "markdown",
   "id": "9a2ba4b6-0f87-486b-93b6-b06ebfd7fcfa",
   "metadata": {},
   "source": [
    "2.- Hay un elevador pequeño en una plaza donde se espera que entren máximo 4 personas a la vez, y su capacidad de peso para poder operar es de 300 kg. En el último censo se encontró que habían 378350 personas en la zona:\n",
    "\n",
    "185392 mujeres\n",
    "\n",
    "162690 hombres\n",
    "\n",
    "30268 personas que o prefirieron no dar la información o se identificaron como no binarias\n",
    "\n",
    "El peso promedio medido en mujeres es de 70 kg con una desviación estándar de 11 kg. En los hombres se midió un peso promedio de 80 kg y una desviación estándar de 16 kg. En el tercer grupo se midió un peso promedio de 73 kg con una desviación estándar de 12 kg."
   ]
  },
  {
   "cell_type": "markdown",
   "id": "9a182700-8096-40f3-8b69-a7731639010f",
   "metadata": {},
   "source": [
    "a) Si el elevador se llenara 10,000 veces, ¿cuántas de esas veces se excedería el peso permitido?"
   ]
  },
  {
   "cell_type": "code",
   "execution_count": 94,
   "id": "faae36c4-30d0-4442-9870-397455a47822",
   "metadata": {},
   "outputs": [
    {
     "data": {
      "text/plain": [
       "4723"
      ]
     },
     "execution_count": 94,
     "metadata": {},
     "output_type": "execute_result"
    }
   ],
   "source": [
    "n=10000\n",
    "grupo=[]\n",
    "for j in range(n):\n",
    "    persona = 0\n",
    "    for i in range(4) :\n",
    "        g=np.random.choice([\"hombre\", \"mujer\", \"neutro\"], p=[.43, .49, .08]) #genero un grupo de personas de 4 los decimales son el porcentaje del total\n",
    "        if g == \"hombre\" :\n",
    "            persona+=np.random.normal(80, 16) #tenemos media y desviasión\n",
    "        elif g == \"mujer\" :\n",
    "            persona+=np.random.normal(70, 11)\n",
    "        else :\n",
    "            persona+=np.random.normal(73, 12)\n",
    "    grupo.append(persona)\n",
    "grupo=np.array(grupo)\n",
    "np.sum(grupo>300)\n"
   ]
  },
  {
   "cell_type": "markdown",
   "id": "957a40c3-30fc-43a1-a24c-f16209d5c06b",
   "metadata": {},
   "source": [
    "b) ¿Qué peso total tendría que soportar el elevador si se quiere que el 95% de las veces que se llene no se exceda el peso permitido?"
   ]
  },
  {
   "cell_type": "code",
   "execution_count": 96,
   "id": "504dce79-88be-49f1-ae0b-c106ec2c5c66",
   "metadata": {},
   "outputs": [
    {
     "data": {
      "text/plain": [
       "346.89733121147674"
      ]
     },
     "execution_count": 96,
     "metadata": {},
     "output_type": "execute_result"
    }
   ],
   "source": [
    "np.percentile(grupo, 95)"
   ]
  },
  {
   "cell_type": "markdown",
   "id": "0e7ad8cc-f2d4-4506-894e-74b12a58aec7",
   "metadata": {},
   "source": [
    "3.- Tienes diez dados justos. Si arrojas todos al mismo tiempo, ¿cuál es la probabilidad de que la suma de los dados sea múltiplo de 6?"
   ]
  },
  {
   "cell_type": "code",
   "execution_count": 46,
   "id": "e3b3c257-5a01-4b5f-88b0-b1d51a546596",
   "metadata": {},
   "outputs": [
    {
     "data": {
      "text/plain": [
       "1754"
      ]
     },
     "execution_count": 46,
     "metadata": {},
     "output_type": "execute_result"
    }
   ],
   "source": [
    "n=10000\n",
    "d1=np.random.randint(1, 7, n)\n",
    "np.sum(d1%6==0)"
   ]
  },
  {
   "cell_type": "markdown",
   "id": "b77b1d45-a6f1-4be4-8513-d90d75d86f0a",
   "metadata": {},
   "source": [
    "4.- A y B juegan al siguiente juego: un número k del 1 al 6 es elegido, y A y B avientan el dado por turnos hasta que alguien consiga que el dado caiga en k. El ganador recibe $100."
   ]
  },
  {
   "cell_type": "code",
   "execution_count": 171,
   "id": "a8f82190-826f-4cb4-b73b-79ce578f1501",
   "metadata": {},
   "outputs": [],
   "source": [
    "#jugador 'x' = a\n",
    "#inicio\n",
    "#    jugador 'x' tira\n",
    "#    gano? sí : fin\n",
    "#    no: cambio de jugador 'x'\n",
    "\n",
    "\n",
    "\n",
    "\n",
    "n=10000\n",
    "a=0\n",
    "b=0\n",
    "turno = 'a'\n",
    "for i in range(n): \n",
    "    k=np.random.randint(1, 7)\n",
    "    while True:\n",
    "        d = np.random.randint(1, 7)\n",
    "        if d==k:\n",
    "            if turno == 'a' : a+=1\n",
    "            else : b+=1\n",
    "            break\n",
    "        if turno == 'a' : turno = 'b'\n",
    "        else : turno = 'a'\n",
    "      "
   ]
  },
  {
   "cell_type": "markdown",
   "id": "789e1381-e3cf-46e2-9d95-d0a3611ca6ee",
   "metadata": {},
   "source": [
    "a) ¿Cuál es la probabilidad de que el primer jugador gane?"
   ]
  },
  {
   "cell_type": "code",
   "execution_count": 174,
   "id": "896f5ce4-16c9-4918-b2bd-3a8ae009a5eb",
   "metadata": {},
   "outputs": [
    {
     "data": {
      "text/plain": [
       "0.5017"
      ]
     },
     "execution_count": 174,
     "metadata": {},
     "output_type": "execute_result"
    }
   ],
   "source": [
    "a/n"
   ]
  },
  {
   "cell_type": "markdown",
   "id": "3e755be0-fb4e-4a45-a09b-849dd93e26ab",
   "metadata": {},
   "source": [
    "b) ¿Cuál es la probabilidad de que el segundo jugador gane?"
   ]
  },
  {
   "cell_type": "code",
   "execution_count": 177,
   "id": "a9f1fa75-f282-40b3-bc44-6fbe28a5c6ee",
   "metadata": {},
   "outputs": [
    {
     "data": {
      "text/plain": [
       "0.4983"
      ]
     },
     "execution_count": 177,
     "metadata": {},
     "output_type": "execute_result"
    }
   ],
   "source": [
    "b/n"
   ]
  },
  {
   "cell_type": "markdown",
   "id": "a374b3c2-c3c9-4b67-ab5f-4192664e5d2b",
   "metadata": {},
   "source": [
    "c) ¿Cuánto vale la pena pagar para ir primero?"
   ]
  },
  {
   "cell_type": "code",
   "execution_count": 179,
   "id": "fb1468a2-8757-42ec-982a-da7f1e046187",
   "metadata": {},
   "outputs": [
    {
     "data": {
      "text/plain": [
       "0.5454545454545454"
      ]
     },
     "execution_count": 179,
     "metadata": {},
     "output_type": "execute_result"
    }
   ],
   "source": [
    "6/11"
   ]
  },
  {
   "cell_type": "code",
   "execution_count": 181,
   "id": "94aef9bf-819b-4168-abd7-307f02e5c116",
   "metadata": {},
   "outputs": [
    {
     "data": {
      "text/plain": [
       "0.45454545454545453"
      ]
     },
     "execution_count": 181,
     "metadata": {},
     "output_type": "execute_result"
    }
   ],
   "source": [
    "5/11"
   ]
  },
  {
   "cell_type": "code",
   "execution_count": 183,
   "id": "714fc540-33ba-41ad-ab1f-93200c7967ba",
   "metadata": {},
   "outputs": [
    {
     "data": {
      "text/plain": [
       "0.09090909090909091"
      ]
     },
     "execution_count": 183,
     "metadata": {},
     "output_type": "execute_result"
    }
   ],
   "source": [
    "1/11"
   ]
  },
  {
   "cell_type": "markdown",
   "id": "6ec5bcbd-2c46-464d-a0a1-1c0b324d2ac1",
   "metadata": {},
   "source": [
    "Si el jugador 1 escoge tiene un 9% más si tira antes que el jugador b"
   ]
  },
  {
   "cell_type": "code",
   "execution_count": null,
   "id": "5f34d7d9-4bbf-4386-b90f-eb822eaab0b8",
   "metadata": {},
   "outputs": [],
   "source": []
  }
 ],
 "metadata": {
  "kernelspec": {
   "display_name": "Python 3 (ipykernel)",
   "language": "python",
   "name": "python3"
  },
  "language_info": {
   "codemirror_mode": {
    "name": "ipython",
    "version": 3
   },
   "file_extension": ".py",
   "mimetype": "text/x-python",
   "name": "python",
   "nbconvert_exporter": "python",
   "pygments_lexer": "ipython3",
   "version": "3.12.4"
  }
 },
 "nbformat": 4,
 "nbformat_minor": 5
}
