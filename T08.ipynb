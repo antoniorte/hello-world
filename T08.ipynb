{
  "cells": [
    {
      "cell_type": "markdown",
      "id": "d71e8fab-b3a3-49c1-9e7a-321ff8bf0fad",
      "metadata": {
        "id": "d71e8fab-b3a3-49c1-9e7a-321ff8bf0fad"
      },
      "source": [
        "# T08\n",
        "## Antonio Ortegón\n",
        "## 749730\n"
      ]
    },
    {
      "cell_type": "markdown",
      "id": "626adf71-653b-45f9-a94e-2deec8075cc6",
      "metadata": {
        "id": "626adf71-653b-45f9-a94e-2deec8075cc6"
      },
      "source": [
        "1.- Un proyecto de construcción está por comenzar. Se hace la compra de los materiales y el proveedor dice que en promedio tardan una semana con una desviación de 3 días en llegar. Una vez llegados los materiales se tarda entre 3 y 5 semanas en construir (uniforme). Después de la construcción se deben esperar 3 días antes de empezar a pintar, y toma 6 días en promedio con 2 días de desviación estándar hacerlo."
      ]
    },
    {
      "cell_type": "markdown",
      "id": "43126130-d934-4dbf-a8bc-1674d7c9646e",
      "metadata": {
        "id": "43126130-d934-4dbf-a8bc-1674d7c9646e"
      },
      "source": [
        "a) Describe en una celda qué distribución usarías para cada paso del proceso\n",
        "\n",
        "normal, materiales y pintura\n",
        "\n",
        "Uniforme, hablamos de tiempo\n",
        "\n",
        "\n"
      ]
    },
    {
      "cell_type": "markdown",
      "id": "96264379-286b-4330-a8c4-0fb4ee6e8749",
      "metadata": {
        "id": "96264379-286b-4330-a8c4-0fb4ee6e8749"
      },
      "source": [
        "b) Simula cada paso en el proceso un millón de veces"
      ]
    },
    {
      "cell_type": "code",
      "execution_count": null,
      "id": "ffeed950-b0b1-460c-b759-26c683c14737",
      "metadata": {
        "id": "ffeed950-b0b1-460c-b759-26c683c14737"
      },
      "outputs": [],
      "source": [
        "import numpy as np\n",
        "n=1000000\n",
        "# preguntar profe si utilizo los 7 días a la semana o solo 5\n",
        "mat=np.random.normal(7, 3, n)\n",
        "con=np.random.uniform(21, 35, n)\n",
        "pintar=np.random.normal(6, 2, n)"
      ]
    },
    {
      "cell_type": "markdown",
      "id": "100362af-b3a8-4141-bbfc-bb36838cfc85",
      "metadata": {
        "id": "100362af-b3a8-4141-bbfc-bb36838cfc85"
      },
      "source": [
        "c) Agrupa las simulaciones de cada paso para tener la simulación del proceso completo"
      ]
    },
    {
      "cell_type": "code",
      "execution_count": null,
      "id": "6cf0b372-7964-43eb-9c0e-1aa3adb23a41",
      "metadata": {
        "colab": {
          "base_uri": "https://localhost:8080/"
        },
        "id": "6cf0b372-7964-43eb-9c0e-1aa3adb23a41",
        "outputId": "ac058614-ede6-42a0-b7c0-d9e852c34e6e"
      },
      "outputs": [
        {
          "output_type": "execute_result",
          "data": {
            "text/plain": [
              "array([38.35107872, 36.30245324, 40.45091116, ..., 49.38480746,\n",
              "       34.87986638, 52.46252506])"
            ]
          },
          "metadata": {},
          "execution_count": 2
        }
      ],
      "source": [
        "t=mat+con+3+pintar\n",
        "t"
      ]
    },
    {
      "cell_type": "markdown",
      "id": "669eec25-26f3-4247-9544-e86dba77af70",
      "metadata": {
        "id": "669eec25-26f3-4247-9544-e86dba77af70"
      },
      "source": [
        "d) ¿Cuál es el tiempo promedio para de inicio-fin del proyecto?"
      ]
    },
    {
      "cell_type": "code",
      "execution_count": null,
      "id": "6e820c56-9043-4894-bea1-cdc23abc0008",
      "metadata": {
        "colab": {
          "base_uri": "https://localhost:8080/"
        },
        "id": "6e820c56-9043-4894-bea1-cdc23abc0008",
        "outputId": "f4776dc1-63dc-4eea-93d4-c40af76f6556"
      },
      "outputs": [
        {
          "output_type": "execute_result",
          "data": {
            "text/plain": [
              "43.989738116871344"
            ]
          },
          "metadata": {},
          "execution_count": 3
        }
      ],
      "source": [
        "np.mean(t)"
      ]
    },
    {
      "cell_type": "markdown",
      "id": "12095e78-c6f3-406b-a7f3-d99240bea75f",
      "metadata": {
        "id": "12095e78-c6f3-406b-a7f3-d99240bea75f"
      },
      "source": [
        "e) De acuerdo a tus simulaciones, ¿cuál es el peor caso? ¿cuál es el mejor caso?"
      ]
    },
    {
      "cell_type": "code",
      "execution_count": null,
      "id": "2e09917b-0a39-492b-b70e-5ebc98e29468",
      "metadata": {
        "colab": {
          "base_uri": "https://localhost:8080/"
        },
        "id": "2e09917b-0a39-492b-b70e-5ebc98e29468",
        "outputId": "0a1b268b-c7c0-410b-ff90-91f5d9f79a92"
      },
      "outputs": [
        {
          "output_type": "execute_result",
          "data": {
            "text/plain": [
              "(67.3915571885348, 22.05524516101733)"
            ]
          },
          "metadata": {},
          "execution_count": 4
        }
      ],
      "source": [
        "np.max(t), np.min(t)"
      ]
    },
    {
      "cell_type": "markdown",
      "id": "0299a2ea-9b82-4b1e-881d-e99733ffdc22",
      "metadata": {
        "id": "0299a2ea-9b82-4b1e-881d-e99733ffdc22"
      },
      "source": [
        "f) Si el proyecto se tiene que entregar a más tardar en 50 días o se tiene que pagar una compensación al cliente, ¿cuál es la probabilidad de que el proyecto se entregue a tiempo?"
      ]
    },
    {
      "cell_type": "code",
      "execution_count": null,
      "id": "5807a528-5d81-4dc2-9f42-a5855ebe8a7e",
      "metadata": {
        "colab": {
          "base_uri": "https://localhost:8080/"
        },
        "id": "5807a528-5d81-4dc2-9f42-a5855ebe8a7e",
        "outputId": "77b184e1-5e69-4e0b-c743-e9cefe2b3508"
      },
      "outputs": [
        {
          "output_type": "execute_result",
          "data": {
            "text/plain": [
              "0.858269"
            ]
          },
          "metadata": {},
          "execution_count": 5
        }
      ],
      "source": [
        "temp = t <= 50\n",
        "temp = np.sum(temp)\n",
        "temp = temp/n\n",
        "temp"
      ]
    },
    {
      "cell_type": "code",
      "execution_count": null,
      "id": "9c79951b-25c8-4e2a-a3f7-fb2ee26dd128",
      "metadata": {
        "id": "9c79951b-25c8-4e2a-a3f7-fb2ee26dd128"
      },
      "outputs": [],
      "source": []
    },
    {
      "cell_type": "code",
      "execution_count": null,
      "id": "a53ae5b6-ad56-4620-9052-23ace57ad8ee",
      "metadata": {
        "colab": {
          "base_uri": "https://localhost:8080/"
        },
        "id": "a53ae5b6-ad56-4620-9052-23ace57ad8ee",
        "outputId": "76cb697a-1cfe-413a-8286-922330a2a06e"
      },
      "outputs": [
        {
          "output_type": "execute_result",
          "data": {
            "text/plain": [
              "0.858269"
            ]
          },
          "metadata": {},
          "execution_count": 6
        }
      ],
      "source": [
        "np.sum(t <= 50)/n"
      ]
    },
    {
      "cell_type": "markdown",
      "id": "81b64d93-f66c-4c8f-9526-b7ffd388ff90",
      "metadata": {
        "id": "81b64d93-f66c-4c8f-9526-b7ffd388ff90"
      },
      "source": [
        "g) ¿Cuál es la probabilidad de que el proyecto tome entre 20 y 40 días?"
      ]
    },
    {
      "cell_type": "code",
      "execution_count": null,
      "id": "ab11dfac-760b-4b00-b855-b291a660b8ec",
      "metadata": {
        "colab": {
          "base_uri": "https://localhost:8080/"
        },
        "id": "ab11dfac-760b-4b00-b855-b291a660b8ec",
        "outputId": "068fe773-7db4-42dc-9eac-5c448e36a830"
      },
      "outputs": [
        {
          "output_type": "execute_result",
          "data": {
            "text/plain": [
              "0.244313"
            ]
          },
          "metadata": {},
          "execution_count": 7
        }
      ],
      "source": [
        "temp = t >= 20\n",
        "temp2 = t <= 40\n",
        "dom=(temp == True) & (temp2 == True)\n",
        "np.mean(dom)"
      ]
    },
    {
      "cell_type": "code",
      "execution_count": null,
      "id": "60132c7c-cf74-45fc-b447-882d81bf9f43",
      "metadata": {
        "colab": {
          "base_uri": "https://localhost:8080/"
        },
        "id": "60132c7c-cf74-45fc-b447-882d81bf9f43",
        "outputId": "4e0c99d5-ed89-45f0-d369-0ac2b8a15806"
      },
      "outputs": [
        {
          "output_type": "execute_result",
          "data": {
            "text/plain": [
              "0.244313"
            ]
          },
          "metadata": {},
          "execution_count": 8
        }
      ],
      "source": [
        "np.sum((t >= 20) & (t <= 40))/ n"
      ]
    },
    {
      "cell_type": "markdown",
      "id": "9a2ba4b6-0f87-486b-93b6-b06ebfd7fcfa",
      "metadata": {
        "id": "9a2ba4b6-0f87-486b-93b6-b06ebfd7fcfa"
      },
      "source": [
        "2.- Hay un elevador pequeño en una plaza donde se espera que entren máximo 4 personas a la vez, y su capacidad de peso para poder operar es de 300 kg. En el último censo se encontró que habían 378350 personas en la zona:\n",
        "\n",
        "185392 mujeres\n",
        "\n",
        "162690 hombres\n",
        "\n",
        "30268 personas que o prefirieron no dar la información o se identificaron como no binarias\n",
        "\n",
        "El peso promedio medido en mujeres es de 70 kg con una desviación estándar de 11 kg. En los hombres se midió un peso promedio de 80 kg y una desviación estándar de 16 kg. En el tercer grupo se midió un peso promedio de 73 kg con una desviación estándar de 12 kg."
      ]
    },
    {
      "cell_type": "markdown",
      "id": "9a182700-8096-40f3-8b69-a7731639010f",
      "metadata": {
        "id": "9a182700-8096-40f3-8b69-a7731639010f"
      },
      "source": [
        "a) Si el elevador se llenara 10,000 veces, ¿cuántas de esas veces se excedería el peso permitido?"
      ]
    },
    {
      "cell_type": "code",
      "execution_count": null,
      "id": "faae36c4-30d0-4442-9870-397455a47822",
      "metadata": {
        "colab": {
          "base_uri": "https://localhost:8080/"
        },
        "id": "faae36c4-30d0-4442-9870-397455a47822",
        "outputId": "18f9fc33-e0a1-4da3-a74d-c8795df9ccd2"
      },
      "outputs": [
        {
          "output_type": "execute_result",
          "data": {
            "text/plain": [
              "4526"
            ]
          },
          "metadata": {},
          "execution_count": 9
        }
      ],
      "source": [
        "n=10000\n",
        "grupo=[]\n",
        "for j in range(n):\n",
        "    persona = 0\n",
        "    for i in range(4) :\n",
        "        g=np.random.choice([\"hombre\", \"mujer\", \"neutro\"], p=[.43, .49, .08]) #genero un grupo de personas de 4 los decimales son el porcentaje del total\n",
        "        if g == \"hombre\" :\n",
        "            persona+=np.random.normal(80, 16) #tenemos media y desviasión\n",
        "        elif g == \"mujer\" :\n",
        "            persona+=np.random.normal(70, 11)\n",
        "        else :\n",
        "            persona+=np.random.normal(73, 12)\n",
        "    grupo.append(persona)\n",
        "grupo=np.array(grupo)\n",
        "np.sum(grupo>300)\n"
      ]
    },
    {
      "cell_type": "markdown",
      "id": "957a40c3-30fc-43a1-a24c-f16209d5c06b",
      "metadata": {
        "id": "957a40c3-30fc-43a1-a24c-f16209d5c06b"
      },
      "source": [
        "b) ¿Qué peso total tendría que soportar el elevador si se quiere que el 95% de las veces que se llene no se exceda el peso permitido?"
      ]
    },
    {
      "cell_type": "code",
      "execution_count": null,
      "id": "504dce79-88be-49f1-ae0b-c106ec2c5c66",
      "metadata": {
        "colab": {
          "base_uri": "https://localhost:8080/"
        },
        "id": "504dce79-88be-49f1-ae0b-c106ec2c5c66",
        "outputId": "6a0dab25-163a-48e6-e10f-d1fb825d5593"
      },
      "outputs": [
        {
          "output_type": "execute_result",
          "data": {
            "text/plain": [
              "346.19157081249995"
            ]
          },
          "metadata": {},
          "execution_count": 10
        }
      ],
      "source": [
        "\n",
        "np.percentile(grupo, 95)"
      ]
    },
    {
      "cell_type": "markdown",
      "id": "0e7ad8cc-f2d4-4506-894e-74b12a58aec7",
      "metadata": {
        "id": "0e7ad8cc-f2d4-4506-894e-74b12a58aec7"
      },
      "source": [
        "3.- Tienes diez dados justos. Si arrojas todos al mismo tiempo, ¿cuál es la probabilidad de que la suma de los dados sea múltiplo de 6?"
      ]
    },
    {
      "cell_type": "code",
      "execution_count": null,
      "id": "e3b3c257-5a01-4b5f-88b0-b1d51a546596",
      "metadata": {
        "colab": {
          "base_uri": "https://localhost:8080/"
        },
        "id": "e3b3c257-5a01-4b5f-88b0-b1d51a546596",
        "outputId": "38014ff2-6709-448a-b703-8de135274740"
      },
      "outputs": [
        {
          "output_type": "execute_result",
          "data": {
            "text/plain": [
              "1708"
            ]
          },
          "metadata": {},
          "execution_count": 11
        }
      ],
      "source": [
        "n=10000\n",
        "d1=np.random.randint(1, 7, n)\n",
        "np.sum(d1%6==0)"
      ]
    },
    {
      "cell_type": "markdown",
      "id": "b77b1d45-a6f1-4be4-8513-d90d75d86f0a",
      "metadata": {
        "id": "b77b1d45-a6f1-4be4-8513-d90d75d86f0a"
      },
      "source": [
        "4.- A y B juegan al siguiente juego: un número k del 1 al 6 es elegido, y A y B avientan el dado por turnos hasta que alguien consiga que el dado caiga en k. El ganador recibe $100."
      ]
    },
    {
      "cell_type": "code",
      "execution_count": null,
      "id": "a8f82190-826f-4cb4-b73b-79ce578f1501",
      "metadata": {
        "id": "a8f82190-826f-4cb4-b73b-79ce578f1501"
      },
      "outputs": [],
      "source": [
        "#jugador 'x' = a\n",
        "#inicio\n",
        "#    jugador 'x' tira\n",
        "#    gano? sí : fin\n",
        "#    no: cambio de jugador 'x'\n",
        "\n",
        "\n",
        "\n",
        "\n",
        "n=10000\n",
        "a=0\n",
        "b=0\n",
        "\n",
        "for i in range(n):\n",
        "    turno = 'a'\n",
        "    k=np.random.randint(1, 7)\n",
        "    while True:\n",
        "        d = np.random.randint(1, 7)\n",
        "        if d==k:\n",
        "            if turno == 'a' : a+=1\n",
        "            else : b+=1\n",
        "            break\n",
        "        if turno == 'a' : turno = 'b'\n",
        "        else : turno = 'a'\n"
      ]
    },
    {
      "cell_type": "markdown",
      "id": "789e1381-e3cf-46e2-9d95-d0a3611ca6ee",
      "metadata": {
        "id": "789e1381-e3cf-46e2-9d95-d0a3611ca6ee"
      },
      "source": [
        "a) ¿Cuál es la probabilidad de que el primer jugador gane?"
      ]
    },
    {
      "cell_type": "code",
      "execution_count": null,
      "id": "896f5ce4-16c9-4918-b2bd-3a8ae009a5eb",
      "metadata": {
        "colab": {
          "base_uri": "https://localhost:8080/"
        },
        "id": "896f5ce4-16c9-4918-b2bd-3a8ae009a5eb",
        "outputId": "4a06e5ef-c505-4886-a45e-488c72bd77f2"
      },
      "outputs": [
        {
          "output_type": "execute_result",
          "data": {
            "text/plain": [
              "0.542"
            ]
          },
          "metadata": {},
          "execution_count": 19
        }
      ],
      "source": [
        "a/n"
      ]
    },
    {
      "cell_type": "markdown",
      "id": "3e755be0-fb4e-4a45-a09b-849dd93e26ab",
      "metadata": {
        "id": "3e755be0-fb4e-4a45-a09b-849dd93e26ab"
      },
      "source": [
        "b) ¿Cuál es la probabilidad de que el segundo jugador gane?"
      ]
    },
    {
      "cell_type": "code",
      "execution_count": null,
      "id": "a9f1fa75-f282-40b3-bc44-6fbe28a5c6ee",
      "metadata": {
        "colab": {
          "base_uri": "https://localhost:8080/"
        },
        "id": "a9f1fa75-f282-40b3-bc44-6fbe28a5c6ee",
        "outputId": "1ee7f9b7-8ad1-4d9f-c765-56296b254bc2"
      },
      "outputs": [
        {
          "output_type": "execute_result",
          "data": {
            "text/plain": [
              "0.458"
            ]
          },
          "metadata": {},
          "execution_count": 20
        }
      ],
      "source": [
        "b/n"
      ]
    },
    {
      "cell_type": "markdown",
      "id": "a374b3c2-c3c9-4b67-ab5f-4192664e5d2b",
      "metadata": {
        "id": "a374b3c2-c3c9-4b67-ab5f-4192664e5d2b"
      },
      "source": [
        "c) ¿Cuánto vale la pena pagar para ir primero?"
      ]
    },
    {
      "cell_type": "code",
      "execution_count": null,
      "id": "fb1468a2-8757-42ec-982a-da7f1e046187",
      "metadata": {
        "colab": {
          "base_uri": "https://localhost:8080/"
        },
        "id": "fb1468a2-8757-42ec-982a-da7f1e046187",
        "outputId": "9080756f-6737-4b9d-b203-275c34969688"
      },
      "outputs": [
        {
          "output_type": "execute_result",
          "data": {
            "text/plain": [
              "0.5454545454545454"
            ]
          },
          "metadata": {},
          "execution_count": 15
        }
      ],
      "source": [
        "6/11"
      ]
    },
    {
      "cell_type": "code",
      "execution_count": null,
      "id": "94aef9bf-819b-4168-abd7-307f02e5c116",
      "metadata": {
        "colab": {
          "base_uri": "https://localhost:8080/"
        },
        "id": "94aef9bf-819b-4168-abd7-307f02e5c116",
        "outputId": "e6ce2ec9-eb3d-4056-b4cc-9af70ffdcf1b"
      },
      "outputs": [
        {
          "output_type": "execute_result",
          "data": {
            "text/plain": [
              "0.45454545454545453"
            ]
          },
          "metadata": {},
          "execution_count": 16
        }
      ],
      "source": [
        "5/11"
      ]
    },
    {
      "cell_type": "code",
      "execution_count": null,
      "id": "714fc540-33ba-41ad-ab1f-93200c7967ba",
      "metadata": {
        "colab": {
          "base_uri": "https://localhost:8080/"
        },
        "id": "714fc540-33ba-41ad-ab1f-93200c7967ba",
        "outputId": "5f55d7e2-51cb-455b-97e4-a9ce6e518b11"
      },
      "outputs": [
        {
          "output_type": "execute_result",
          "data": {
            "text/plain": [
              "0.09090909090909091"
            ]
          },
          "metadata": {},
          "execution_count": 17
        }
      ],
      "source": [
        "1/11"
      ]
    },
    {
      "cell_type": "markdown",
      "id": "6ec5bcbd-2c46-464d-a0a1-1c0b324d2ac1",
      "metadata": {
        "id": "6ec5bcbd-2c46-464d-a0a1-1c0b324d2ac1"
      },
      "source": [
        "Si el jugador 1 escoge tiene un 9% más si tira antes que el jugador b"
      ]
    },
    {
      "cell_type": "code",
      "execution_count": null,
      "id": "5f34d7d9-4bbf-4386-b90f-eb822eaab0b8",
      "metadata": {
        "id": "5f34d7d9-4bbf-4386-b90f-eb822eaab0b8"
      },
      "outputs": [],
      "source": []
    }
  ],
  "metadata": {
    "kernelspec": {
      "display_name": "Python 3 (ipykernel)",
      "language": "python",
      "name": "python3"
    },
    "language_info": {
      "codemirror_mode": {
        "name": "ipython",
        "version": 3
      },
      "file_extension": ".py",
      "mimetype": "text/x-python",
      "name": "python",
      "nbconvert_exporter": "python",
      "pygments_lexer": "ipython3",
      "version": "3.12.4"
    },
    "colab": {
      "provenance": []
    }
  },
  "nbformat": 4,
  "nbformat_minor": 5
}