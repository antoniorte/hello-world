{
 "cells": [
  {
   "cell_type": "markdown",
   "id": "d76090e0-e6ed-4b3a-ad35-951cb1621ca2",
   "metadata": {},
   "source": [
    "# Problema del viajante"
   ]
  },
  {
   "cell_type": "markdown",
   "id": "b614eba1-92a2-4a90-b174-c3de5f619c89",
   "metadata": {},
   "source": [
    "Crédito al profesor **Fernando Ignacio Becerra López**. Actividad adaptada de su curso IDI1."
   ]
  },
  {
   "cell_type": "markdown",
   "id": "a8cf7c21-5c1a-45bf-a905-72a23bc42de2",
   "metadata": {},
   "source": [
    "## Planteamiento"
   ]
  },
  {
   "cell_type": "markdown",
   "id": "a129754f-fecf-4473-a599-ed25bacd6994",
   "metadata": {},
   "source": [
    "Eres un agente de viajes / alguien que quiere viajar, y tienes una lista de ciudades destino. Quieres planear una ruta cíclica que visite todas las ciudades, pero quieres optimizar o tiempo de viaje o costos de viaje (o una combinación de ambas).\n",
    "\n",
    "¿Cuál es el mejor orden para visitar todas estas ciudades?"
   ]
  },
  {
   "cell_type": "markdown",
   "id": "4e92e822-22c0-4976-9f6e-a37f4c74f831",
   "metadata": {},
   "source": [
    "1. Toma el archivo `datosCT.xlsx` y lee la hoja `8c` utilizando `pandas`.\n",
    "\n",
    "`nombre_de_variable = pd.read_excel(\"datosCT.xlsx\", sheet_name=\"8c\").set_index(\"Unnamed: 0\")`\n",
    "\n",
    "Imprime la tabla resultante."
   ]
  },
  {
   "cell_type": "code",
   "execution_count": 1,
   "id": "5e873f05-a919-4380-b160-cb1c4606ea39",
   "metadata": {},
   "outputs": [
    {
     "data": {
      "text/html": [
       "<div>\n",
       "<style scoped>\n",
       "    .dataframe tbody tr th:only-of-type {\n",
       "        vertical-align: middle;\n",
       "    }\n",
       "\n",
       "    .dataframe tbody tr th {\n",
       "        vertical-align: top;\n",
       "    }\n",
       "\n",
       "    .dataframe thead th {\n",
       "        text-align: right;\n",
       "    }\n",
       "</style>\n",
       "<table border=\"1\" class=\"dataframe\">\n",
       "  <thead>\n",
       "    <tr style=\"text-align: right;\">\n",
       "      <th></th>\n",
       "      <th>Tijuana</th>\n",
       "      <th>Mérida</th>\n",
       "      <th>GDL</th>\n",
       "      <th>México</th>\n",
       "      <th>León</th>\n",
       "      <th>Monterrey</th>\n",
       "      <th>Tapachula</th>\n",
       "      <th>Chihuahua</th>\n",
       "    </tr>\n",
       "    <tr>\n",
       "      <th>Unnamed: 0</th>\n",
       "      <th></th>\n",
       "      <th></th>\n",
       "      <th></th>\n",
       "      <th></th>\n",
       "      <th></th>\n",
       "      <th></th>\n",
       "      <th></th>\n",
       "      <th></th>\n",
       "    </tr>\n",
       "  </thead>\n",
       "  <tbody>\n",
       "    <tr>\n",
       "      <th>Tijuana</th>\n",
       "      <td>0</td>\n",
       "      <td>4180</td>\n",
       "      <td>2306</td>\n",
       "      <td>2848</td>\n",
       "      <td>2529</td>\n",
       "      <td>2409</td>\n",
       "      <td>4005</td>\n",
       "      <td>1583</td>\n",
       "    </tr>\n",
       "    <tr>\n",
       "      <th>Mérida</th>\n",
       "      <td>4180</td>\n",
       "      <td>0</td>\n",
       "      <td>1874</td>\n",
       "      <td>1332</td>\n",
       "      <td>1719</td>\n",
       "      <td>2046</td>\n",
       "      <td>1062</td>\n",
       "      <td>2819</td>\n",
       "    </tr>\n",
       "    <tr>\n",
       "      <th>GDL</th>\n",
       "      <td>2306</td>\n",
       "      <td>1874</td>\n",
       "      <td>0</td>\n",
       "      <td>542</td>\n",
       "      <td>223</td>\n",
       "      <td>789</td>\n",
       "      <td>1699</td>\n",
       "      <td>1202</td>\n",
       "    </tr>\n",
       "    <tr>\n",
       "      <th>México</th>\n",
       "      <td>2848</td>\n",
       "      <td>1332</td>\n",
       "      <td>542</td>\n",
       "      <td>0</td>\n",
       "      <td>389</td>\n",
       "      <td>933</td>\n",
       "      <td>1157</td>\n",
       "      <td>1487</td>\n",
       "    </tr>\n",
       "    <tr>\n",
       "      <th>León</th>\n",
       "      <td>2529</td>\n",
       "      <td>1719</td>\n",
       "      <td>223</td>\n",
       "      <td>389</td>\n",
       "      <td>0</td>\n",
       "      <td>711</td>\n",
       "      <td>1544</td>\n",
       "      <td>1140</td>\n",
       "    </tr>\n",
       "    <tr>\n",
       "      <th>Monterrey</th>\n",
       "      <td>2409</td>\n",
       "      <td>2046</td>\n",
       "      <td>789</td>\n",
       "      <td>933</td>\n",
       "      <td>711</td>\n",
       "      <td>0</td>\n",
       "      <td>1803</td>\n",
       "      <td>826</td>\n",
       "    </tr>\n",
       "    <tr>\n",
       "      <th>Tapachula</th>\n",
       "      <td>4005</td>\n",
       "      <td>1062</td>\n",
       "      <td>1699</td>\n",
       "      <td>1157</td>\n",
       "      <td>1544</td>\n",
       "      <td>1803</td>\n",
       "      <td>0</td>\n",
       "      <td>2644</td>\n",
       "    </tr>\n",
       "    <tr>\n",
       "      <th>Chihuahua</th>\n",
       "      <td>1583</td>\n",
       "      <td>2819</td>\n",
       "      <td>1202</td>\n",
       "      <td>1487</td>\n",
       "      <td>1140</td>\n",
       "      <td>826</td>\n",
       "      <td>2644</td>\n",
       "      <td>0</td>\n",
       "    </tr>\n",
       "  </tbody>\n",
       "</table>\n",
       "</div>"
      ],
      "text/plain": [
       "            Tijuana  Mérida   GDL  México  León  Monterrey  Tapachula  \\\n",
       "Unnamed: 0                                                              \n",
       "Tijuana           0    4180  2306    2848  2529       2409       4005   \n",
       "Mérida         4180       0  1874    1332  1719       2046       1062   \n",
       "GDL            2306    1874     0     542   223        789       1699   \n",
       "México         2848    1332   542       0   389        933       1157   \n",
       "León           2529    1719   223     389     0        711       1544   \n",
       "Monterrey      2409    2046   789     933   711          0       1803   \n",
       "Tapachula      4005    1062  1699    1157  1544       1803          0   \n",
       "Chihuahua      1583    2819  1202    1487  1140        826       2644   \n",
       "\n",
       "            Chihuahua  \n",
       "Unnamed: 0             \n",
       "Tijuana          1583  \n",
       "Mérida           2819  \n",
       "GDL              1202  \n",
       "México           1487  \n",
       "León             1140  \n",
       "Monterrey         826  \n",
       "Tapachula        2644  \n",
       "Chihuahua           0  "
      ]
     },
     "execution_count": 1,
     "metadata": {},
     "output_type": "execute_result"
    }
   ],
   "source": [
    "import pandas as pd\n",
    "var= pd.read_excel(\"datosCT.xlsx\", sheet_name=\"8c\").set_index(\"Unnamed: 0\")\n",
    "var"
   ]
  },
  {
   "cell_type": "markdown",
   "id": "57788b70-c8a2-427a-9468-6c802086275b",
   "metadata": {},
   "source": [
    "La tabla contiene una matriz de la distancia de recorrido entre cada ciudad. Por ejemplo, si quiero saber la distancia entre Tijuana y Tapachula busco el renglón Tijuana y la columna Tapachula / la columna Tijuana y el renglón Tapachula.\n",
    "\n",
    "2. Crea una función que retorne las ciudades de la tabla en un orden aleatorio."
   ]
  },
  {
   "cell_type": "code",
   "execution_count": 3,
   "id": "8910c0a0-a0ee-4912-b3e2-9d1bb0838341",
   "metadata": {},
   "outputs": [
    {
     "data": {
      "text/plain": [
       "['GDL',\n",
       " 'México',\n",
       " 'Mérida',\n",
       " 'Tapachula',\n",
       " 'Monterrey',\n",
       " 'Tijuana',\n",
       " 'Chihuahua',\n",
       " 'León']"
      ]
     },
     "execution_count": 3,
     "metadata": {},
     "output_type": "execute_result"
    }
   ],
   "source": [
    "import random\n",
    "\n",
    "def cuidades(x): \n",
    "    ciudades=list(var.index) #Extrae la lista de ciudades\n",
    "    random.shuffle(ciudades)\n",
    "    return ciudades\n",
    "orden=cuidades(var)\n",
    "orden"
   ]
  },
  {
   "cell_type": "markdown",
   "id": "e04e03f2-740b-48f6-8903-f09d6b940782",
   "metadata": {},
   "source": [
    "3. Crea una función que dadas dos ciudades te indique la distancia entre ellas."
   ]
  },
  {
   "cell_type": "code",
   "execution_count": 5,
   "id": "a1b46a2e-c1a4-4610-aae9-37cb3b2b8ebc",
   "metadata": {},
   "outputs": [
    {
     "data": {
      "text/plain": [
       "2644"
      ]
     },
     "execution_count": 5,
     "metadata": {},
     "output_type": "execute_result"
    }
   ],
   "source": [
    "def distancia(tabla, uno, dos): \n",
    "    for i in var.index: \n",
    "        if i==uno: \n",
    "            for j in var.columns: \n",
    "                if j==dos: \n",
    "                    return var.loc[i, j]\n",
    "\n",
    "distancia(var, \"Chihuahua\", \"Tapachula\")"
   ]
  },
  {
   "cell_type": "markdown",
   "id": "d081dc58-5886-4c90-a42f-ed52e9edc10f",
   "metadata": {},
   "source": [
    "4. Crea una función que calcule la distancia total de recorrer una lista de ciudades:\n",
    "    - $C1 → C2 + C2 → C3 + ... + C_{n-1} → C_n + C_n → C_1$"
   ]
  },
  {
   "cell_type": "code",
   "execution_count": 7,
   "id": "527b40de-279b-4048-b162-4988182c1d85",
   "metadata": {},
   "outputs": [
    {
     "data": {
      "text/plain": [
       "9301"
      ]
     },
     "execution_count": 7,
     "metadata": {},
     "output_type": "execute_result"
    }
   ],
   "source": [
    "def dist_t(tabla, lista): \n",
    "    distancia=0  \n",
    "    for i in range(len(lista) - 1): \n",
    "        uno=lista[i]\n",
    "        dos=lista[i + 1]\n",
    "        distancia+=tabla.loc[uno, dos] \n",
    "    distancia+=tabla.loc[lista[-1], lista[0]] \n",
    "    return distancia\n",
    "\n",
    "lista = [\"Tijuana\", \"Monterrey\", \"Tapachula\", \"GDL\", \"México\"]\n",
    "dist_t(var, lista)"
   ]
  },
  {
   "cell_type": "markdown",
   "id": "c5201501-d413-4091-8c45-facfcd7e81bc",
   "metadata": {},
   "source": [
    "5. Genera una lista con 100 listas de ciudades generadas con permutaciones aleatorias (no importa si hay repetidas)"
   ]
  },
  {
   "cell_type": "code",
   "execution_count": 17,
   "id": "45cc9051-1fed-4066-bac0-31e67c03bdbc",
   "metadata": {},
   "outputs": [
    {
     "data": {
      "text/plain": [
       "[['México', 'GDL', 'Tijuana', 'Monterrey'],\n",
       " ['México', 'GDL', 'Tijuana', 'Monterrey'],\n",
       " ['México', 'Tijuana', 'Monterrey', 'GDL'],\n",
       " ['GDL', 'México', 'Monterrey', 'Tijuana'],\n",
       " ['Monterrey', 'Tijuana', 'GDL', 'México'],\n",
       " ['GDL', 'Monterrey', 'México', 'Tijuana'],\n",
       " ['Tijuana', 'México', 'GDL', 'Monterrey'],\n",
       " ['Tijuana', 'México', 'GDL', 'Monterrey'],\n",
       " ['México', 'Tijuana', 'Monterrey', 'GDL'],\n",
       " ['México', 'Tijuana', 'GDL', 'Monterrey'],\n",
       " ['GDL', 'Monterrey', 'México', 'Tijuana'],\n",
       " ['Monterrey', 'Tijuana', 'México', 'GDL'],\n",
       " ['México', 'GDL', 'Tijuana', 'Monterrey'],\n",
       " ['GDL', 'México', 'Monterrey', 'Tijuana'],\n",
       " ['GDL', 'México', 'Monterrey', 'Tijuana'],\n",
       " ['GDL', 'México', 'Tijuana', 'Monterrey'],\n",
       " ['Tijuana', 'México', 'GDL', 'Monterrey'],\n",
       " ['Monterrey', 'Tijuana', 'GDL', 'México'],\n",
       " ['Monterrey', 'GDL', 'México', 'Tijuana'],\n",
       " ['Monterrey', 'GDL', 'México', 'Tijuana'],\n",
       " ['GDL', 'Tijuana', 'México', 'Monterrey'],\n",
       " ['México', 'GDL', 'Tijuana', 'Monterrey'],\n",
       " ['México', 'Tijuana', 'GDL', 'Monterrey'],\n",
       " ['GDL', 'México', 'Monterrey', 'Tijuana'],\n",
       " ['GDL', 'Monterrey', 'México', 'Tijuana'],\n",
       " ['México', 'GDL', 'Tijuana', 'Monterrey'],\n",
       " ['Monterrey', 'GDL', 'México', 'Tijuana'],\n",
       " ['México', 'GDL', 'Monterrey', 'Tijuana'],\n",
       " ['Tijuana', 'Monterrey', 'México', 'GDL'],\n",
       " ['Tijuana', 'GDL', 'México', 'Monterrey'],\n",
       " ['Monterrey', 'México', 'GDL', 'Tijuana'],\n",
       " ['Tijuana', 'GDL', 'México', 'Monterrey'],\n",
       " ['GDL', 'México', 'Tijuana', 'Monterrey'],\n",
       " ['GDL', 'Tijuana', 'Monterrey', 'México'],\n",
       " ['Monterrey', 'México', 'Tijuana', 'GDL'],\n",
       " ['Tijuana', 'Monterrey', 'México', 'GDL'],\n",
       " ['México', 'Tijuana', 'GDL', 'Monterrey'],\n",
       " ['Monterrey', 'GDL', 'México', 'Tijuana'],\n",
       " ['Monterrey', 'Tijuana', 'México', 'GDL'],\n",
       " ['Tijuana', 'Monterrey', 'GDL', 'México'],\n",
       " ['Tijuana', 'GDL', 'México', 'Monterrey'],\n",
       " ['Monterrey', 'GDL', 'México', 'Tijuana'],\n",
       " ['Tijuana', 'México', 'GDL', 'Monterrey'],\n",
       " ['GDL', 'México', 'Monterrey', 'Tijuana'],\n",
       " ['GDL', 'México', 'Tijuana', 'Monterrey'],\n",
       " ['Tijuana', 'Monterrey', 'GDL', 'México'],\n",
       " ['GDL', 'Tijuana', 'Monterrey', 'México'],\n",
       " ['Monterrey', 'Tijuana', 'GDL', 'México'],\n",
       " ['Tijuana', 'Monterrey', 'GDL', 'México'],\n",
       " ['GDL', 'México', 'Monterrey', 'Tijuana'],\n",
       " ['México', 'Tijuana', 'Monterrey', 'GDL'],\n",
       " ['GDL', 'Monterrey', 'Tijuana', 'México'],\n",
       " ['Monterrey', 'México', 'Tijuana', 'GDL'],\n",
       " ['GDL', 'Monterrey', 'México', 'Tijuana'],\n",
       " ['GDL', 'Monterrey', 'México', 'Tijuana'],\n",
       " ['Monterrey', 'GDL', 'Tijuana', 'México'],\n",
       " ['México', 'Tijuana', 'GDL', 'Monterrey'],\n",
       " ['Tijuana', 'Monterrey', 'México', 'GDL'],\n",
       " ['Monterrey', 'México', 'Tijuana', 'GDL'],\n",
       " ['GDL', 'Tijuana', 'México', 'Monterrey'],\n",
       " ['México', 'GDL', 'Monterrey', 'Tijuana'],\n",
       " ['Tijuana', 'Monterrey', 'GDL', 'México'],\n",
       " ['Monterrey', 'GDL', 'Tijuana', 'México'],\n",
       " ['GDL', 'México', 'Monterrey', 'Tijuana'],\n",
       " ['GDL', 'México', 'Monterrey', 'Tijuana'],\n",
       " ['Monterrey', 'México', 'GDL', 'Tijuana'],\n",
       " ['México', 'GDL', 'Tijuana', 'Monterrey'],\n",
       " ['Tijuana', 'GDL', 'México', 'Monterrey'],\n",
       " ['GDL', 'Monterrey', 'México', 'Tijuana'],\n",
       " ['México', 'Monterrey', 'GDL', 'Tijuana'],\n",
       " ['México', 'GDL', 'Tijuana', 'Monterrey'],\n",
       " ['México', 'GDL', 'Monterrey', 'Tijuana'],\n",
       " ['Tijuana', 'GDL', 'México', 'Monterrey'],\n",
       " ['Monterrey', 'México', 'Tijuana', 'GDL'],\n",
       " ['Monterrey', 'Tijuana', 'GDL', 'México'],\n",
       " ['Monterrey', 'México', 'GDL', 'Tijuana'],\n",
       " ['Tijuana', 'México', 'GDL', 'Monterrey'],\n",
       " ['GDL', 'Monterrey', 'México', 'Tijuana'],\n",
       " ['GDL', 'Monterrey', 'México', 'Tijuana'],\n",
       " ['Monterrey', 'Tijuana', 'GDL', 'México'],\n",
       " ['Tijuana', 'GDL', 'Monterrey', 'México'],\n",
       " ['Monterrey', 'GDL', 'México', 'Tijuana'],\n",
       " ['México', 'Monterrey', 'GDL', 'Tijuana'],\n",
       " ['GDL', 'Monterrey', 'Tijuana', 'México'],\n",
       " ['Monterrey', 'México', 'Tijuana', 'GDL'],\n",
       " ['Tijuana', 'GDL', 'México', 'Monterrey'],\n",
       " ['Tijuana', 'Monterrey', 'GDL', 'México'],\n",
       " ['Monterrey', 'GDL', 'México', 'Tijuana'],\n",
       " ['Monterrey', 'México', 'Tijuana', 'GDL'],\n",
       " ['México', 'GDL', 'Monterrey', 'Tijuana'],\n",
       " ['Tijuana', 'Monterrey', 'México', 'GDL'],\n",
       " ['GDL', 'México', 'Monterrey', 'Tijuana'],\n",
       " ['Tijuana', 'Monterrey', 'México', 'GDL'],\n",
       " ['GDL', 'México', 'Tijuana', 'Monterrey'],\n",
       " ['GDL', 'Tijuana', 'Monterrey', 'México'],\n",
       " ['Tijuana', 'México', 'Monterrey', 'GDL'],\n",
       " ['México', 'GDL', 'Tijuana', 'Monterrey'],\n",
       " ['Tijuana', 'México', 'Monterrey', 'GDL'],\n",
       " ['GDL', 'México', 'Monterrey', 'Tijuana'],\n",
       " ['Monterrey', 'Tijuana', 'México', 'GDL']]"
      ]
     },
     "execution_count": 17,
     "metadata": {},
     "output_type": "execute_result"
    }
   ],
   "source": [
    "import numpy as np\n",
    "def permutacion(ciudades, nL, nC): \n",
    "    permutas=[]\n",
    "    for i in range(nL): \n",
    "        permutacion=np.random.choice(ciudades, nC, replace=False)\n",
    "        permutas.append(permutacion.tolist())\n",
    "    return permutas\n",
    "\n",
    "permutas=permutacion([\"GDL\", \"México\", \"Monterrey\", \"Tijuana\"], 100, 4) \n",
    "permutas"
   ]
  },
  {
   "cell_type": "markdown",
   "id": "c7326a12-a09b-497f-bd57-90f190ecd5d7",
   "metadata": {},
   "source": [
    "6. Calcula la distancia total de todas las rutas generadas y guarda la información en otra lista."
   ]
  },
  {
   "cell_type": "code",
   "execution_count": 19,
   "id": "5ad7df8b-3eba-42f5-a16b-3f4672a6fd68",
   "metadata": {},
   "outputs": [
    {
     "data": {
      "text/plain": [
       "[6190,\n",
       " 6190,\n",
       " 6588,\n",
       " 6190,\n",
       " 6190,\n",
       " 6876,\n",
       " 6588,\n",
       " 6588,\n",
       " 6588,\n",
       " 6876,\n",
       " 6876,\n",
       " 6588,\n",
       " 6190,\n",
       " 6190,\n",
       " 6190,\n",
       " 6588,\n",
       " 6588,\n",
       " 6190,\n",
       " 6588,\n",
       " 6588,\n",
       " 6876,\n",
       " 6190,\n",
       " 6876,\n",
       " 6190,\n",
       " 6876,\n",
       " 6190,\n",
       " 6588,\n",
       " 6588,\n",
       " 6190,\n",
       " 6190,\n",
       " 6190,\n",
       " 6190,\n",
       " 6588,\n",
       " 6190,\n",
       " 6876,\n",
       " 6190,\n",
       " 6876,\n",
       " 6588,\n",
       " 6588,\n",
       " 6588,\n",
       " 6190,\n",
       " 6588,\n",
       " 6588,\n",
       " 6190,\n",
       " 6588,\n",
       " 6588,\n",
       " 6190,\n",
       " 6190,\n",
       " 6588,\n",
       " 6190,\n",
       " 6588,\n",
       " 6588,\n",
       " 6876,\n",
       " 6876,\n",
       " 6876,\n",
       " 6876,\n",
       " 6876,\n",
       " 6190,\n",
       " 6876,\n",
       " 6876,\n",
       " 6588,\n",
       " 6588,\n",
       " 6876,\n",
       " 6190,\n",
       " 6190,\n",
       " 6190,\n",
       " 6190,\n",
       " 6190,\n",
       " 6876,\n",
       " 6876,\n",
       " 6190,\n",
       " 6588,\n",
       " 6190,\n",
       " 6876,\n",
       " 6190,\n",
       " 6190,\n",
       " 6588,\n",
       " 6876,\n",
       " 6876,\n",
       " 6190,\n",
       " 6876,\n",
       " 6588,\n",
       " 6876,\n",
       " 6588,\n",
       " 6876,\n",
       " 6190,\n",
       " 6588,\n",
       " 6588,\n",
       " 6876,\n",
       " 6588,\n",
       " 6190,\n",
       " 6190,\n",
       " 6190,\n",
       " 6588,\n",
       " 6190,\n",
       " 6876,\n",
       " 6190,\n",
       " 6876,\n",
       " 6190,\n",
       " 6588]"
      ]
     },
     "execution_count": 19,
     "metadata": {},
     "output_type": "execute_result"
    }
   ],
   "source": [
    "distancias=[]\n",
    "for i in permutas:\n",
    "    d=dist_t(var, i)\n",
    "    distancias.append(d)\n",
    "distancias"
   ]
  },
  {
   "cell_type": "markdown",
   "id": "110f4bf1-8ba2-44bb-af76-1ab1411ccdf6",
   "metadata": {},
   "source": [
    "7. ¿Cuál fue la mejor ruta? Compara con tus compañeros"
   ]
  },
  {
   "cell_type": "markdown",
   "id": "4a8d56b9-3f1b-4982-9566-21b0e894ffcb",
   "metadata": {},
   "source": [
    "En primera es la forma en la que hicieron el código, ya que, yo lo hice a manera que uno pone las ciudade de interes y te vaya generando los caminos y las distancias que hay dependiendo de la lista. "
   ]
  },
  {
   "cell_type": "markdown",
   "id": "0761dba0-3977-409a-bfaa-fa460d0e507e",
   "metadata": {},
   "source": [
    "## ¿Qué hay detrás?"
   ]
  },
  {
   "cell_type": "markdown",
   "id": "3a690ea9-2e70-425d-b53b-5f29342f0656",
   "metadata": {},
   "source": [
    "Hasta ahora, las optimizaciones que hemos hecho en clase han sido todas de funciones convexas, que garantizan un mínimo/máximo global. Incluso en los casos de regresiones o programación lineal, que teníamos muchas variables y graficarlas era imposible, se sabe desde el planteamiento del problema que la solución será única.\n",
    "\n",
    "![](https://encrypted-tbn0.gstatic.com/images?q=tbn:ANd9GcTWjD1olGFjjZN8Yi99lqDzWa1X5Rz4b4BP7g&s)"
   ]
  },
  {
   "cell_type": "markdown",
   "id": "7ac96682-7833-4196-87ba-bd9ba71b8ccc",
   "metadata": {},
   "source": [
    "Estos casos y campo de estudio se conocen como **Optimización Convexa**. Hay casos en los que el problema se puede adaptar para suavizar su respuesta y *volverlo* convexo, pero en muchos casos las funciones no son convexas y resultan en la aparición de muchos mínimos y máximos.\n",
    "\n",
    "![](https://encrypted-tbn0.gstatic.com/images?q=tbn:ANd9GcTsUVelChbZG6NX2cHTB68j3Ma0_8RUKnPUNg&s)"
   ]
  },
  {
   "cell_type": "markdown",
   "id": "209ab61f-90f4-4b4f-8d99-fc2a0688a4a2",
   "metadata": {},
   "source": [
    "![](https://upload.wikimedia.org/wikipedia/commons/e/e3/Non-Convex_Objective_Function.gif)"
   ]
  },
  {
   "cell_type": "markdown",
   "id": "6ad2ceca-1dce-426a-b02c-15f76daa1609",
   "metadata": {},
   "source": [
    "En los casos donde podemos graficar es muy sencillo saber si el valor óptimo encontrado es global o no, pero una solución general para *n* dimensiones en un problema no existe. Imaginemos el cerebro humano aprendiendo un deporte sin instructor:\n",
    "- Alguien puede aprender a jugar tennis **sin** instructor, viendo y replicando comportamientos y patrones vistos anteriormente (aprendiendo)\n",
    "- Alguien también puede aprender a jugar tennis **con** instructor, donde el instructor corregirá hábitos erróneos."
   ]
  },
  {
   "cell_type": "markdown",
   "id": "56e4f84d-2a61-4372-8ac9-c708944e3ca2",
   "metadata": {},
   "source": [
    "Por lógica, la persona que está aprendiendo sin instructor llegará a un nivel de juego donde sus limitantes serán los malos hábitos formados al aprender y optimizar su forma de juego (óptimo local).\n",
    "\n",
    "La persona con instructor será guiada a un mínimo global pues el instructor conoce su ubicación."
   ]
  },
  {
   "cell_type": "markdown",
   "id": "dc04d58b-5402-40b0-b778-41532bd862f1",
   "metadata": {},
   "source": [
    "Todos aprendemos de formas diferentes y cada quién podría llegar a su óptimo en dado tiempo; no hay garantía de que la forma en la que aprendes sea la mejor, entonces lo mejor es tener una mente abierta para ver si es que te has estancado y quizás hay otro valor óptimo en alguna otra parte."
   ]
  },
  {
   "cell_type": "markdown",
   "id": "5a41d7ad-adb1-43d6-8920-d29210c49ec5",
   "metadata": {},
   "source": [
    "## Uniendo"
   ]
  },
  {
   "cell_type": "markdown",
   "id": "ad106cd0-eefc-4ddd-8439-bdf583da2eb1",
   "metadata": {},
   "source": [
    "En el caso del problema de las ciudades hay 20,160 posibles combinaciones (excluyendo rutas repetidas con el viaje en orden reverso). Con las computadoras de hoy en día podemos revisar todos esos casos y tomar el mejor. ¿Qué pasa si añadimos ciudades?\n",
    "- 9 ciudades → $181,440$ combinaciones\n",
    "- 10 ciudades → $1'814,400$ combinaciones\n",
    "- 15 ciudades → $653,837'184,000$ combinaciones\n",
    "\n",
    "Para 15 ciudades, si cada ruta distinta nos tomara 1 segundo procesarla, se tardaría ~21 años en calcular todos los casos posibles. Si agregamos otra ciudad, entonces serían ~335 años."
   ]
  },
  {
   "cell_type": "markdown",
   "id": "21528c33-77cb-4756-a65a-86f3b848ae23",
   "metadata": {},
   "source": [
    "Los algoritmos de optimización con métodos numéricos necesitan un punto de partida, y a partir de ahí iteran hasta encontrar un mínimo/máximo sin poder saber si es local o global. ¿Cómo sabemos cuántas veces intentar optimizar y con qué punto de partida si no sabemos cuántos mínimos/máximos existen en nuestro problema o si siquiera existe un mínimo/máximo global?"
   ]
  },
  {
   "cell_type": "markdown",
   "id": "c71b3e5f-74cf-4607-92f6-a44d43208cbf",
   "metadata": {},
   "source": [
    "**No sabemos.** Lo mejor que podemos hacer es usar *métodos de búsqueda* / *algoritmos probabilísticos* para intentar encontrar la mejor solución posible en el momento y decidir si esa solución es suficiente."
   ]
  },
  {
   "cell_type": "markdown",
   "id": "fde134fb-e526-48af-a559-72b13dcd03a5",
   "metadata": {},
   "source": [
    "## Siguientes pasos"
   ]
  },
  {
   "cell_type": "markdown",
   "id": "791b7fa4-170c-48a0-a9e2-ae8c3c80cbae",
   "metadata": {},
   "source": [
    "En lugar de usar fuerza bruta (Monte Carlo o algoritmos iterativos) para encontrar la respuesta empezaremos a usar búsquedas dirigidas para intentar mejorar nuestros resultados mientras diminuimos nuestro tiempo de procesamiento."
   ]
  }
 ],
 "metadata": {
  "kernelspec": {
   "display_name": "Python 3 (ipykernel)",
   "language": "python",
   "name": "python3"
  },
  "language_info": {
   "codemirror_mode": {
    "name": "ipython",
    "version": 3
   },
   "file_extension": ".py",
   "mimetype": "text/x-python",
   "name": "python",
   "nbconvert_exporter": "python",
   "pygments_lexer": "ipython3",
   "version": "3.12.4"
  }
 },
 "nbformat": 4,
 "nbformat_minor": 5
}
