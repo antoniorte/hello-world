{
 "cells": [
  {
   "cell_type": "markdown",
   "id": "517699e0-b6e3-4a23-b07a-7ae565d337f9",
   "metadata": {},
   "source": [
    "# Laboratorio de regresión lineal"
   ]
  },
  {
   "cell_type": "markdown",
   "id": "9dc03bac-6c19-46ff-a080-3a1df82c15aa",
   "metadata": {},
   "source": [
    "|                |   |\r\n",
    ":----------------|---|\r",
    "Antonio Ortegón   |   |\r",
    "2009202     |  \n",
    " |749730  * |   |   |"
   ]
  },
  {
   "cell_type": "markdown",
   "id": "58636781-c118-4f1c-9ad6-fb7528700de9",
   "metadata": {},
   "source": [
    "La regresión lineal es una heramienta útil para predecir una respuesta cuantitativa. A pesar de que existen soluciones más modernas, la regresión lineal se sigue usando, pues sirve como un punto de partida para comparar otras herramientas.\n",
    "\n",
    "Se debe comprender cómo funciona la regresión antes de empezar a estudiar métodos de aprendizaje estadístico más complejos."
   ]
  },
  {
   "cell_type": "markdown",
   "id": "49359c12-d479-4331-9266-555b5fecadaa",
   "metadata": {},
   "source": [
    "1. Descarga el archivo de publicidad y carga los datos (Advertising.csv)."
   ]
  },
  {
   "cell_type": "code",
   "execution_count": null,
   "id": "dd89acd3-8ac1-4101-a551-fe488fb0a411",
   "metadata": {},
   "outputs": [],
   "source": []
  },
  {
   "cell_type": "code",
   "execution_count": null,
   "id": "f89db89a-9751-4c30-86e7-4b10eae0e9e7",
   "metadata": {},
   "outputs": [],
   "source": []
  },
  {
   "cell_type": "code",
   "execution_count": null,
   "id": "062a0c1e-e618-4391-b8ba-2e51c9a3c2a6",
   "metadata": {},
   "outputs": [],
   "source": []
  },
  {
   "cell_type": "markdown",
   "id": "b05eed21-5272-45e0-ab5b-ce7206adb3e4",
   "metadata": {},
   "source": [
    "**¿Hay alguna relación entre el presupuesto para publicidad y las ventas?**\n",
    "\n",
    "Nuestra primera meta debe ser determinar si hay evidencia en los datos de que haya una asociación entre estas variables.\n",
    "\n",
    "- ¿Por qué? ¿Qué resultaría si nos diéramos cuenta de la falta de relación entre el presupuesto de publicidad y las ventas?"
   ]
  },
  {
   "cell_type": "markdown",
   "id": "b941db34-e2b7-4dfa-9436-f3e8a7e41707",
   "metadata": {},
   "source": [
    "No hay ninguna realacion, los presupuestos que se tienen están muy disparejos"
   ]
  },
  {
   "cell_type": "markdown",
   "id": "b995f57c-89f1-4c6b-98c1-e990bf3ac6de",
   "metadata": {},
   "source": [
    "**¿Qué tan fuerte es esta relación?**\n",
    "Asumiendo que existe esta relación, ¿nos sirve conocer el impacto que tiene invertir en publicidad en las ventas?"
   ]
  },
  {
   "cell_type": "markdown",
   "id": "9db8e39d-3186-4bb1-a628-962e28b763c8",
   "metadata": {},
   "source": [
    "Sí"
   ]
  },
  {
   "cell_type": "markdown",
   "id": "2d956cb0-455e-4d3d-81ed-5c5c0b182173",
   "metadata": {},
   "source": [
    "**¿Cuáles medios están asociados con las ventas? ¿Qué tan grande es la asociación entre un medio específico y las ventas?**\n",
    "\n",
    "Hay 3 medios distintos en los datos. ¿Sirve invertir en los 3? ¿Conviene más invertir sólo en uno?\n",
    "\n",
    "**¿Qué tan seguros estamos de que podríamos predecir ventas futuras?**\n",
    "\n",
    "**¿La relación es lineal?**\n",
    "\n",
    "**¿Hay sinergia entre estos medios?**\n",
    "\n",
    "Puede ser que gastar \\\\$50,000 en publicidad y otros \\\\$50,000 en radio es mejor opción que gastar \\\\$100,000 en televisión. A esto le llamamos efecto de interacción.\n",
    "\n",
    "Podemos usar regresión lineal para responder todas estas preguntas."
   ]
  },
  {
   "cell_type": "markdown",
   "id": "7c97db88-c3d0-42a9-9822-334a55b0c3f8",
   "metadata": {},
   "source": [
    "## Regresión lineal simple"
   ]
  },
  {
   "cell_type": "markdown",
   "id": "cc7c15a0-cc8a-49f2-8bd0-96bd0c296afd",
   "metadata": {},
   "source": [
    "Un método sencillo para predecir una variable cuantitativa $Y$ dado un solo predictor $X$. Podemos escribir esta relación como:\n",
    "\n",
    "$$ Y \\approx \\beta_0 + \\beta_1 X$$\n",
    "\n",
    "Por ejemplo, si decimos que $X$ se refiere a lo gastado en publicidad de TV y que $Y$ son las ventas, podemos buscar:\n",
    "\n",
    "$$ \\text{ventas} \\approx \\beta_0 + (\\beta_1)(\\text{TV})$$"
   ]
  },
  {
   "cell_type": "markdown",
   "id": "af21181c-94f6-4eb2-8186-2dc3ce5653b1",
   "metadata": {},
   "source": [
    "A $\\beta_0$ y $\\beta_1$ se le conoce como los coeficientes o parámetros del modelo. Una vez que usamos los datos históricos para producir estimados $\\hat{\\beta_0}$ y $\\hat{\\beta_1}$, podemos predecir ventar futuras basándonos en lo gastado en publicidad en TV usando\n",
    "$$\\hat{y} = \\hat{\\beta_0} + \\hat{\\beta_1}x $$"
   ]
  },
  {
   "cell_type": "markdown",
   "id": "07ae52b6-daeb-4364-9092-2c8a25a56b2d",
   "metadata": {},
   "source": [
    "donde $\\hat{y}$ indica una predicción de $Y$ basado en $X = x$. (El símbolo $\\hat{ }$ se usa para hacer notar que es sólo una estimación de un parámetro desconocido)"
   ]
  },
  {
   "cell_type": "markdown",
   "id": "ee3b4835-9946-46e9-866a-61394526c72a",
   "metadata": {},
   "source": [
    "### Estimando coeficientes"
   ]
  },
  {
   "cell_type": "markdown",
   "id": "ae7d04ba-bb21-4540-bf56-331ad4329bbc",
   "metadata": {},
   "source": [
    "$\\beta_0$ y $\\beta_1$ son desconocidos. Se deben estimar usando los datos antes de poder predecir. \n",
    "\n",
    "$ (x_1, y_1), (x_2, y_2), ..., (x_n, y_n) $ representa $n$ observaciones, cada una con datos medidos para $X$ y $Y$."
   ]
  },
  {
   "cell_type": "markdown",
   "id": "69138e9f-f782-4f81-a69c-c602dd5a123f",
   "metadata": {},
   "source": [
    "El archivo de publicidad contiene observaciones de 200 mercados y presupuestos usados para publicidad en 3 medios. Nuestra meta actual es encontrar $\\hat{\\beta_0}$ y $\\hat{\\beta_1}$ tal que exista un modelo lineal que se ajuste bien a los datos ($y_i \\approx \\hat{\\beta_0} + \\hat{\\beta_1}x_i$  para $ i=1,...,n$)."
   ]
  },
  {
   "cell_type": "markdown",
   "id": "04bc799e-6602-48f5-ad6e-74b3fc91802e",
   "metadata": {},
   "source": [
    "Hay muchas formas de medir el ajuste de una curva; la más común es usar el criterio de los mínimos cuadrados. Si $y_i \\approx \\hat{\\beta_0} + \\hat{\\beta_1}x_i$ es una predicción de $Y$ basada en el valor número $i$ de $X$, entonces definimos el error/residuo como $e_i = y_i - \\hat{y_i}$. Este residuo es la diferencia entre el valor observado y el valor estimado por nuestro modelo lineal. Definimos la suma de los residuos cuadrados (RSS) como:\n",
    "$$ \\text{RSS} = e_1^2 + e_2^2 + ... + e_n^2 $$"
   ]
  },
  {
   "cell_type": "markdown",
   "id": "39b73961-5157-43af-8a27-19455355993d",
   "metadata": {},
   "source": [
    "Utiliza la función `minimize` del módulo `optimize` la librería `scipy` para estimar los parámetros del modelo."
   ]
  },
  {
   "cell_type": "code",
   "execution_count": 29,
   "id": "5575f6b0-9d15-4dda-887f-800f242f9eef",
   "metadata": {},
   "outputs": [
    {
     "data": {
      "text/html": [
       "<div>\n",
       "<style scoped>\n",
       "    .dataframe tbody tr th:only-of-type {\n",
       "        vertical-align: middle;\n",
       "    }\n",
       "\n",
       "    .dataframe tbody tr th {\n",
       "        vertical-align: top;\n",
       "    }\n",
       "\n",
       "    .dataframe thead th {\n",
       "        text-align: right;\n",
       "    }\n",
       "</style>\n",
       "<table border=\"1\" class=\"dataframe\">\n",
       "  <thead>\n",
       "    <tr style=\"text-align: right;\">\n",
       "      <th></th>\n",
       "      <th>Unnamed: 0</th>\n",
       "      <th>TV</th>\n",
       "      <th>radio</th>\n",
       "      <th>newspaper</th>\n",
       "      <th>sales</th>\n",
       "    </tr>\n",
       "  </thead>\n",
       "  <tbody>\n",
       "    <tr>\n",
       "      <th>0</th>\n",
       "      <td>1</td>\n",
       "      <td>230.1</td>\n",
       "      <td>37.8</td>\n",
       "      <td>69.2</td>\n",
       "      <td>22.1</td>\n",
       "    </tr>\n",
       "    <tr>\n",
       "      <th>1</th>\n",
       "      <td>2</td>\n",
       "      <td>44.5</td>\n",
       "      <td>39.3</td>\n",
       "      <td>45.1</td>\n",
       "      <td>10.4</td>\n",
       "    </tr>\n",
       "    <tr>\n",
       "      <th>2</th>\n",
       "      <td>3</td>\n",
       "      <td>17.2</td>\n",
       "      <td>45.9</td>\n",
       "      <td>69.3</td>\n",
       "      <td>9.3</td>\n",
       "    </tr>\n",
       "    <tr>\n",
       "      <th>3</th>\n",
       "      <td>4</td>\n",
       "      <td>151.5</td>\n",
       "      <td>41.3</td>\n",
       "      <td>58.5</td>\n",
       "      <td>18.5</td>\n",
       "    </tr>\n",
       "    <tr>\n",
       "      <th>4</th>\n",
       "      <td>5</td>\n",
       "      <td>180.8</td>\n",
       "      <td>10.8</td>\n",
       "      <td>58.4</td>\n",
       "      <td>12.9</td>\n",
       "    </tr>\n",
       "    <tr>\n",
       "      <th>...</th>\n",
       "      <td>...</td>\n",
       "      <td>...</td>\n",
       "      <td>...</td>\n",
       "      <td>...</td>\n",
       "      <td>...</td>\n",
       "    </tr>\n",
       "    <tr>\n",
       "      <th>195</th>\n",
       "      <td>196</td>\n",
       "      <td>38.2</td>\n",
       "      <td>3.7</td>\n",
       "      <td>13.8</td>\n",
       "      <td>7.6</td>\n",
       "    </tr>\n",
       "    <tr>\n",
       "      <th>196</th>\n",
       "      <td>197</td>\n",
       "      <td>94.2</td>\n",
       "      <td>4.9</td>\n",
       "      <td>8.1</td>\n",
       "      <td>9.7</td>\n",
       "    </tr>\n",
       "    <tr>\n",
       "      <th>197</th>\n",
       "      <td>198</td>\n",
       "      <td>177.0</td>\n",
       "      <td>9.3</td>\n",
       "      <td>6.4</td>\n",
       "      <td>12.8</td>\n",
       "    </tr>\n",
       "    <tr>\n",
       "      <th>198</th>\n",
       "      <td>199</td>\n",
       "      <td>283.6</td>\n",
       "      <td>42.0</td>\n",
       "      <td>66.2</td>\n",
       "      <td>25.5</td>\n",
       "    </tr>\n",
       "    <tr>\n",
       "      <th>199</th>\n",
       "      <td>200</td>\n",
       "      <td>232.1</td>\n",
       "      <td>8.6</td>\n",
       "      <td>8.7</td>\n",
       "      <td>13.4</td>\n",
       "    </tr>\n",
       "  </tbody>\n",
       "</table>\n",
       "<p>200 rows × 5 columns</p>\n",
       "</div>"
      ],
      "text/plain": [
       "     Unnamed: 0     TV  radio  newspaper  sales\n",
       "0             1  230.1   37.8       69.2   22.1\n",
       "1             2   44.5   39.3       45.1   10.4\n",
       "2             3   17.2   45.9       69.3    9.3\n",
       "3             4  151.5   41.3       58.5   18.5\n",
       "4             5  180.8   10.8       58.4   12.9\n",
       "..          ...    ...    ...        ...    ...\n",
       "195         196   38.2    3.7       13.8    7.6\n",
       "196         197   94.2    4.9        8.1    9.7\n",
       "197         198  177.0    9.3        6.4   12.8\n",
       "198         199  283.6   42.0       66.2   25.5\n",
       "199         200  232.1    8.6        8.7   13.4\n",
       "\n",
       "[200 rows x 5 columns]"
      ]
     },
     "execution_count": 29,
     "metadata": {},
     "output_type": "execute_result"
    }
   ],
   "source": [
    "import pandas as pd\n",
    "import numpy as np\n",
    "import matplotlib.pyplot as plt\n",
    "import scipy.optimize as opt\n",
    "datos=pd.read_csv(\"Advertising.csv\")\n",
    "datos\n",
    "\n"
   ]
  },
  {
   "cell_type": "code",
   "execution_count": 30,
   "id": "13318696-f84a-4b7a-adfe-d89cdf803198",
   "metadata": {},
   "outputs": [
    {
     "data": {
      "text/plain": [
       "(0      230.1\n",
       " 1       44.5\n",
       " 2       17.2\n",
       " 3      151.5\n",
       " 4      180.8\n",
       "        ...  \n",
       " 195     38.2\n",
       " 196     94.2\n",
       " 197    177.0\n",
       " 198    283.6\n",
       " 199    232.1\n",
       " Name: TV, Length: 200, dtype: float64,\n",
       " 0      22.1\n",
       " 1      10.4\n",
       " 2       9.3\n",
       " 3      18.5\n",
       " 4      12.9\n",
       "        ... \n",
       " 195     7.6\n",
       " 196     9.7\n",
       " 197    12.8\n",
       " 198    25.5\n",
       " 199    13.4\n",
       " Name: sales, Length: 200, dtype: float64)"
      ]
     },
     "execution_count": 30,
     "metadata": {},
     "output_type": "execute_result"
    }
   ],
   "source": [
    "# genero el gráfio (ayuda con chat)\n",
    "#Tv es la X\n",
    "x=datos[\"TV\"]\n",
    "y=datos[\"sales\"] \n",
    "x, y"
   ]
  },
  {
   "cell_type": "code",
   "execution_count": 31,
   "id": "cff5ad46-9c63-4170-8234-13e2e7d760c9",
   "metadata": {},
   "outputs": [
    {
     "data": {
      "image/png": "[encoded data removed]",
      "text/plain": [
       "<Figure size 640x480 with 1 Axes>"
      ]
     },
     "metadata": {},
     "output_type": "display_data"
    }
   ],
   "source": [
    "n = len(y)\n",
    "plt.scatter(x, y, alpha=.5) #genera los puntos\n",
    "plt.xlabel(\"TV\")\n",
    "plt.ylabel(\"sales\")\n",
    "plt.grid()\n",
    "plt.show()\n"
   ]
  },
  {
   "cell_type": "code",
   "execution_count": 32,
   "id": "5bc45202-cd81-490e-8f2e-541c3969b175",
   "metadata": {},
   "outputs": [
    {
     "data": {
      "text/plain": [
       "  message: Desired error not necessarily achieved due to precision loss.\n",
       "  success: False\n",
       "   status: 2\n",
       "      fun: 2102.5305831326536\n",
       "        x: [ 7.033e+00  4.754e-02]\n",
       "      nit: 3\n",
       "      jac: [ 0.000e+00  3.052e-05]\n",
       " hess_inv: [[ 9.868e-03 -5.011e-05]\n",
       "            [-5.011e-05  3.408e-07]]\n",
       "     nfev: 117\n",
       "     njev: 36"
      ]
     },
     "execution_count": 32,
     "metadata": {},
     "output_type": "execute_result"
    }
   ],
   "source": [
    "#Hacer la regresion lineal\n",
    "n=len(x)\n",
    "ones=np.ones([n,1])\n",
    "x_factor=np.reshape(x,[n,1])\n",
    "X=np.hstack((ones,x_factor)) \n",
    "y_vector=np.reshape(y, [n,1]) #y pasa a ser columna de 1 y x\n",
    "\n",
    "n,p=X.shape #n filas, p paramertos\n",
    "beta=np.random.rand(p) # empezar a encontrar valores\n",
    "\n",
    "def funcion(beta, X, y): \n",
    "    beta=np.reshape(beta, [p,1])\n",
    "    y_pre=X@beta\n",
    "    error=y_pre-y\n",
    "    rss=error.T@error\n",
    "    return rss[0, 0]\n",
    "rss=opt.minimize(funcion, beta, args=(X, y_vector))\n",
    "rss"
   ]
  },
  {
   "cell_type": "markdown",
   "id": "25f222c0-971d-47cb-9e51-3fd1f2c94d56",
   "metadata": {},
   "source": [
    "Al resolver el problema analíticamente se encuentra:\n",
    "\n",
    "$$ \\hat{\\beta_1} = \\frac{\\sum_{i=1}^n (x_i - \\bar{x})(y_i - \\bar{y})}{\\sum_{i=1}^n (x_i - \\bar{x})^2} $$\n",
    "\n",
    "$$ \\hat{\\beta_0} = \\bar{y} - \\hat{\\beta_1}\\bar{x} $$\n"
   ]
  },
  {
   "cell_type": "markdown",
   "id": "92aa36b1-c75a-40a5-9a73-5e3e1b73ce22",
   "metadata": {},
   "source": [
    "Compara las estimaciones que encontraste con `minimize` con las que se encuentran con la fórmula dada arriba ($\\bar{x}$ y $\\bar{y}$ son las medias muestrales)."
   ]
  },
  {
   "cell_type": "code",
   "execution_count": 35,
   "id": "251faf27-08a7-411d-9030-5cb2c6a28223",
   "metadata": {},
   "outputs": [
    {
     "data": {
      "text/plain": [
       "(0.047536640433019736, 7.0325935491276965)"
      ]
     },
     "execution_count": 35,
     "metadata": {},
     "output_type": "execute_result"
    }
   ],
   "source": [
    "B1=np.sum((x-np.mean(x))*(y-np.mean(y))/np.sum((x-np.mean(x))**2))\n",
    "Bo=np.mean(y)-B1*np.mean(x)\n",
    "B1, Bo"
   ]
  },
  {
   "cell_type": "markdown",
   "id": "6d5fa1f1-821f-4f72-be0d-5db0b93960f6",
   "metadata": {},
   "source": [
    "Crea una gráfica donde se muestren las observaciones como una nube de puntos y la línea que ajustaste con regresión."
   ]
  },
  {
   "cell_type": "code",
   "execution_count": 37,
   "id": "8bd1a705-aedb-4a8e-b6c8-566a7423da45",
   "metadata": {},
   "outputs": [
    {
     "data": {
      "image/png": "[encoded data removed]",
      "text/plain": [
       "<Figure size 640x480 with 1 Axes>"
      ]
     },
     "metadata": {},
     "output_type": "display_data"
    }
   ],
   "source": [
    "def f(x) :\n",
    "    return 7.033 + 4.754e-02*x\n",
    "\n",
    "plt.figure()\n",
    "plt.scatter(x_factor, y, alpha=.5) #genera los puntos\n",
    "plt.plot(x_factor, f(x_factor))\n",
    "plt.xlabel(\"TV\")\n",
    "plt.ylabel(\"sales\")\n",
    "plt.grid()\n",
    "plt.show()"
   ]
  },
  {
   "cell_type": "markdown",
   "id": "28ba843a-c9e4-41ca-aacd-fa767e6e98fd",
   "metadata": {},
   "source": [
    "### Verificando la precisión de nuestros coeficientes estimados"
   ]
  },
  {
   "cell_type": "markdown",
   "id": "003047bc-00c1-4abc-a38a-2b6d0bc7b72f",
   "metadata": {},
   "source": [
    "Recuerda que en el mundo real hay ruidos y errores de medición. Siempre se asume que la verdadera relación entre $X$ y $Y$ es $$Y = \\beta_0 + \\beta_1 X + \\epsilon$$"
   ]
  },
  {
   "cell_type": "markdown",
   "id": "c4f95e02-9178-4c24-baa8-62d1f3340d71",
   "metadata": {},
   "source": [
    "Se asume que el término de error es independiente de $X$ (el error siempre es el mismo sin importar el valor de $X$). Este modelo describe a la *línea de regresión de la población*, que es la mejor aproximación de la verdadera relación entre $X$ y $Y$. Cuando usamos mínimos cuadrados encontramos la *línea de mínimos cuadrados*."
   ]
  },
  {
   "cell_type": "markdown",
   "id": "6212c629-4064-4ec6-8569-3c28b27fcddb",
   "metadata": {},
   "source": [
    "¿Cuál es la diferencia entre población y muestra?"
   ]
  },
  {
   "cell_type": "markdown",
   "id": "a5d5282f-8f1c-43d2-bb8d-cf376c69b670",
   "metadata": {},
   "source": [
    "*Poblacion*: todo"
   ]
  },
  {
   "cell_type": "markdown",
   "id": "558994c6-3553-42d7-8d69-6d0c141fe6a9",
   "metadata": {},
   "source": [
    "*Muestra*: es un subconjunto de la poblacion, es decir una seleccion y sobre los cuales se va a llegar acabao un estudio"
   ]
  },
  {
   "cell_type": "markdown",
   "id": "1432a23b-b45f-4b0d-852e-04b677a063e6",
   "metadata": {},
   "source": []
  },
  {
   "cell_type": "markdown",
   "id": "54072a4b-5d31-4d69-917f-c129ecbe8ad0",
   "metadata": {},
   "source": [
    "¿Cuál crees que sea la diferencia entre hacer una regresión con todos los datos de la población y una muestra de ella?"
   ]
  },
  {
   "cell_type": "markdown",
   "id": "2a37096b-0831-4aaa-86ba-315cfc230e08",
   "metadata": {},
   "source": [
    "Que con una población haces de todos en general, es decir de todo el circulo y con la muestra es agarras una parte del circulo y lo analizas"
   ]
  },
  {
   "cell_type": "markdown",
   "id": "d42b3302-2539-4156-b58d-34ca8381a2ad",
   "metadata": {},
   "source": []
  },
  {
   "cell_type": "markdown",
   "id": "f7a3d5a7-8770-467b-9120-ad5ad8a788af",
   "metadata": {},
   "source": []
  },
  {
   "cell_type": "markdown",
   "id": "5cb524d1-2aff-45ff-ac79-3d55cc38d016",
   "metadata": {},
   "source": [
    "La línea de regresión de la población no se puede observar. El concepto de comparar estas líneas es una extensión natural del acercamiento estadístico estándar de usar información de una muestra para estimar características de una población grande."
   ]
  },
  {
   "cell_type": "markdown",
   "id": "62dfac4e-2aa9-4b77-8852-4e6f3654b12b",
   "metadata": {},
   "source": [
    "Imagina que quieres encontrar la altura promedio de un mexicano $\\mu$. Medir a todos y cada uno de los mexicanos en situaciones similares, con la misma regla, mismo operador, y otras incontables formas de minimizar la variación de la medida es una tarea imposible. Lo que podemos asumir es que $\\hat{\\mu} = \\bar{y}$. La media poblacional y la media muestral son diferentes, pero la media muestral es usualmente un buen estimado.\n",
    "\n",
    "De la misma manera, como no contamos con el 100% de la información para hacer una regresión, los coeficientes $\\beta_0$ y $\\beta_1$ son desconocidos. Podemos estimarlos usando mínimos cuadrados, encontrando $\\hat{\\beta_0}$ y $\\hat{\\beta_1}$. Puede que las muestras que tengamos en ese momento estén un poco por encima de la media, pero otras muestras en otro momento puede que estén debajo de la media. En general, esperamos que el promedio de las aproximaciones $\\hat{\\mu}$ aproxime a $\\mu$."
   ]
  },
  {
   "cell_type": "markdown",
   "id": "c92823d6-7d21-4921-9a28-551bf115a3f0",
   "metadata": {},
   "source": [
    "Esto lleva a la pregunta: ¿qué tan cercanos son nuestros coeficientes estimados a los verdaderos coeficientes? Utilizamos el concepto de error estándar para evaluar esto.\n",
    "\n",
    "$$ \\text{Var}(\\hat{\\mu})=\\text{SE}(\\hat{\\mu})^2 = \\frac{\\sigma^2}{n} $$\n",
    "\n",
    "Donde $\\sigma$ es la desciación estándar de cada una de las observaciones $y_i$ de $Y$. El error estándar nos dice la cantidad promedio que el estimado difiere del valor verdadero. Podemos ver en la fórmula que entre más observaciones tengamos el error se hace más pequeño. Las fórmulas para errores estándar de $\\hat{\\beta_0}$ y $\\hat{\\beta_1}$ son:\n",
    "\n",
    "$$ \\text{SE}(\\hat{\\beta_0})^2 = \\sigma^2 [\\frac{1}{n} + \\frac{\\bar{x}^2}{\\sum_{i=1}^n (x_i - \\bar{x})^2}]$$\n",
    "\n",
    "$$ \\text{SE}(\\hat{\\beta_1})^2 = \\frac{\\sigma^2}{\\sum_{i=1}^n (x_i - \\bar{x})^2}$$\n",
    "\n",
    "$$ \\sigma^2 = \\text{Var}(\\epsilon) = \\text{RSE}^2 = \\frac{\\text{RSS}}{n-2}$$"
   ]
  },
  {
   "cell_type": "markdown",
   "id": "328aeb35-d85b-4c86-91cd-141d93d9a2b1",
   "metadata": {},
   "source": [
    "Para que estas fórmulas sean validas asumimos que los errores $\\epsilon_i$ tienen varianza común $\\sigma^2$ y que no están correlacionados.\n",
    "\n",
    "Calcula los errores estándar de los coeficientes"
   ]
  },
  {
   "cell_type": "code",
   "execution_count": 53,
   "id": "4ccf8476-5043-410d-b895-f2258f1844b1",
   "metadata": {},
   "outputs": [
    {
     "data": {
      "text/plain": [
       "(10.618841328952795, 0.45784294027362027, 0.002690607187797704)"
      ]
     },
     "execution_count": 53,
     "metadata": {},
     "output_type": "execute_result"
    }
   ],
   "source": [
    "Var= rss.fun/(n-2)\n",
    "SeBo=np.sqrt(Var*((1/n)+(np.mean(x)**2)/np.sum((x-np.mean(x))**2)))\n",
    "SeB1=np.sqrt(Var/np.sum((x-np.mean(x))**2))\n",
    "Var, SeBo, SeB1\n"
   ]
  },
  {
   "cell_type": "markdown",
   "id": "49c25f66-e401-4b4c-b5b2-c3ab744cefa8",
   "metadata": {},
   "source": [
    "Estos errores se pueden usar para calcular intervalos de confianza. Un intervalo de confianza del $95\\%$ se define como un rango de valores en el cuál se encuentra el desconocido valor verdadero con un $95\\%$ de probabilidad.\n",
    "\n",
    "Otra forma de verlo es que si tomamos muestras repetidas y construimos un intervalo de confianza para cada una, el $95\\%$ de los intervalos creados van a contener el valor verdadero. Para la regresión el intervalo de confianza del $95\\%$ toma la forma:\n",
    "\n",
    "$$ \\hat{\\beta_j} \\pm \\text{SE}(\\hat{\\beta_j})$$"
   ]
  },
  {
   "cell_type": "markdown",
   "id": "ae52aa71-21a6-41d8-a2ed-5205575cbb96",
   "metadata": {},
   "source": [
    "Calcula los intervalos de confianza para los coeficientes estimados:"
   ]
  },
  {
   "cell_type": "code",
   "execution_count": 56,
   "id": "bd630c11-6fa4-4c29-aef6-7541ca1b3fff",
   "metadata": {},
   "outputs": [
    {
     "data": {
      "text/plain": [
       "(6.116907668580456, 7.948279429674937)"
      ]
     },
     "execution_count": 56,
     "metadata": {},
     "output_type": "execute_result"
    }
   ],
   "source": [
    "#Para Bo\n",
    "#intervalo de Bo\n",
    "Arriba1=Bo-2*(SeBo)\n",
    "Abajo1=Bo+2*(SeBo)\n",
    "#Intervalo Ba\n",
    "Arriba2=B1-2*(SeB1)\n",
    "Abajo2=B1+2*(SeB1)\n",
    "Arriba1, Abajo1"
   ]
  },
  {
   "cell_type": "code",
   "execution_count": 57,
   "id": "01e64ec4-7f78-4d3d-b153-a35d5cbeb2e5",
   "metadata": {},
   "outputs": [
    {
     "data": {
      "text/plain": [
       "(0.042155426057424325, 0.05291785480861515)"
      ]
     },
     "execution_count": 57,
     "metadata": {},
     "output_type": "execute_result"
    }
   ],
   "source": [
    "Arriba2, Abajo2"
   ]
  },
  {
   "cell_type": "markdown",
   "id": "7f20885e-d24d-4d1a-b04a-9cc56bbe2aca",
   "metadata": {},
   "source": [
    "Los errores estándar también se usan para realizar pruebas de hipótesis. La prueba de hipótesis más común es probar la hipótesis nula de:\n",
    "\n",
    "$$ H_0: \\text{No hay relación entre } X \\text{ y } Y \\ \\ \\ \\ (\\beta_1=0)$$"
   ]
  },
  {
   "cell_type": "markdown",
   "id": "23bd130f-6f52-470c-ad15-b476f595a880",
   "metadata": {},
   "source": [
    "contra la hipótesis alternativa:\n",
    "$$ H_0: \\text{Hay alguna relación entre } X \\text{ y } Y \\ \\ \\ (\\beta_1 \\neq 0)$$"
   ]
  },
  {
   "cell_type": "markdown",
   "id": "50302a91-3b88-470e-9091-11f9730f2c3e",
   "metadata": {},
   "source": [
    "Explica con tus palabras el significado de la hipótesis nula y la hipótesis alternativa."
   ]
  },
  {
   "cell_type": "markdown",
   "id": "45b59140-9cab-41ce-acbb-566882aa99ec",
   "metadata": {},
   "source": [
    "La hipotesis nula es mi primera hipotesis, lo que busco \n",
    "\n",
    "Mientras que la alternativa es lq que busca rechazar la a la alternativa"
   ]
  },
  {
   "cell_type": "markdown",
   "id": "87f4382e-80cd-4b4d-8105-135ab1a52b12",
   "metadata": {},
   "source": []
  },
  {
   "cell_type": "markdown",
   "id": "35d354f6-01ab-42ee-a2e0-e0a2ea658002",
   "metadata": {},
   "source": []
  },
  {
   "cell_type": "markdown",
   "id": "5a089c32-edde-4374-b910-ecbcc6903bbe",
   "metadata": {},
   "source": [
    "Para probar la hipótesis nula debemos determinar si nuestro estimado $\\hat{\\beta_1}$ de $\\beta_1$ está lo suficientemente alejado de cero para que podamos decir con confianza que este valor no es cero. \n",
    "\n",
    "¿Qué tan lejos? Depende de qué tanta confianza tengamos en el estimado encontrado. Si nuestro error estándar es pequeño y nuestro estimado está alejado de cero podríamos decir que hay muy poca probabilidad de que el valor verdadero sea 0. En cambio, si nuestro error estándar es grande y nuestro estimado está muy cerca de cero, entonces podrías ser que el valor verdadero sea cero y que no haya relación entre las variables."
   ]
  },
  {
   "cell_type": "markdown",
   "id": "40c6b1e2-0db8-456c-bc18-2e3d450fba15",
   "metadata": {},
   "source": [
    "Se calcula un *estadístico t* dado por\n",
    "$$ t = \\frac{\\hat{\\beta_j} - \\mu}{\\text{SE}(\\hat{\\beta_j})} $$"
   ]
  },
  {
   "cell_type": "markdown",
   "id": "ebcb14f0-b828-486b-88f4-8bd4599e3a24",
   "metadata": {},
   "source": [
    "donde $\\mu$ es el valor contra el que queremos probar.\n",
    "\n",
    "Calcula el estadístico t para tus coeficientes estimados, usando como referencia la prueba de hipótesis."
   ]
  },
  {
   "cell_type": "code",
   "execution_count": 67,
   "id": "6abadc35-481c-4a3f-8c51-43bcd864da8d",
   "metadata": {},
   "outputs": [
    {
     "data": {
      "text/plain": [
       "15.360275174112795"
      ]
     },
     "execution_count": 67,
     "metadata": {},
     "output_type": "execute_result"
    }
   ],
   "source": [
    "tBo=(Bo-0)/SeBo\n",
    "tBo"
   ]
  },
  {
   "cell_type": "code",
   "execution_count": 68,
   "id": "22d55385-f03e-47df-9124-4c54e6900b1b",
   "metadata": {},
   "outputs": [
    {
     "data": {
      "text/plain": [
       "17.66762560087007"
      ]
     },
     "execution_count": 68,
     "metadata": {},
     "output_type": "execute_result"
    }
   ],
   "source": [
    "tB1=(B1-0)/SeB1\n",
    "tB1"
   ]
  },
  {
   "cell_type": "markdown",
   "id": "3351c7b7-76e3-43b3-b6fb-f387278d47d2",
   "metadata": {},
   "source": [
    "La distribución t tiene forma de campana y se parece bastante a la distribución normal cuando $n > 30$. Ya sólo es cuestión de calcular la probabilidad de observar cualquier número tal que su valor absoluto sea igual o mayor que el valor absoluto del estadístico t calculado. En otras palabras:\n",
    "$$ P(|x| \\geq |t|) $$"
   ]
  },
  {
   "cell_type": "markdown",
   "id": "1e27483e-c968-4ffd-942a-4e95196a275a",
   "metadata": {},
   "source": [
    "A esta probabilidad la llamamos *p-value*. Un *p-value* pequeño indica que es poco probable que exista por puro azar una relación significativa entre predictor y respuesta, en caso de que no haya una asociación real entre predictor y respuesta. En otras palabras, el *p-value* te dice la probabilidad de que parezca que hay relación cuando no la hay.\n",
    "\n",
    "Si el *p-value* es pequeño, inferimos que sí hay una asociación entre el predictor y la respuesta, y **rechazamos la hipótesis nula**.\n",
    "  "
   ]
  },
  {
   "cell_type": "markdown",
   "id": "c81be623-6485-428f-82de-f21f3da91bbe",
   "metadata": {},
   "source": [
    "¿Qué tan pequeño? Depende de la aplicación. Un valor muy común es del $5\\%$.\n",
    "\n",
    "Utiliza el siguiente código para calcular el *p-value* para tus coeficientes\n",
    "\n",
    "`from scipy import stats`\n",
    "\n",
    "`p_bj = 2*(1 - stats.t.cdf(np.abs(t_bj), n-2))`"
   ]
  },
  {
   "cell_type": "code",
   "execution_count": 72,
   "id": "e865bda7-250d-477f-8978-b9f9eeacef64",
   "metadata": {},
   "outputs": [
    {
     "data": {
      "text/plain": [
       "(0.0, 0.0)"
      ]
     },
     "execution_count": 72,
     "metadata": {},
     "output_type": "execute_result"
    }
   ],
   "source": [
    "from scipy import stats\n",
    "p_Bo=2*(1-stats.t.cdf(np.abs(tBo), n-2))\n",
    "p_B1=2*(1-stats.t.cdf(np.abs(tB1), n-2))\n",
    "p_Bo, p_B1"
   ]
  },
  {
   "cell_type": "markdown",
   "id": "fed5f2b8-0af7-40c9-8016-cebd6831935a",
   "metadata": {},
   "source": [
    "¿Se rechaza la hipótesis nula? ¿Qué significa? No, porque es casi 0 lo que quiere decir que sí hay una relación entre las dos variables"
   ]
  },
  {
   "cell_type": "markdown",
   "id": "67df9156-db8f-413a-87ed-b1588de8f813",
   "metadata": {},
   "source": [
    "### Verificando la precisión del modelo"
   ]
  },
  {
   "cell_type": "markdown",
   "id": "5a15f1df-fed5-4f21-9665-8f81f590f1d6",
   "metadata": {},
   "source": [
    "Si ya tenemos unos coeficientes de regresión estimados y ya verificamos que la probabilidad de que sí hay relación entre predictor y respuesta es alta. ¿Cómo medimos qué tan bueno es nuestro modelo para predecir?\n",
    "- RSE (Residual Standard Error)\n",
    "- $R^2$"
   ]
  },
  {
   "cell_type": "markdown",
   "id": "87e53256-a80b-4f88-843c-9fa9a29ee142",
   "metadata": {},
   "source": [
    "#### $R^2$"
   ]
  },
  {
   "cell_type": "markdown",
   "id": "5773edfe-16c3-4246-adce-bb003f3bb597",
   "metadata": {},
   "source": [
    "El RSE se mide con unidades de $Y$, así que no siempre se puede saber cuál es un buen valor. Imagina que tienes un $Y$ con valores entre $-1$ y $1$, y que tienes otro $Y$ con valores entre $1'000,000$ y $100'000,000$. Los errores cuadrados van a ser mucho mayores en el segundo caso que en el primero, pero esto no significa que el modelo creado en el segundo caso sea malo.\n",
    "\n",
    "El estadístico $R^2$ es una medida de ajuste. Su valor es la proporción de la varianza sí explicada, así que siempre toma valores entre $0$ y $1$. Su fórmula es:\n",
    "\n",
    "$$ R^2 = \\frac{\\text{TSS} - \\text{RSS}}{\\text{TSS}} = 1 - \\frac{\\text{RSS}}{\\text{TSS}}$$\n",
    "$$ \\text{TSS} = \\sum_{i=1}^n (y_i - \\bar{y})^2$$"
   ]
  },
  {
   "cell_type": "markdown",
   "id": "afc748e3-061a-4af7-b123-cffedfc04a2e",
   "metadata": {},
   "source": [
    "TSS mide la varianza total de $Y$. RSS mide la varianza que queda sin explicarse después de la regresión. Entonces TSS-RSS mide la varianza que sí está explicada.\n",
    "\n",
    "$R^2$ mide la proporción de la varianza en $Y$ que puede ser explicada usando $X$.\n",
    "\n",
    "Calcula el estadístico $R^2$. ¿Cuánta varianza quedó sin explicar?"
   ]
  },
  {
   "cell_type": "code",
   "execution_count": 79,
   "id": "6504e6b2-0c22-491c-8c2b-93518a11b689",
   "metadata": {},
   "outputs": [
    {
     "data": {
      "text/plain": [
       "0.6118750508498306"
      ]
     },
     "execution_count": 79,
     "metadata": {},
     "output_type": "execute_result"
    }
   ],
   "source": [
    "TSS=np.sum((y-np.mean(y))**2)\n",
    "R2=1-(rss.fun/TSS)\n",
    "R2\n"
   ]
  },
  {
   "cell_type": "markdown",
   "id": "e6c2cdfd-99ff-47e1-8ab1-50abe74b594e",
   "metadata": {},
   "source": [
    "Realiza otras dos regresiones. Ya tienes hecha la regresión de ventas dado el gasto en publicidad de TV. Realiza la regresión para gastos en radio y gastos en periódico. Organiza las respuestas para que debajo de esta celda se tenga:\n",
    "- Título de regresión\n",
    "- Coeficientes estimados\n",
    "- Errores estándar de los coeficientes\n",
    "- Intervalos de confianza\n",
    "- Estadísticos t\n",
    "- p-values\n",
    "- Observaciones"
   ]
  },
  {
   "cell_type": "markdown",
   "id": "20a85e1a-c004-4341-adbc-a7ca4074d38b",
   "metadata": {},
   "source": [
    "## Regresión Radio"
   ]
  },
  {
   "cell_type": "markdown",
   "id": "1c317089-da59-4e79-90fe-9f82878e6fee",
   "metadata": {},
   "source": [
    "### Coeficientes estimados"
   ]
  },
  {
   "cell_type": "code",
   "execution_count": 83,
   "id": "e6b07c1a-2fdb-4abf-969d-887b808d3d53",
   "metadata": {},
   "outputs": [
    {
     "data": {
      "image/png": "[encoded data removed]",
      "text/plain": [
       "<Figure size 640x480 with 1 Axes>"
      ]
     },
     "metadata": {},
     "output_type": "display_data"
    },
    {
     "data": {
      "image/png": "[encoded data removed]",
      "text/plain": [
       "<Figure size 640x480 with 1 Axes>"
      ]
     },
     "metadata": {},
     "output_type": "display_data"
    },
    {
     "data": {
      "text/plain": [
       "  message: Desired error not necessarily achieved due to precision loss.\n",
       "  success: False\n",
       "   status: 2\n",
       "      fun: 3618.4795490251036\n",
       "        x: [ 9.312e+00  2.025e-01]\n",
       "      nit: 5\n",
       "      jac: [ 0.000e+00 -1.526e-04]\n",
       " hess_inv: [[ 3.914e-06 -3.674e-06]\n",
       "            [-3.674e-06  3.668e-06]]\n",
       "     nfev: 84\n",
       "     njev: 28"
      ]
     },
     "execution_count": 83,
     "metadata": {},
     "output_type": "execute_result"
    }
   ],
   "source": [
    "import pandas as pd\n",
    "import numpy as np\n",
    "import matplotlib.pyplot as plt\n",
    "import scipy.optimize as opt\n",
    "datos2=pd.read_csv(\"Advertising.csv\")\n",
    "\n",
    "x_radio=datos2[\"radio\"]\n",
    "y_radio=datos2[\"sales\"] \n",
    "n_radio = len(y_radio)\n",
    "plt.scatter(x_radio, y_radio, alpha=.5) #genera los puntos\n",
    "plt.xlabel(\"TV\")\n",
    "plt.ylabel(\"sales\")\n",
    "plt.grid()\n",
    "plt.show()\n",
    "#Hacer la regresion lineal\n",
    "n=len(x_radio)\n",
    "ones_radio=np.ones([n_radio,1])\n",
    "x_factor_radio=np.reshape(x_radio,[n_radio,1])\n",
    "X_radio=np.hstack((ones_radio,x_factor_radio)) \n",
    "y_vector_radio=np.reshape(y_radio, [n_radio,1]) #y pasa a ser columna de 1 y x\n",
    "\n",
    "n_radio,p_radio=X_radio.shape #n filas, p paramertos\n",
    "beta_radio=np.random.rand(p_radio) # empezar a encontrar valores\n",
    "\n",
    "def funcion_radio(beta_radio, X_radio, y_radio): \n",
    "    beta_radio=np.reshape(beta_radio, [p_radio,1])\n",
    "    y_pre_radio=X_radio@beta_radio\n",
    "    error_radio=y_pre_radio-y_radio\n",
    "    rss_radio=error_radio.T@error_radio\n",
    "    return rss_radio[0, 0]\n",
    "rss_radio=opt.minimize(funcion_radio, beta_radio, args=(X_radio, y_vector_radio))\n",
    "B1_radio=np.sum((x_radio-np.mean(x_radio))*(y_radio-np.mean(y_radio))/np.sum((x_radio-np.mean(x_radio))**2))\n",
    "Bo_radio=np.mean(y_radio)-B1_radio*np.mean(x_radio)\n",
    "B1_radio, Bo_radio\n",
    "def f_radio(x) :\n",
    "    return Bo_radio + B1_radio*x_radio\n",
    "plt.figure()\n",
    "plt.scatter(x_factor_radio, y_radio, alpha=.5) #genera los puntos\n",
    "plt.plot(x_factor_radio, f_radio(x_factor_radio))\n",
    "plt.xlabel(\"radio\")\n",
    "plt.ylabel(\"sales\")\n",
    "plt.grid()\n",
    "plt.show()\n",
    "rss_radio"
   ]
  },
  {
   "cell_type": "markdown",
   "id": "eca09961-a469-4e95-8b65-75c246a2323c",
   "metadata": {},
   "source": [
    "### Error estandar de los coeficientes"
   ]
  },
  {
   "cell_type": "code",
   "execution_count": 85,
   "id": "a98b6ce0-1b55-4990-8ce1-ecdc588f1c59",
   "metadata": {},
   "outputs": [
    {
     "data": {
      "text/plain": [
       "(18.27514923750052, 0.5629004962718723, 0.02041130636009068)"
      ]
     },
     "execution_count": 85,
     "metadata": {},
     "output_type": "execute_result"
    }
   ],
   "source": [
    "Var_radio= rss_radio.fun/(n_radio-2)\n",
    "SeBo_radio=np.sqrt(Var_radio*((1/n_radio)+(np.mean(x_radio)**2)/np.sum((x_radio-np.mean(x_radio))**2)))\n",
    "SeB1_radio=np.sqrt(Var_radio/np.sum((x_radio-np.mean(x_radio))**2))\n",
    "Var_radio, SeBo_radio, SeB1_radio"
   ]
  },
  {
   "cell_type": "markdown",
   "id": "8babe0a1-f536-4898-8c00-53e3e29b4c7f",
   "metadata": {},
   "source": [
    "### Intervalos de confianza"
   ]
  },
  {
   "cell_type": "code",
   "execution_count": 87,
   "id": "74332b95-a596-442f-ad8f-43bee6b9d02f",
   "metadata": {},
   "outputs": [
    {
     "data": {
      "text/plain": [
       "(8.185837102614538, 10.437439087702028)"
      ]
     },
     "execution_count": 87,
     "metadata": {},
     "output_type": "execute_result"
    }
   ],
   "source": [
    "\n",
    "Arriba1_radio=Bo_radio-2*(SeBo_radio)\n",
    "Abajo1_radio=Bo_radio+2*(SeBo_radio)\n",
    "\n",
    "Arriba2_radio=B1_radio-2*(SeB1_radio)\n",
    "Abajo2_radio=B1_radio+2*(SeB1_radio)\n",
    "Arriba1_radio, Abajo1_radio"
   ]
  },
  {
   "cell_type": "code",
   "execution_count": 88,
   "id": "818b26dd-2242-413b-81bf-8018e12abc30",
   "metadata": {},
   "outputs": [
    {
     "data": {
      "text/plain": [
       "(0.16167317067225828, 0.24331839611262102)"
      ]
     },
     "execution_count": 88,
     "metadata": {},
     "output_type": "execute_result"
    }
   ],
   "source": [
    "Arriba2_radio, Abajo2_radio"
   ]
  },
  {
   "cell_type": "markdown",
   "id": "90cd0e06-75b6-4fd1-af38-e68ea636c0be",
   "metadata": {},
   "source": [
    "### Estadisticos t"
   ]
  },
  {
   "cell_type": "code",
   "execution_count": 90,
   "id": "92acaeac-0214-4c80-a7b0-476a67ca3321",
   "metadata": {},
   "outputs": [
    {
     "data": {
      "text/plain": [
       "(16.54224531125818, 9.920765472824936)"
      ]
     },
     "execution_count": 90,
     "metadata": {},
     "output_type": "execute_result"
    }
   ],
   "source": [
    "tBo_radio=(Bo_radio-0)/SeBo_radio\n",
    "tB1_radio=(B1_radio-0)/SeB1_radio\n",
    "tBo_radio, tB1_radio"
   ]
  },
  {
   "cell_type": "markdown",
   "id": "d62665ab-ca88-4c32-96b3-e040bb79dd7b",
   "metadata": {},
   "source": [
    "### p-values"
   ]
  },
  {
   "cell_type": "code",
   "execution_count": 92,
   "id": "c30fb6a2-3b92-4a76-8dd8-ab8ba15dfb5a",
   "metadata": {},
   "outputs": [
    {
     "data": {
      "text/plain": [
       "(0.0, 0.0)"
      ]
     },
     "execution_count": 92,
     "metadata": {},
     "output_type": "execute_result"
    }
   ],
   "source": [
    "from scipy import stats\n",
    "p_Bo_radio=2*(1-stats.t.cdf(np.abs(tBo_radio), n-2))\n",
    "p_B1_radio=2*(1-stats.t.cdf(np.abs(tB1_radio), n-2))\n",
    "p_Bo_radio, p_B1_radio"
   ]
  },
  {
   "cell_type": "markdown",
   "id": "3fa76e2c-5538-438f-beb2-2bebd1b49932",
   "metadata": {},
   "source": [
    "### Observaciones"
   ]
  },
  {
   "cell_type": "markdown",
   "id": "5ee22bd3-5606-4d38-b141-b00c6d658bf3",
   "metadata": {},
   "source": [
    "No se rechaza la hipotesis nula porque ambas son 0 y quiere decir que hay una relación"
   ]
  },
  {
   "cell_type": "markdown",
   "id": "883def6a-ed58-46c6-b775-d2960420fe59",
   "metadata": {},
   "source": [
    "## Regresion newspaper"
   ]
  },
  {
   "cell_type": "markdown",
   "id": "2b57476f-64a6-45b7-8ba7-637ce78c2d12",
   "metadata": {},
   "source": [
    "### Coeficientes estimados"
   ]
  },
  {
   "cell_type": "code",
   "execution_count": 97,
   "id": "6e36ee37-967b-40de-8779-125a6c221938",
   "metadata": {},
   "outputs": [
    {
     "data": {
      "image/png": "[encoded data removed]",
      "text/plain": [
       "<Figure size 640x480 with 1 Axes>"
      ]
     },
     "metadata": {},
     "output_type": "display_data"
    },
    {
     "data": {
      "image/png": "[encoded data removed]",
      "text/plain": [
       "<Figure size 640x480 with 1 Axes>"
      ]
     },
     "metadata": {},
     "output_type": "display_data"
    },
    {
     "data": {
      "text/plain": [
       "  message: Optimization terminated successfully.\n",
       "  success: True\n",
       "   status: 0\n",
       "      fun: 5134.804544111967\n",
       "        x: [ 1.235e+01  5.469e-02]\n",
       "      nit: 7\n",
       "      jac: [ 0.000e+00  0.000e+00]\n",
       " hess_inv: [[ 1.779e-03 -3.411e-05]\n",
       "            [-3.411e-05  1.842e-06]]\n",
       "     nfev: 94\n",
       "     njev: 31"
      ]
     },
     "execution_count": 97,
     "metadata": {},
     "output_type": "execute_result"
    }
   ],
   "source": [
    "import pandas as pd\n",
    "import numpy as np\n",
    "import matplotlib.pyplot as plt\n",
    "import scipy.optimize as opt\n",
    "datos3=pd.read_csv(\"Advertising.csv\")\n",
    "x_nw=datos3[\"newspaper\"]\n",
    "y_nw=datos3[\"sales\"] \n",
    "n_nw= len(y_nw)\n",
    "plt.scatter(x_nw, y_nw, alpha=.5) #genera los puntos\n",
    "plt.xlabel(\"NW\")\n",
    "plt.ylabel(\"sales\")\n",
    "plt.grid()\n",
    "plt.show()\n",
    "#Hacer la regresion lineal\n",
    "n_nw=len(x_nw)\n",
    "ones_nw=np.ones([n_nw,1])\n",
    "x_factor_nw=np.reshape(x_nw,[n_nw,1])\n",
    "X_nw=np.hstack((ones_nw,x_factor_nw)) \n",
    "y_vector_nw=np.reshape(y_nw, [n_nw,1]) #y pasa a ser columna de 1 y x\n",
    "\n",
    "n_nw,p_nw=X_nw.shape #n filas, p paramertos\n",
    "beta_nw=np.random.rand(p_nw) # empezar a encontrar valores\n",
    "\n",
    "def funcion_nw(beta_nw, X_nw, y_nw): \n",
    "    beta_nw=np.reshape(beta_nw, [p_nw,1])\n",
    "    y_pre_nw=X_nw@beta_nw\n",
    "    error_nw=y_pre_nw-y_nw\n",
    "    rss_nw=error_nw.T@error_nw\n",
    "    return rss_nw[0, 0]\n",
    "rss_nw=opt.minimize(funcion_nw, beta_nw, args=(X_nw, y_vector_nw))\n",
    "B1_nw=np.sum((x_nw-np.mean(x_nw))*(y_nw-np.mean(y_nw))/np.sum((x_nw-np.mean(x_nw))**2))\n",
    "Bo_nw=np.mean(y_nw)-B1_nw*np.mean(x_nw)\n",
    "def f_nw(x) :\n",
    "    return Bo_nw + B1_nw*x_nw\n",
    "\n",
    "plt.figure()\n",
    "plt.scatter(x_factor_nw, y_nw, alpha=.5) #genera los puntos\n",
    "plt.plot(x_factor_nw, f_nw(x_factor_nw))\n",
    "plt.xlabel(\"Nw\")\n",
    "plt.ylabel(\"sales\")\n",
    "plt.grid()\n",
    "plt.show()\n",
    "rss_nw\n",
    "\n"
   ]
  },
  {
   "cell_type": "markdown",
   "id": "f1422c1f-56fc-42c3-8cd4-d2565d4cf0fc",
   "metadata": {},
   "source": [
    "### Erros estándar de los coeficientes"
   ]
  },
  {
   "cell_type": "code",
   "execution_count": 99,
   "id": "0712d58b-517e-4df4-8a33-67015b27ba5d",
   "metadata": {},
   "outputs": [
    {
     "data": {
      "text/plain": [
       "(25.93335628339377, 0.6214201876094362, 0.016575721876358206)"
      ]
     },
     "execution_count": 99,
     "metadata": {},
     "output_type": "execute_result"
    }
   ],
   "source": [
    "Var_nw= rss_nw.fun/(n_nw-2)\n",
    "SeBo_nw=np.sqrt(Var_nw*((1/n_nw)+(np.mean(x_nw)**2)/np.sum((x_nw-np.mean(x_nw))**2)))\n",
    "SeB1_nw=np.sqrt(Var_nw/np.sum((x_nw-np.mean(x_nw))**2))\n",
    "Var_nw, SeBo_nw, SeB1_nw"
   ]
  },
  {
   "cell_type": "markdown",
   "id": "aa8fca9a-33da-4a1d-9b6b-50a0a63f1b56",
   "metadata": {},
   "source": [
    "### Intervalos de confianza"
   ]
  },
  {
   "cell_type": "code",
   "execution_count": 101,
   "id": "a8c33223-d7c7-4d9d-b900-1255b09c4cf1",
   "metadata": {},
   "outputs": [
    {
     "data": {
      "text/plain": [
       "(11.108566694059288, 13.594247444497032)"
      ]
     },
     "execution_count": 101,
     "metadata": {},
     "output_type": "execute_result"
    }
   ],
   "source": [
    "\n",
    "Arriba1_nw=Bo_nw-2*(SeBo_nw)\n",
    "Abajo1_nw=Bo_nw+2*(SeBo_nw)\n",
    "\n",
    "Arriba2_nw=B1_nw-2*(SeB1_nw)\n",
    "Abajo2_nw=B1_nw+2*(SeB1_nw)\n",
    "Arriba1_nw, Abajo1_nw\n"
   ]
  },
  {
   "cell_type": "code",
   "execution_count": 102,
   "id": "a10b1764-4ad0-42ca-b81c-fc26eefbbc87",
   "metadata": {},
   "outputs": [
    {
     "data": {
      "text/plain": [
       "(0.02154165471955695, 0.08784454222498977)"
      ]
     },
     "execution_count": 102,
     "metadata": {},
     "output_type": "execute_result"
    }
   ],
   "source": [
    "Arriba2_nw, Abajo2_nw\n"
   ]
  },
  {
   "cell_type": "markdown",
   "id": "5bf9b41e-a817-45ba-93c9-f7751f6df22d",
   "metadata": {},
   "source": [
    "### Estádisticos T"
   ]
  },
  {
   "cell_type": "code",
   "execution_count": 104,
   "id": "6655db9d-8f85-461a-8637-c9e5b6cb3bcc",
   "metadata": {},
   "outputs": [
    {
     "data": {
      "text/plain": [
       "(19.876095620248893, 3.29959074363341)"
      ]
     },
     "execution_count": 104,
     "metadata": {},
     "output_type": "execute_result"
    }
   ],
   "source": [
    "tBo_nw=(Bo_nw-0)/SeBo_nw\n",
    "tB1_nw=(B1_nw-0)/SeB1_nw\n",
    "tBo_nw, tB1_nw"
   ]
  },
  {
   "cell_type": "markdown",
   "id": "1bf2b391-fc93-47b2-8d8b-20a0575453e8",
   "metadata": {},
   "source": [
    "### P-values"
   ]
  },
  {
   "cell_type": "code",
   "execution_count": 106,
   "id": "e6624deb-8b16-4b8d-be6f-c14e452b7ad8",
   "metadata": {},
   "outputs": [
    {
     "data": {
      "text/plain": [
       "(0.0, 0.0011481958688883687)"
      ]
     },
     "execution_count": 106,
     "metadata": {},
     "output_type": "execute_result"
    }
   ],
   "source": [
    "from scipy import stats\n",
    "p_Bo_nw=2*(1-stats.t.cdf(np.abs(tBo_nw), n-2))\n",
    "p_B1_nw=2*(1-stats.t.cdf(np.abs(tB1_nw), n-2))\n",
    "p_Bo_nw, p_B1_nw"
   ]
  },
  {
   "cell_type": "markdown",
   "id": "0f189671-9f82-4220-9283-2b516c6510d1",
   "metadata": {},
   "source": [
    "### Observaciones"
   ]
  },
  {
   "cell_type": "markdown",
   "id": "f9f11eca-bb42-4bbf-abee-bf1bbc155331",
   "metadata": {},
   "source": [
    "No se rechaza la hipotesis porque las probabilidades son casi 0 o 0 "
   ]
  },
  {
   "cell_type": "markdown",
   "id": "304d9a5c-92e9-4f44-898b-eaec6af135bb",
   "metadata": {},
   "source": [
    "## Regresión lineal múltiple"
   ]
  },
  {
   "cell_type": "markdown",
   "id": "69aed655-7d42-414c-a05c-7564e4010cde",
   "metadata": {},
   "source": [
    "En lugar de hacer una regresión para cada factor independiente, quizás se puede extender el modelo para que tenga varios factores dentro:\n",
    "\n",
    "$$ Y = \\beta_0 + \\beta_1 X_1 + \\beta_2 X_2 + ... + \\beta_p X_p + \\epsilon $$\n",
    "\n",
    "Para nuestro ejemplo de publicidad:\n",
    "\n",
    "$$ \\text{sales} = \\beta_0 + \\beta_1 (\\text{TV}) + \\beta_2 (\\text{radio}) + \\beta_3 (\\text{newspaper}) + \\epsilon $$"
   ]
  },
  {
   "cell_type": "markdown",
   "id": "bd93eb8c-f115-4de4-86a1-820a89f4f087",
   "metadata": {},
   "source": [
    "Utiliza la función `minimize` para estimar los coeficientes $\\beta_0$, $\\beta_1$, $\\beta_2$ y $\\beta_3$"
   ]
  },
  {
   "cell_type": "code",
   "execution_count": 112,
   "id": "34060470-47ae-4f8a-bcca-970795d1a06f",
   "metadata": {},
   "outputs": [
    {
     "data": {
      "text/plain": [
       "  message: Desired error not necessarily achieved due to precision loss.\n",
       "  success: False\n",
       "   status: 2\n",
       "      fun: 556.8252629034959\n",
       "        x: [ 2.939e+00  4.576e-02  1.885e-01 -1.038e-03]\n",
       "      nit: 12\n",
       "      jac: [ 7.629e-06  1.526e-05  7.629e-06  1.450e-04]\n",
       " hess_inv: [[ 1.868e-03 -5.229e-06  1.410e-04 -1.306e-04]\n",
       "            [-5.229e-06  1.572e-07 -7.419e-07  4.271e-07]\n",
       "            [ 1.410e-04 -7.419e-07  1.188e-05 -1.039e-05]\n",
       "            [-1.306e-04  4.271e-07 -1.039e-05  9.534e-06]]\n",
       "     nfev: 342\n",
       "     njev: 66"
      ]
     },
     "execution_count": 112,
     "metadata": {},
     "output_type": "execute_result"
    }
   ],
   "source": [
    "import pandas as pd\n",
    "import numpy as np\n",
    "import matplotlib.pyplot as plt\n",
    "import scipy.optimize as opt\n",
    "from scipy import stats\n",
    "datos=pd.read_csv(\"Advertising.csv\")\n",
    "x_tv=datos[\"TV\"]\n",
    "x_r=datos[\"radio\"]\n",
    "x_p=datos[\"newspaper\"] \n",
    "y=datos[\"sales\"]\n",
    "n=len(y)\n",
    "ones=np.ones([n, 1])\n",
    "x_factor_tv=np.reshape(x_tv, [n,1])\n",
    "x_factor_r=np.reshape(x_r, [n,1])\n",
    "x_factor_p=np.reshape(x_p, [n, 1])\n",
    "X=np.hstack((ones, x_factor_tv, x_factor_r, x_factor_p))\n",
    "y_vector=np.reshape(y, [n, 1])\n",
    "n, p=X.shape\n",
    "beta=np.random.rand(p)\n",
    "\n",
    "def funcion(beta, X, y): \n",
    "    beta=np.reshape(beta, [p,1])\n",
    "    y_pre=X@beta\n",
    "    error=y_pre-y\n",
    "    rss=error.T@error\n",
    "    return rss[0, 0]\n",
    "rss=opt.minimize(funcion, beta, args=(X, y_vector))\n",
    "rss\n",
    "\n",
    "\n",
    "\n"
   ]
  },
  {
   "cell_type": "markdown",
   "id": "7f2c2714-b7f4-4e23-8499-3a191642d829",
   "metadata": {},
   "source": [
    "Calcula el RSS y RSE."
   ]
  },
  {
   "cell_type": "code",
   "execution_count": 114,
   "id": "d966bf7f-54bc-49b7-a362-7c4cbe5f20ac",
   "metadata": {},
   "outputs": [
    {
     "data": {
      "text/plain": [
       "(1.676976088840538, 0.8972106381787106)"
      ]
     },
     "execution_count": 114,
     "metadata": {},
     "output_type": "execute_result"
    }
   ],
   "source": [
    "RSE= np.sqrt(rss.fun/(n-2))\n",
    "TSS=np.sum((y-np.mean(y))**2)\n",
    "R2=1-(rss.fun/TSS)\n",
    "RSE, R2"
   ]
  },
  {
   "cell_type": "markdown",
   "id": "ec0b0118-2799-4444-9dcf-692dfbe67df5",
   "metadata": {},
   "source": [
    "Dada tu matriz $X$ que contiene todos los factores como columnas, utiliza el siguiente código para encontrar el error estándar de tus estimaciones\n",
    "\n",
    "`var_beta = np.linalg.inv(X.T @ X) * rse**2`\n",
    "\n",
    "`std_beta = np.sqrt(var_beta.diagonal())`\n",
    "\n",
    "El orden de los valores corresponde al orden de los factores en las columnas de la matriz $X$."
   ]
  },
  {
   "cell_type": "code",
   "execution_count": 116,
   "id": "f3140322-742f-434d-8ea5-becd3d2a4984",
   "metadata": {},
   "outputs": [
    {
     "data": {
      "text/plain": [
       "(array([[ 9.63040535e-02, -2.63043223e-04, -1.10422189e-03,\n",
       "         -5.85051328e-04],\n",
       "        [-2.63043223e-04,  1.92608319e-06, -4.42523913e-07,\n",
       "         -3.23296087e-07],\n",
       "        [-1.10422189e-03, -4.42523913e-07,  7.34043267e-05,\n",
       "         -1.76208203e-05],\n",
       "        [-5.85051328e-04, -3.23296087e-07, -1.76208203e-05,\n",
       "          3.41205850e-05]]),\n",
       " array([0.31032894, 0.00138783, 0.00856763, 0.00584128]))"
      ]
     },
     "execution_count": 116,
     "metadata": {},
     "output_type": "execute_result"
    }
   ],
   "source": [
    "var_beta=np.linalg.inv(X.T@X)*RSE**2\n",
    "std_beta=np.sqrt(var_beta.diagonal())\n",
    "var_beta, std_beta"
   ]
  },
  {
   "cell_type": "markdown",
   "id": "36c77f8b-b87e-41ae-a26e-bdb440ba82e9",
   "metadata": {},
   "source": [
    "Calcula los estadísticos t y *p-values* de tus estimaciones."
   ]
  },
  {
   "cell_type": "code",
   "execution_count": 156,
   "id": "37387105-358f-40d6-9ea0-de92b23f702e",
   "metadata": {},
   "outputs": [
    {
     "data": {
      "text/plain": [
       "(array([ 9.47025528, 32.97556942, 22.00491282, -0.1776161 ]),\n",
       " 0.0,\n",
       " 0.0,\n",
       " 0.0,\n",
       " 0.8592060545496132)"
      ]
     },
     "execution_count": 156,
     "metadata": {},
     "output_type": "execute_result"
    }
   ],
   "source": [
    "t=rss.x/std_beta\n",
    "p_0=2*(1-stats.t.cdf(np.abs(t[0]), n-2))\n",
    "p_1=2*(1-stats.t.cdf(np.abs(t[1]), n-2))\n",
    "p_2=2*(1-stats.t.cdf(np.abs(t[2]), n-2))\n",
    "p_3=2*(1-stats.t.cdf(np.abs(t[3]), n-2))\n",
    "t, p_0, p_1, p_2, p_3"
   ]
  },
  {
   "cell_type": "markdown",
   "id": "c72cd4fd-3670-47d8-84a0-4375bd6b0a81",
   "metadata": {},
   "source": [
    "¿Qué diferencias puedes observar entre los *p-values* de una regresión múltiple y los encontrados en regresiones simples? ¿Por qué crees que existen estas diferencias?"
   ]
  },
  {
   "cell_type": "markdown",
   "id": "c6c4d945-5a9c-462c-bd3c-446f01839ad6",
   "metadata": {},
   "source": [
    "Porque, no es lo mismo considerar un solo aspecto, cuando ya estás considerando varios aspectos en uno mismo, para probabilidades suben porque estás abarcando un mayor área del espacio muestreal. "
   ]
  },
  {
   "cell_type": "markdown",
   "id": "92356829-60cc-495f-9464-215c652cacf8",
   "metadata": {},
   "source": [
    "## Referencia\n",
    "\n",
    "James, G., Witten, D., Hastie, T., Tibshirani, R.,, Taylor, J. (2023). An Introduction to Statistical Learning with Applications in Python. Cham: Springer. ISBN: 978-3-031-38746-3"
   ]
  }
 ],
 "metadata": {
  "kernelspec": {
   "display_name": "Python 3 (ipykernel)",
   "language": "python",
   "name": "python3"
  },
  "language_info": {
   "codemirror_mode": {
    "name": "ipython",
    "version": 3
   },
   "file_extension": ".py",
   "mimetype": "text/x-python",
   "name": "python",
   "nbconvert_exporter": "python",
   "pygments_lexer": "ipython3",
   "version": "3.12.4"
  }
 },
 "nbformat": 4,
 "nbformat_minor": 5
}
