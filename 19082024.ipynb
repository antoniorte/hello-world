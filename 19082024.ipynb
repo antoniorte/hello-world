{
 "cells": [
  {
   "cell_type": "markdown",
   "id": "cb33b804-9762-4324-acec-deaf46d5292b",
   "metadata": {},
   "source": [
    "# Listas"
   ]
  },
  {
   "cell_type": "markdown",
   "id": "b36b0988-93fb-4ef5-851a-29f91f87b9f8",
   "metadata": {},
   "source": [
    "Una lista es un tipo de variable que se encarga de cuardar mucha información en un mismo lugar variable=[]. Puede guardar cualquier tipo de vairable en una lista"
   ]
  },
  {
   "cell_type": "code",
   "execution_count": 4,
   "id": "53c4d000-46ba-4b91-8d3c-86540fd7f9b5",
   "metadata": {},
   "outputs": [],
   "source": [
    "yo=[\"Toño\", \"Chava\", \"Padi\", \"Fray\"]"
   ]
  },
  {
   "cell_type": "code",
   "execution_count": 8,
   "id": "9f335b19-b7c0-4b3a-be83-e696889d2a75",
   "metadata": {},
   "outputs": [],
   "source": [
    "yo.append(\"Luis\")"
   ]
  },
  {
   "cell_type": "code",
   "execution_count": 10,
   "id": "dcc60c44-43d8-4de8-8773-0b8ede1d5323",
   "metadata": {},
   "outputs": [
    {
     "data": {
      "text/plain": [
       "list"
      ]
     },
     "execution_count": 10,
     "metadata": {},
     "output_type": "execute_result"
    }
   ],
   "source": [
    "type(yo)"
   ]
  },
  {
   "cell_type": "code",
   "execution_count": 12,
   "id": "6490eb16-9ac5-4407-aedb-585a0732ce88",
   "metadata": {},
   "outputs": [
    {
     "data": {
      "text/plain": [
       "['Toño', 'Chava', 'Padi', 'Fray', 'Luis']"
      ]
     },
     "execution_count": 12,
     "metadata": {},
     "output_type": "execute_result"
    }
   ],
   "source": [
    "yo"
   ]
  },
  {
   "cell_type": "code",
   "execution_count": 16,
   "id": "c36bd852-45c3-48df-b472-40ded551c4f9",
   "metadata": {},
   "outputs": [
    {
     "data": {
      "text/plain": [
       "'Luis'"
      ]
     },
     "execution_count": 16,
     "metadata": {},
     "output_type": "execute_result"
    }
   ],
   "source": [
    "yo.pop(3) #Quitar algo, si no se pone número es que quitará el último"
   ]
  },
  {
   "cell_type": "code",
   "execution_count": 18,
   "id": "46930eb0-695f-4870-8c68-729c2cb0dff9",
   "metadata": {},
   "outputs": [],
   "source": [
    "lista1=[1, 2, 3]"
   ]
  },
  {
   "cell_type": "code",
   "execution_count": 22,
   "id": "3e5ad9ca-de36-41ee-a235-89d419304bcc",
   "metadata": {},
   "outputs": [
    {
     "data": {
      "text/plain": [
       "['Hola', [1, 2, 3]]"
      ]
     },
     "execution_count": 22,
     "metadata": {},
     "output_type": "execute_result"
    }
   ],
   "source": [
    "lista2=[\"Hola\", lista1]\n",
    "lista2"
   ]
  },
  {
   "cell_type": "code",
   "execution_count": 30,
   "id": "7dd520c2-a7c9-4d02-810d-9bcdc71fd487",
   "metadata": {},
   "outputs": [
    {
     "name": "stdout",
     "output_type": "stream",
     "text": [
      "1\n",
      "2\n",
      "3\n"
     ]
    }
   ],
   "source": [
    "i=0\n",
    "while i<len(lista1):\n",
    "    print(lista1[i])\n",
    "    i+=1"
   ]
  },
  {
   "cell_type": "code",
   "execution_count": 32,
   "id": "fda0378a-393c-47d5-98e3-8296f39e4520",
   "metadata": {},
   "outputs": [
    {
     "name": "stdout",
     "output_type": "stream",
     "text": [
      "1\n",
      "2\n",
      "3\n"
     ]
    }
   ],
   "source": [
    "for elemento in lista1:\n",
    "    print(elemento)"
   ]
  },
  {
   "cell_type": "code",
   "execution_count": 34,
   "id": "024268bc-062c-4ed7-a32d-d0a583758a7a",
   "metadata": {},
   "outputs": [],
   "source": [
    "def funcion1():\n",
    "    print(\"Hola\")"
   ]
  },
  {
   "cell_type": "code",
   "execution_count": 38,
   "id": "0d6dd3c7-a80c-4b4d-a08e-92e8325af4c6",
   "metadata": {},
   "outputs": [
    {
     "name": "stdout",
     "output_type": "stream",
     "text": [
      "Hola\n"
     ]
    }
   ],
   "source": [
    "funcion1()"
   ]
  },
  {
   "cell_type": "code",
   "execution_count": 46,
   "id": "105ec1ef-5a15-48d6-93f4-aee9dd3dbae0",
   "metadata": {},
   "outputs": [],
   "source": [
    "def suma(a, b):\n",
    "    resultado=a+b\n",
    "    return resultado\n",
    "    "
   ]
  },
  {
   "cell_type": "code",
   "execution_count": 48,
   "id": "9cc7e78d-0023-43d2-a450-c9f35fdec6c7",
   "metadata": {},
   "outputs": [
    {
     "data": {
      "text/plain": [
       "8"
      ]
     },
     "execution_count": 48,
     "metadata": {},
     "output_type": "execute_result"
    }
   ],
   "source": [
    "suma(5, 3)"
   ]
  },
  {
   "cell_type": "code",
   "execution_count": 50,
   "id": "75f7bb86-0d78-4ed3-88d3-be0e60bb7dc0",
   "metadata": {},
   "outputs": [],
   "source": [
    "def multipicacion(a, b): \n",
    "    resultado=a*b\n",
    "    return resultado"
   ]
  },
  {
   "cell_type": "code",
   "execution_count": 64,
   "id": "9283ad36-f283-48c7-8b5d-bafd2e0603ef",
   "metadata": {},
   "outputs": [
    {
     "data": {
      "text/plain": [
       "120"
      ]
     },
     "execution_count": 64,
     "metadata": {},
     "output_type": "execute_result"
    }
   ],
   "source": [
    "def factorial(a) : \n",
    "    i=1\n",
    "    acc=1\n",
    "    while i<=a:  \n",
    "        acc=acc*i\n",
    "        i+=1\n",
    "    return acc\n",
    "factorial(5)"
   ]
  },
  {
   "cell_type": "code",
   "execution_count": 68,
   "id": "fc02fdf8-422f-4492-9b83-e023a6e13bff",
   "metadata": {},
   "outputs": [],
   "source": [
    "lista=[2, 4, 7, 10, 8]\n"
   ]
  },
  {
   "cell_type": "code",
   "execution_count": 72,
   "id": "7a619dbb-0d14-4f24-a7f5-44b02f57e010",
   "metadata": {},
   "outputs": [
    {
     "name": "stdout",
     "output_type": "stream",
     "text": [
      "2\n",
      "24\n",
      "5040\n",
      "3628800\n",
      "40320\n"
     ]
    }
   ],
   "source": [
    "for elemento in lista: \n",
    "    print(factorial(elemento))"
   ]
  },
  {
   "cell_type": "code",
   "execution_count": 80,
   "id": "18d8f745-4819-45fd-844c-32a5e83492e2",
   "metadata": {},
   "outputs": [
    {
     "name": "stdout",
     "output_type": "stream",
     "text": [
      "4\n",
      "3\n",
      "valor por defecto\n"
     ]
    }
   ],
   "source": [
    "def funcion(a, b, c=\"valor por defecto\"): \n",
    "    print(a)\n",
    "    print(b)\n",
    "    print(c)\n",
    "funcion(4, 3)"
   ]
  },
  {
   "cell_type": "markdown",
   "id": "ea135ee0-0362-4ace-b047-f09698cafe27",
   "metadata": {},
   "source": [
    "# Actividad"
   ]
  },
  {
   "cell_type": "markdown",
   "id": "9aca431b-cac4-4fe2-85e7-3ad342f4c21e",
   "metadata": {},
   "source": [
    "1. Pasar a función el código de encontrar un número primo\n",
    "   $$ esprimo(a) $$\n",
    "2. Crear una función que ingrese un número *a* y que encuentre el número primo más cercano\n",
    "   $$ 0<=*a*<=100 $$\n",
    "3. Pasar a funcio el código de encuntrar factoral y encontral factorial de los siguientes números\n",
    "4. Crear una lista con los primeros 100 multiplos de 3"
   ]
  },
  {
   "cell_type": "code",
   "execution_count": 109,
   "id": "dd96fbfc-0eac-427b-b5e5-c1000b31a9cb",
   "metadata": {},
   "outputs": [
    {
     "data": {
      "text/plain": [
       "False"
      ]
     },
     "execution_count": 109,
     "metadata": {},
     "output_type": "execute_result"
    }
   ],
   "source": [
    "def esprimo(a): \n",
    "    i=2\n",
    "    primo = True\n",
    "    while i < a:\n",
    "        if a % i == 0:\n",
    "            primo = False\n",
    "            break\n",
    "        i += 1\n",
    "    if (primo) :\n",
    "        return True\n",
    "    else :\n",
    "        return False\n",
    "esprimo(4)"
   ]
  },
  {
   "cell_type": "code",
   "execution_count": 117,
   "id": "2d83075a-4649-43e0-8659-3f421886257f",
   "metadata": {},
   "outputs": [
    {
     "ename": "SyntaxError",
     "evalue": "incomplete input (6383062.py, line 10)",
     "output_type": "error",
     "traceback": [
      "\u001b[1;36m  Cell \u001b[1;32mIn[117], line 10\u001b[1;36m\u001b[0m\n\u001b[1;33m    \u001b[0m\n\u001b[1;37m    ^\u001b[0m\n\u001b[1;31mSyntaxError\u001b[0m\u001b[1;31m:\u001b[0m incomplete input\n"
     ]
    }
   ],
   "source": [
    "def cerca(a): \n",
    "    i=2\n",
    "    primo = True\n",
    "    while i < a:\n",
    "        if a % i == 0:\n",
    "            primo = False\n",
    "            break\n",
    "        i += 1\n",
    "    if cerca(a+i): \n",
    "        \n",
    "        "
   ]
  },
  {
   "cell_type": "markdown",
   "id": "b518bb45-f4dc-47a4-9397-842423f02d47",
   "metadata": {},
   "source": [
    "![](Diagrama3.jpg)"
   ]
  },
  {
   "cell_type": "code",
   "execution_count": 115,
   "id": "fbc40841-9d34-4ab2-94d8-3cc660df5740",
   "metadata": {},
   "outputs": [
    {
     "name": "stdout",
     "output_type": "stream",
     "text": [
      "24\n",
      "5040\n",
      "120\n",
      "40320\n",
      "362880\n",
      "6\n"
     ]
    }
   ],
   "source": [
    "def factorial(a): \n",
    "    i = 1\n",
    "    acc = 1\n",
    "    while i <= a:  \n",
    "        acc *= i\n",
    "        i += 1\n",
    "    return acc\n",
    "\n",
    "lista = [4, 7, 5, 8, 9, 3]\n",
    "for elemento in lista:\n",
    "    factoriales = factorial(elemento)\n",
    "    print(factoriales)"
   ]
  },
  {
   "cell_type": "code",
   "execution_count": null,
   "id": "2e1a11ec-b0ca-4283-a8fb-1d4417b55d3f",
   "metadata": {},
   "outputs": [],
   "source": [
    "\n",
    "def cerca(a):\n",
    "    if a < 0 or a > 100:\n",
    "        raise ValueError(\"El valor de 'a' debe estar en el rango 0 <= a <= 100\")\n",
    "\n",
    "    # Busca hacia arriba\n",
    "    i = a\n",
    "    while i <= 100:\n",
    "        if es_primo(i):\n",
    "            return i\n",
    "        i += 1\n",
    "    \n",
    "    # Si no encontró ningún primo hacia arriba, busca hacia abajo\n",
    "    i = a\n",
    "    while i >= 0:\n",
    "        if es_primo(i):\n",
    "            return i\n",
    "        i -= 1\n",
    "\n",
    "    # En caso de que no haya primos en el rango (esto no debería pasar con el rango 0 a 100)\n",
    "    return None\n",
    "\n",
    "# Ejemplo de uso\n",
    "print(cerca(15))  # Salida esperada: 17 (primo más cercano a 15)\n"
   ]
  }
 ],
 "metadata": {
  "kernelspec": {
   "display_name": "Python 3 (ipykernel)",
   "language": "python",
   "name": "python3"
  },
  "language_info": {
   "codemirror_mode": {
    "name": "ipython",
    "version": 3
   },
   "file_extension": ".py",
   "mimetype": "text/x-python",
   "name": "python",
   "nbconvert_exporter": "python",
   "pygments_lexer": "ipython3",
   "version": "3.12.4"
  }
 },
 "nbformat": 4,
 "nbformat_minor": 5
}
