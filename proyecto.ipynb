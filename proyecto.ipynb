{
 "cells": [
  {
   "cell_type": "markdown",
   "id": "e5cec592-ef92-4cfe-83fd-555924b58409",
   "metadata": {},
   "source": [
    "# Prediccion de si las personas creen que les afecta el uso de su celular \n",
    "## Integrantes: \n",
    "* Antonio Ortegón\n",
    "* Eduardo Fraire\n",
    "* Luis Ordoñez"
   ]
  },
  {
   "cell_type": "markdown",
   "id": "df453cb8-33a5-4378-9a5f-b44f3927e430",
   "metadata": {},
   "source": [
    "### Problema: \n",
    "Nosotros cómo equipos nos planteamos la problematica de predecir si las personas creen que les afecta el uso del celular mediante las siguientes preguntas: \n",
    "\n",
    "- ¿Locales o Foraneos?\n",
    "\n",
    "- ¿Estudian o Trabajan'\n",
    "\n",
    "- La edad que tienen\n",
    "\n",
    "- ¿Cuánto pagan en su plan mensual?\n",
    "\n",
    "- Veces que checan su celular al día\n",
    "\n",
    "- Las horas que duermen\n",
    "\n",
    "- ¿Cuántas veces cargan su celular?\n",
    "\n",
    "- El tiempo en pantalla\n",
    "\n",
    "- Tiempo en redes sociales"
   ]
  },
  {
   "cell_type": "markdown",
   "id": "003f697a-562f-4414-9964-09afe0048318",
   "metadata": {},
   "source": [
    "## Objetivos:\n",
    "* Predecir si en realidad hay una relación entre las variables que estamos proponiendo con si en realidad las personas creen qe el uso de su celular les afecta.  \n",
    "### Objetivos especifios: \n",
    "* Determinar las variables cuantitatvas y cualitativas.\n",
    "* Analizar como afectan estás variables\n",
    "* Contruir un modelo de regresión lógistica"
   ]
  },
  {
   "cell_type": "markdown",
   "id": "80b5b156-3bb9-4e6e-ba17-f2f39c80cc70",
   "metadata": {},
   "source": [
    "### Modelo"
   ]
  },
  {
   "cell_type": "markdown",
   "id": "9768576a-0d32-40e0-8a9d-3bf7f4e52fac",
   "metadata": {},
   "source": [
    "$$ y = \\frac{1}{1 + e^{-(\\beta_0 + \\beta_1 L/F + \\beta_2 E/T + \\beta_3 años + \\beta_4 dinero + \\beta_5 veces + \\beta_6 sueño + \\beta_7 cargas + \\beta_8 tiempop + \\beta_9 tiempo rm)}} $$\n",
    "\n",
    "\n",
    "$$ J(\\vec{\\beta}) = -  \\sum_{i=1}^n{[y_i \\ln{(\\hat{p}(x_i))} + (1-y_i)\\ln{(1 - \\hat{p}(x_i))}]}$$"
   ]
  },
  {
   "cell_type": "markdown",
   "id": "87def70d-7794-4ecc-9332-2a6f30f76835",
   "metadata": {},
   "source": [
    "### Variables\n",
    "\n",
    "- Local/foraneo---L\n",
    "\n",
    "- Trabajas/Estudias--E\n",
    "\n",
    "- Año---anho\n",
    "\n",
    "- Dinero---D\n",
    "\n",
    "- Veces---Ve\n",
    "\n",
    "- Sueño---Sue\n",
    "\n",
    "- Cargas---C\n",
    "\n",
    "- Tiempo p--- TP\n",
    "\n",
    "- Tiempio--- RM\n",
    "\n",
    "\n",
    "\n"
   ]
  },
  {
   "cell_type": "markdown",
   "id": "694a0159-421e-4150-9170-6abe45934cfd",
   "metadata": {},
   "source": [
    "### Referencia: \n",
    "\n",
    "https://iteso01-my.sharepoint.com/:x:/g/personal/antonio_ortegon_iteso_mx/EZWUG0dpdK9Ipttincd5Y3oB_O8V49AEeEOgkQwxGZsRXg?e=6RfXKA"
   ]
  },
  {
   "cell_type": "markdown",
   "id": "2550cb10-00f4-4aa2-9233-9f232ce079b5",
   "metadata": {},
   "source": [
    "### Resolocuión mediante python"
   ]
  },
  {
   "cell_type": "markdown",
   "id": "1a377e0e-d29c-4838-88b9-a7ebffaf50ac",
   "metadata": {},
   "source": [
    "### 1. Importar el la base de datos"
   ]
  },
  {
   "cell_type": "code",
   "execution_count": 3,
   "id": "7d2c625b-078d-4e1d-873a-128b8da44e68",
   "metadata": {},
   "outputs": [
    {
     "data": {
      "text/html": [
       "<div>\n",
       "<style scoped>\n",
       "    .dataframe tbody tr th:only-of-type {\n",
       "        vertical-align: middle;\n",
       "    }\n",
       "\n",
       "    .dataframe tbody tr th {\n",
       "        vertical-align: top;\n",
       "    }\n",
       "\n",
       "    .dataframe thead th {\n",
       "        text-align: right;\n",
       "    }\n",
       "</style>\n",
       "<table border=\"1\" class=\"dataframe\">\n",
       "  <thead>\n",
       "    <tr style=\"text-align: right;\">\n",
       "      <th></th>\n",
       "      <th>Marca temporal</th>\n",
       "      <th>EU\\n</th>\n",
       "      <th>L/F</th>\n",
       "      <th>E/T</th>\n",
       "      <th>Años</th>\n",
       "      <th>Mometos</th>\n",
       "      <th>Afecta</th>\n",
       "      <th>Razones</th>\n",
       "      <th>Reaccion</th>\n",
       "      <th>Cambios</th>\n",
       "      <th>Dinero</th>\n",
       "      <th>Veces</th>\n",
       "      <th>Sueño</th>\n",
       "      <th>Cargas</th>\n",
       "      <th>Tiempo p</th>\n",
       "      <th>Tiempo RM</th>\n",
       "    </tr>\n",
       "  </thead>\n",
       "  <tbody>\n",
       "    <tr>\n",
       "      <th>0</th>\n",
       "      <td>5/29/2024 12:56:01</td>\n",
       "      <td>Si</td>\n",
       "      <td>Local</td>\n",
       "      <td>Solo estudio</td>\n",
       "      <td>18</td>\n",
       "      <td>Cuando estoy en mi casa</td>\n",
       "      <td>No</td>\n",
       "      <td>Buscar algo en internet, ver mis redes sociale...</td>\n",
       "      <td>Ninguna, no me causa ningún problema</td>\n",
       "      <td>Cuando veo mis redes no estar tanto tiempo vie...</td>\n",
       "      <td>200</td>\n",
       "      <td>7</td>\n",
       "      <td>0</td>\n",
       "      <td>2</td>\n",
       "      <td>60</td>\n",
       "      <td>1.5</td>\n",
       "    </tr>\n",
       "    <tr>\n",
       "      <th>1</th>\n",
       "      <td>5/29/2024 13:09:35</td>\n",
       "      <td>Si</td>\n",
       "      <td>Local</td>\n",
       "      <td>Solo estudio</td>\n",
       "      <td>20</td>\n",
       "      <td>En la noche</td>\n",
       "      <td>Si</td>\n",
       "      <td>Ocio y procrastinación</td>\n",
       "      <td>Me aburro</td>\n",
       "      <td>Dejar de verlo como un medio de salir de mi ab...</td>\n",
       "      <td>200</td>\n",
       "      <td>35</td>\n",
       "      <td>2</td>\n",
       "      <td>2</td>\n",
       "      <td>60</td>\n",
       "      <td>1.5</td>\n",
       "    </tr>\n",
       "    <tr>\n",
       "      <th>2</th>\n",
       "      <td>5/29/2024 13:09:36</td>\n",
       "      <td>Si</td>\n",
       "      <td>Local</td>\n",
       "      <td>Solo estudio</td>\n",
       "      <td>19</td>\n",
       "      <td>En mis tiempos libres</td>\n",
       "      <td>No</td>\n",
       "      <td>Redes sociales</td>\n",
       "      <td>No me molesta</td>\n",
       "      <td>Tal vez usarlo un poco menos</td>\n",
       "      <td>150</td>\n",
       "      <td>250</td>\n",
       "      <td>2</td>\n",
       "      <td>1</td>\n",
       "      <td>15</td>\n",
       "      <td>5.5</td>\n",
       "    </tr>\n",
       "    <tr>\n",
       "      <th>3</th>\n",
       "      <td>5/29/2024 16:15:14</td>\n",
       "      <td>Si</td>\n",
       "      <td>Local</td>\n",
       "      <td>Solo estudio</td>\n",
       "      <td>18</td>\n",
       "      <td>Tardes</td>\n",
       "      <td>Si</td>\n",
       "      <td>Entretenimiento</td>\n",
       "      <td>Ninguna</td>\n",
       "      <td>Disminuirlo</td>\n",
       "      <td>390</td>\n",
       "      <td>15</td>\n",
       "      <td>2</td>\n",
       "      <td>3</td>\n",
       "      <td>0</td>\n",
       "      <td>3.0</td>\n",
       "    </tr>\n",
       "    <tr>\n",
       "      <th>4</th>\n",
       "      <td>5/29/2024 17:47:48</td>\n",
       "      <td>Si</td>\n",
       "      <td>Foráneo</td>\n",
       "      <td>Solo estudio</td>\n",
       "      <td>24</td>\n",
       "      <td>En la noche</td>\n",
       "      <td>Si</td>\n",
       "      <td>Por entretenimiento y comunicación</td>\n",
       "      <td>Ninguna</td>\n",
       "      <td>El sonido</td>\n",
       "      <td>200</td>\n",
       "      <td>25</td>\n",
       "      <td>2</td>\n",
       "      <td>1</td>\n",
       "      <td>120</td>\n",
       "      <td>7.0</td>\n",
       "    </tr>\n",
       "    <tr>\n",
       "      <th>...</th>\n",
       "      <td>...</td>\n",
       "      <td>...</td>\n",
       "      <td>...</td>\n",
       "      <td>...</td>\n",
       "      <td>...</td>\n",
       "      <td>...</td>\n",
       "      <td>...</td>\n",
       "      <td>...</td>\n",
       "      <td>...</td>\n",
       "      <td>...</td>\n",
       "      <td>...</td>\n",
       "      <td>...</td>\n",
       "      <td>...</td>\n",
       "      <td>...</td>\n",
       "      <td>...</td>\n",
       "      <td>...</td>\n",
       "    </tr>\n",
       "    <tr>\n",
       "      <th>95</th>\n",
       "      <td>06/03/2024 21:14</td>\n",
       "      <td>Si</td>\n",
       "      <td>Local</td>\n",
       "      <td>Trabajo y estudio</td>\n",
       "      <td>19</td>\n",
       "      <td>En las mañanas</td>\n",
       "      <td>Si</td>\n",
       "      <td>Redes sociales como Instagram y medios de comu...</td>\n",
       "      <td>No me gusta me siento mal</td>\n",
       "      <td>Dejarlo de usar con fines de procrastinación</td>\n",
       "      <td>150</td>\n",
       "      <td>200</td>\n",
       "      <td>2</td>\n",
       "      <td>1</td>\n",
       "      <td>0</td>\n",
       "      <td>1.0</td>\n",
       "    </tr>\n",
       "    <tr>\n",
       "      <th>96</th>\n",
       "      <td>06/03/2024 22:17</td>\n",
       "      <td>Si</td>\n",
       "      <td>Local</td>\n",
       "      <td>Trabajo y estudio</td>\n",
       "      <td>19</td>\n",
       "      <td>Noche</td>\n",
       "      <td>No</td>\n",
       "      <td>Tiempo libre y aburrimiento</td>\n",
       "      <td>Me da más o menos igual</td>\n",
       "      <td>No usarlo tan seguido</td>\n",
       "      <td>120</td>\n",
       "      <td>20</td>\n",
       "      <td>2</td>\n",
       "      <td>1</td>\n",
       "      <td>120</td>\n",
       "      <td>1.3</td>\n",
       "    </tr>\n",
       "    <tr>\n",
       "      <th>97</th>\n",
       "      <td>06/03/2024 22:50</td>\n",
       "      <td>Si</td>\n",
       "      <td>Local</td>\n",
       "      <td>Trabajo y estudio</td>\n",
       "      <td>19</td>\n",
       "      <td>Todo el dia</td>\n",
       "      <td>Si</td>\n",
       "      <td>Vida social trabajo y escuela</td>\n",
       "      <td>Me pongo nervioso tio</td>\n",
       "      <td>Cambiar al iphone 15</td>\n",
       "      <td>500</td>\n",
       "      <td>250</td>\n",
       "      <td>4</td>\n",
       "      <td>1</td>\n",
       "      <td>190</td>\n",
       "      <td>8.0</td>\n",
       "    </tr>\n",
       "    <tr>\n",
       "      <th>98</th>\n",
       "      <td>06/04/2024 15:12</td>\n",
       "      <td>Si</td>\n",
       "      <td>Local</td>\n",
       "      <td>Trabajo y estudio</td>\n",
       "      <td>19</td>\n",
       "      <td>en mis tiempos libres</td>\n",
       "      <td>Si</td>\n",
       "      <td>me entretengo con él</td>\n",
       "      <td>me da un poco de ansiedad, pero nada grave</td>\n",
       "      <td>ninguno, estoy a gusto</td>\n",
       "      <td>400</td>\n",
       "      <td>250</td>\n",
       "      <td>0</td>\n",
       "      <td>1</td>\n",
       "      <td>290</td>\n",
       "      <td>3.0</td>\n",
       "    </tr>\n",
       "    <tr>\n",
       "      <th>99</th>\n",
       "      <td>06/10/2024 11:20</td>\n",
       "      <td>Si</td>\n",
       "      <td>Local</td>\n",
       "      <td>Trabajo y estudio</td>\n",
       "      <td>20</td>\n",
       "      <td>En la mañana</td>\n",
       "      <td>Si</td>\n",
       "      <td>Trabajo, redes sociales, comunicación</td>\n",
       "      <td>Ninguna</td>\n",
       "      <td>Menos tiempo de uso</td>\n",
       "      <td>200</td>\n",
       "      <td>240</td>\n",
       "      <td>0</td>\n",
       "      <td>1</td>\n",
       "      <td>180</td>\n",
       "      <td>3.0</td>\n",
       "    </tr>\n",
       "  </tbody>\n",
       "</table>\n",
       "<p>100 rows × 16 columns</p>\n",
       "</div>"
      ],
      "text/plain": [
       "        Marca temporal EU\\n      L/F                E/T  Años  \\\n",
       "0   5/29/2024 12:56:01   Si    Local       Solo estudio    18   \n",
       "1   5/29/2024 13:09:35   Si    Local       Solo estudio    20   \n",
       "2   5/29/2024 13:09:36   Si    Local       Solo estudio    19   \n",
       "3   5/29/2024 16:15:14   Si    Local       Solo estudio    18   \n",
       "4   5/29/2024 17:47:48   Si  Foráneo       Solo estudio    24   \n",
       "..                 ...  ...      ...                ...   ...   \n",
       "95    06/03/2024 21:14   Si    Local  Trabajo y estudio    19   \n",
       "96    06/03/2024 22:17   Si    Local  Trabajo y estudio    19   \n",
       "97    06/03/2024 22:50   Si    Local  Trabajo y estudio    19   \n",
       "98    06/04/2024 15:12   Si    Local  Trabajo y estudio    19   \n",
       "99    06/10/2024 11:20   Si    Local  Trabajo y estudio    20   \n",
       "\n",
       "                    Mometos Afecta  \\\n",
       "0   Cuando estoy en mi casa     No   \n",
       "1              En la noche      Si   \n",
       "2    En mis tiempos libres      No   \n",
       "3                    Tardes     Si   \n",
       "4               En la noche     Si   \n",
       "..                      ...    ...   \n",
       "95           En las mañanas     Si   \n",
       "96                    Noche     No   \n",
       "97              Todo el dia     Si   \n",
       "98   en mis tiempos libres      Si   \n",
       "99            En la mañana      Si   \n",
       "\n",
       "                                              Razones  \\\n",
       "0   Buscar algo en internet, ver mis redes sociale...   \n",
       "1                             Ocio y procrastinación    \n",
       "2                                     Redes sociales    \n",
       "3                                    Entretenimiento    \n",
       "4                  Por entretenimiento y comunicación   \n",
       "..                                                ...   \n",
       "95  Redes sociales como Instagram y medios de comu...   \n",
       "96                       Tiempo libre y aburrimiento    \n",
       "97                      Vida social trabajo y escuela   \n",
       "98                               me entretengo con él   \n",
       "99             Trabajo, redes sociales, comunicación    \n",
       "\n",
       "                                       Reaccion  \\\n",
       "0          Ninguna, no me causa ningún problema   \n",
       "1                                    Me aburro    \n",
       "2                                 No me molesta   \n",
       "3                                       Ninguna   \n",
       "4                                       Ninguna   \n",
       "..                                          ...   \n",
       "95                    No me gusta me siento mal   \n",
       "96                     Me da más o menos igual    \n",
       "97                        Me pongo nervioso tio   \n",
       "98  me da un poco de ansiedad, pero nada grave    \n",
       "99                                      Ninguna   \n",
       "\n",
       "                                              Cambios  Dinero  Veces  Sueño  \\\n",
       "0   Cuando veo mis redes no estar tanto tiempo vie...     200      7      0   \n",
       "1   Dejar de verlo como un medio de salir de mi ab...     200     35      2   \n",
       "2                        Tal vez usarlo un poco menos     150    250      2   \n",
       "3                                         Disminuirlo     390     15      2   \n",
       "4                                           El sonido     200     25      2   \n",
       "..                                                ...     ...    ...    ...   \n",
       "95       Dejarlo de usar con fines de procrastinación     150    200      2   \n",
       "96                             No usarlo tan seguido      120     20      2   \n",
       "97                               Cambiar al iphone 15     500    250      4   \n",
       "98                            ninguno, estoy a gusto      400    250      0   \n",
       "99                                Menos tiempo de uso     200    240      0   \n",
       "\n",
       "    Cargas  Tiempo p  Tiempo RM  \n",
       "0        2        60        1.5  \n",
       "1        2        60        1.5  \n",
       "2        1        15        5.5  \n",
       "3        3         0        3.0  \n",
       "4        1       120        7.0  \n",
       "..     ...       ...        ...  \n",
       "95       1         0        1.0  \n",
       "96       1       120        1.3  \n",
       "97       1       190        8.0  \n",
       "98       1       290        3.0  \n",
       "99       1       180        3.0  \n",
       "\n",
       "[100 rows x 16 columns]"
      ]
     },
     "execution_count": 3,
     "metadata": {},
     "output_type": "execute_result"
    }
   ],
   "source": [
    "import pandas as pd\n",
    "import numpy as np\n",
    "import matplotlib.pyplot as plt\n",
    "import scipy.optimize as opt\n",
    "from scipy import stats\n",
    "from scipy.stats import norm\n",
    "datos=pd.read_csv(\"Foraneos VS Locales.csv\")\n",
    "datos"
   ]
  },
  {
   "cell_type": "markdown",
   "id": "1c3270af-8546-4410-8f80-0c8c6a0c7eda",
   "metadata": {},
   "source": [
    "### 2. Conversión de las variables cualitativas a categoricas"
   ]
  },
  {
   "cell_type": "code",
   "execution_count": 6,
   "id": "381a24f5-f84a-4b39-98a0-78a42876c0fa",
   "metadata": {},
   "outputs": [],
   "source": [
    "datos[\"L/F\"]=datos[\"L/F\"].astype(\"category\")\n",
    "datos[\"E/T\"]=datos[\"E/T\"].astype(\"category\")\n"
   ]
  },
  {
   "cell_type": "markdown",
   "id": "bcf46948-a79c-49e4-bc2e-aca68e6c8dc3",
   "metadata": {},
   "source": [
    "### 3. Cajas de bigotes"
   ]
  },
  {
   "cell_type": "code",
   "execution_count": 9,
   "id": "742afa06-90ad-400b-aab7-519f88f0828d",
   "metadata": {},
   "outputs": [
    {
     "data": {
      "image/png": "[encoded data removed]",
      "text/plain": [
       "<Figure size 640x480 with 1 Axes>"
      ]
     },
     "metadata": {},
     "output_type": "display_data"
    }
   ],
   "source": [
    "datos.boxplot(column=\"Dinero\", by=\"Afecta\")\n",
    "plt.title(\"Caja Dinero\")\n",
    "plt.xlabel(\"Afecta\")\n",
    "plt.ylabel(\"Dinero $\")\n",
    "plt.show()"
   ]
  },
  {
   "cell_type": "code",
   "execution_count": 11,
   "id": "59fd773a-5105-4fc7-85fa-80d873af5fb7",
   "metadata": {},
   "outputs": [
    {
     "data": {
      "image/png": "[encoded data removed]",
      "text/plain": [
       "<Figure size 640x480 with 1 Axes>"
      ]
     },
     "metadata": {},
     "output_type": "display_data"
    }
   ],
   "source": [
    "datos.boxplot(column=\"Veces\", by=\"Afecta\")\n",
    "plt.title(\"Caja Veces\")\n",
    "plt.xlabel(\"Afecta\")\n",
    "plt.ylabel(\"Veces\")\n",
    "plt.show()"
   ]
  },
  {
   "cell_type": "code",
   "execution_count": 13,
   "id": "279fba2a-2053-42d2-b511-e98d805a602a",
   "metadata": {},
   "outputs": [
    {
     "data": {
      "image/png": "[encoded data removed]",
      "text/plain": [
       "<Figure size 640x480 with 1 Axes>"
      ]
     },
     "metadata": {},
     "output_type": "display_data"
    }
   ],
   "source": [
    "datos.boxplot(column=\"Años\", by=\"Afecta\")\n",
    "plt.title(\"Caja Años\")\n",
    "plt.xlabel(\"Afecta\")\n",
    "plt.ylabel(\"Años\")\n",
    "plt.show()"
   ]
  },
  {
   "cell_type": "code",
   "execution_count": 15,
   "id": "7f94592d-d17a-4ceb-afa4-902c814a4478",
   "metadata": {},
   "outputs": [
    {
     "data": {
      "image/png": "[encoded data removed]",
      "text/plain": [
       "<Figure size 640x480 with 1 Axes>"
      ]
     },
     "metadata": {},
     "output_type": "display_data"
    }
   ],
   "source": [
    "datos.boxplot(column=\"Sueño\", by=\"Afecta\")\n",
    "plt.title(\"Caja Sueño\")\n",
    "plt.xlabel(\"Afecta\")\n",
    "plt.ylabel(\"Sueño\")\n",
    "plt.show()"
   ]
  },
  {
   "cell_type": "code",
   "execution_count": 17,
   "id": "3370d37c-bb80-4a99-a181-569003d0f4c0",
   "metadata": {},
   "outputs": [
    {
     "data": {
      "image/png": "[encoded data removed]",
      "text/plain": [
       "<Figure size 640x480 with 1 Axes>"
      ]
     },
     "metadata": {},
     "output_type": "display_data"
    }
   ],
   "source": [
    "datos.boxplot(column=\"Cargas\", by=\"Afecta\")\n",
    "plt.title(\"Caja Cargas\")\n",
    "plt.xlabel(\"Afecta\")\n",
    "plt.xlabel(\"Cargas\")\n",
    "plt.show()"
   ]
  },
  {
   "cell_type": "code",
   "execution_count": 19,
   "id": "e6cc3bfe-e43d-4086-88b7-13a133bf94e8",
   "metadata": {},
   "outputs": [
    {
     "data": {
      "image/png": "[encoded data removed]",
      "text/plain": [
       "<Figure size 640x480 with 1 Axes>"
      ]
     },
     "metadata": {},
     "output_type": "display_data"
    }
   ],
   "source": [
    "datos.boxplot(column=\"Tiempo p\", by=\"Afecta\")\n",
    "plt.title(\"Caja Tiempo en Pantalla\")\n",
    "plt.xlabel(\"Afecta\")\n",
    "plt.ylabel(\"Tiempo en Pantalla\")\n",
    "plt.show()"
   ]
  },
  {
   "cell_type": "code",
   "execution_count": 21,
   "id": "43534ad8-efaf-4924-8dfc-d3b25f18a7e3",
   "metadata": {},
   "outputs": [
    {
     "data": {
      "image/png": "[encoded data removed]",
      "text/plain": [
       "<Figure size 640x480 with 1 Axes>"
      ]
     },
     "metadata": {},
     "output_type": "display_data"
    }
   ],
   "source": [
    "datos.boxplot(column=\"Tiempo RM\", by=\"Afecta\")\n",
    "plt.title(\"Caja Tiempo en Redes Sociales\")\n",
    "plt.xlabel(\"Afecta\")\n",
    "plt.ylabel(\"Tiemo en Redes sociales\")\n",
    "plt.show()"
   ]
  },
  {
   "cell_type": "code",
   "execution_count": 23,
   "id": "3fca57a4-4b29-424c-85ef-6c3e7286f810",
   "metadata": {},
   "outputs": [],
   "source": [
    "y=datos[\"EU\\n\"]==\"Si\"\n",
    "x=datos[\"L/F\"]"
   ]
  },
  {
   "cell_type": "markdown",
   "id": "2264e7e3-bdf8-46f2-b9ad-04215a0372e3",
   "metadata": {},
   "source": [
    "### 4. Acomodo de Variables a enteras para Dinero y Tiempo en Redes Sociales"
   ]
  },
  {
   "cell_type": "markdown",
   "id": "3c08ff5c-ae3e-4e03-90fc-0b90cb185845",
   "metadata": {},
   "source": [
    "datos[\"Dinero\"].astype(int)\n",
    "datos[\"Tiempo RM\"].astype(int)"
   ]
  },
  {
   "cell_type": "markdown",
   "id": "f4641b85-7d04-4adc-ba66-eb1a0d0a7ec1",
   "metadata": {},
   "source": [
    "### 5. Eliminar Casillas en Blanco en caso de haberlas"
   ]
  },
  {
   "cell_type": "code",
   "execution_count": 28,
   "id": "eee96d7a-4d5c-478a-8584-6c67feddcb4e",
   "metadata": {},
   "outputs": [],
   "source": [
    "datos = datos.dropna()"
   ]
  },
  {
   "cell_type": "markdown",
   "id": "a1538439-c45c-4d08-86ce-2478a82487d9",
   "metadata": {},
   "source": [
    "### Generas Betas"
   ]
  },
  {
   "cell_type": "code",
   "execution_count": 50,
   "id": "5da256eb-c5a4-4662-9c30-af5cc465a71b",
   "metadata": {},
   "outputs": [
    {
     "name": "stderr",
     "output_type": "stream",
     "text": [
      "C:\\Users\\AMunoz\\AppData\\Local\\Temp\\ipykernel_704\\129632009.py:1: SettingWithCopyWarning: \n",
      "A value is trying to be set on a copy of a slice from a DataFrame.\n",
      "Try using .loc[row_indexer,col_indexer] = value instead\n",
      "\n",
      "See the caveats in the documentation: https://pandas.pydata.org/pandas-docs/stable/user_guide/indexing.html#returning-a-view-versus-a-copy\n",
      "  datos['L/F_num'] = datos['L/F'].map({'Local': 1, 'Foráneo': 0})\n",
      "C:\\Users\\AMunoz\\AppData\\Local\\Temp\\ipykernel_704\\129632009.py:2: SettingWithCopyWarning: \n",
      "A value is trying to be set on a copy of a slice from a DataFrame.\n",
      "Try using .loc[row_indexer,col_indexer] = value instead\n",
      "\n",
      "See the caveats in the documentation: https://pandas.pydata.org/pandas-docs/stable/user_guide/indexing.html#returning-a-view-versus-a-copy\n",
      "  datos['E/T_num'] = datos['E/T'].map({'Solo estudio': 1, 'Trabajo y estudio': 0})\n"
     ]
    }
   ],
   "source": [
    "datos['L/F_num'] = datos['L/F'].map({'Local': 1, 'Foráneo': 0})\n",
    "datos['E/T_num'] = datos['E/T'].map({'Solo estudio': 1, 'Trabajo y estudio': 0})\n",
    "y=datos[\"Afecta\"]==\"Si\"\n",
    "n = len(y)\n",
    "ones=np.ones([n, 1])\n",
    "E=np.reshape(datos[\"E/T_num\"], [n, 1])\n",
    "L=np.reshape(datos[\"L/F_num\"], [n, 1])\n",
    "anho=np.reshape(datos[\"Años\"], [n, 1])\n",
    "D=np.reshape(datos[\"Dinero\"], [n, 1])\n",
    "Ve=np.reshape(datos[\"Veces\"], [n, 1])\n",
    "Sue=np.reshape(datos[\"Sueño\"], [n, 1])\n",
    "C=np.reshape(datos[\"Cargas\"], [n, 1])\n",
    "TP=np.reshape(datos[\"Tiempo p\"], [n, 1])\n",
    "TRM=np.reshape(datos[\"Tiempo RM\"], [n, 1])\n",
    "X=np.hstack((ones, L, E, anho, D, Ve, Sue, C, TP , TRM))\n",
    "y_vector=np.reshape(y, [n, 1])\n",
    "def predi(beta, X): \n",
    "    return 1/(1+np.exp(-X@beta))\n",
    "def J(beta, X, y):\n",
    "    epi=1e-10\n",
    "    n, p=X.shape\n",
    "    beta=np.reshape(beta, [p, 1])\n",
    "    y_pred=predi(beta,X)\n",
    "    e=y*np.log(y_pred+epi)+(1-y)*np.log(1-y_pred+epi)\n",
    "    return -(np.sum(e)) ### -np.linalg.norm(beta)**2)\n",
    "\n"
   ]
  },
  {
   "cell_type": "markdown",
   "id": "15e62fc4-e7ec-4c42-93ff-ae459bd058b1",
   "metadata": {},
   "source": [
    "### Ajuste"
   ]
  },
  {
   "cell_type": "code",
   "execution_count": 52,
   "id": "af83ef6b-64e3-41e1-92f5-90533982ae32",
   "metadata": {},
   "outputs": [
    {
     "data": {
      "text/plain": [
       "  message: Desired error not necessarily achieved due to precision loss.\n",
       "  success: False\n",
       "   status: 2\n",
       "      fun: 53.83646008138659\n",
       "        x: [-3.204e+00 -1.791e-01  8.096e-01  1.656e-01 -1.330e-03\n",
       "             4.715e-03  2.403e-01  1.981e-01 -5.578e-04 -1.265e-02]\n",
       "      nit: 20\n",
       "      jac: [-4.768e-07  0.000e+00  4.768e-07  1.907e-06  5.722e-04\n",
       "            -4.768e-07 -4.768e-07  4.768e-07  1.345e-04  0.000e+00]\n",
       " hess_inv: [[ 1.599e+01 -1.271e+00 ... -1.260e-03  2.408e-02]\n",
       "            [-1.271e+00  5.548e-01 ...  1.141e-04 -6.399e-04]\n",
       "            ...\n",
       "            [-1.260e-03  1.141e-04 ...  7.551e-06 -3.509e-05]\n",
       "            [ 2.408e-02 -6.399e-04 ... -3.509e-05  1.462e-02]]\n",
       "     nfev: 584\n",
       "     njev: 52"
      ]
     },
     "execution_count": 52,
     "metadata": {},
     "output_type": "execute_result"
    }
   ],
   "source": [
    "beta=[0, 0, 0, 0, 0, 0, 0, 0, 0, 0]\n",
    "log=opt.minimize(J, beta, args=(X, y_vector))\n",
    "log"
   ]
  },
  {
   "cell_type": "code",
   "execution_count": 54,
   "id": "c7542d4a-6e48-49e6-b2c0-4989769a2775",
   "metadata": {},
   "outputs": [
    {
     "data": {
      "text/plain": [
       "array([0.46032078, 0.82074797, 0.16356266, 0.39698932, 0.17149536,\n",
       "       0.0994412 , 0.27521887, 0.60229715, 0.83353347, 0.9163516 ])"
      ]
     },
     "execution_count": 54,
     "metadata": {},
     "output_type": "execute_result"
    }
   ],
   "source": [
    "pre=predi(log.x, X)\n",
    "p=pre*(1-pre)\n",
    "V=np.diagflat(p)\n",
    "cov = np.linalg.inv(X.T @ V @ X)\n",
    "se = np.sqrt(np.diag(cov))\n",
    "este=log.x/se\n",
    "p_v=2 * (1 - norm.cdf(abs(este)))\n",
    "p_v"
   ]
  },
  {
   "cell_type": "markdown",
   "id": "464c2036-c205-4564-9b11-a980aad574ec",
   "metadata": {},
   "source": [
    "### Ahora con linalg.norm"
   ]
  },
  {
   "cell_type": "code",
   "execution_count": 56,
   "id": "dd3e6c27-5a7f-4f09-8b81-592321fc562b",
   "metadata": {},
   "outputs": [
    {
     "data": {
      "text/plain": [
       "  message: Desired error not necessarily achieved due to precision loss.\n",
       "  success: False\n",
       "   status: 2\n",
       "      fun: 54.52354461797004\n",
       "        x: [-8.264e-02 -2.366e-01  3.871e-01  2.731e-02 -1.160e-03\n",
       "             4.490e-03  1.969e-01  1.080e-01 -1.037e-03  5.725e-03]\n",
       "      nit: 18\n",
       "      jac: [ 2.384e-06  1.907e-06  9.537e-07  3.529e-05  9.632e-04\n",
       "             1.688e-04  2.384e-06  3.338e-06  4.025e-04  5.722e-06]\n",
       " hess_inv: [[ 1.433e+00  1.289e-01 ...  4.897e-03 -9.038e-02]\n",
       "            [ 1.289e-01  1.820e-01 ...  7.815e-04 -1.401e-02]\n",
       "            ...\n",
       "            [ 4.897e-03  7.815e-04 ...  3.287e-05 -4.952e-04]\n",
       "            [-9.038e-02 -1.401e-02 ... -4.952e-04  2.242e-02]]\n",
       "     nfev: 319\n",
       "     njev: 29"
      ]
     },
     "execution_count": 56,
     "metadata": {},
     "output_type": "execute_result"
    }
   ],
   "source": [
    "def predi(beta, X): \n",
    "    return 1/(1+np.exp(-X@beta))\n",
    "def J(beta, X, y):\n",
    "    epi=1e-10\n",
    "    n, p=X.shape\n",
    "    beta=np.reshape(beta, [p, 1])\n",
    "    y_pred=predi(beta,X)\n",
    "    e=y*np.log(y_pred+epi)+(1-y)*np.log(1-y_pred+epi)\n",
    "    return -(np.sum(e)-np.linalg.norm(beta)**2)\n",
    "beta=[0, 0, 0, 0, 0, 0, 0, 0, 0, 0]\n",
    "log=opt.minimize(J, beta, args=(X, y_vector))\n",
    "log"
   ]
  },
  {
   "cell_type": "code",
   "execution_count": 58,
   "id": "cd64a266-0ae7-4397-8d09-86affc838497",
   "metadata": {},
   "outputs": [
    {
     "data": {
      "text/plain": [
       "array([0.98384487, 0.75800193, 0.50073756, 0.8813268 , 0.22579851,\n",
       "       0.11063682, 0.37031618, 0.77479562, 0.69402465, 0.9616917 ])"
      ]
     },
     "execution_count": 58,
     "metadata": {},
     "output_type": "execute_result"
    }
   ],
   "source": [
    "pre=predi(log.x, X)\n",
    "p=pre*(1-pre)\n",
    "V=np.diagflat(p)\n",
    "cov = np.linalg.inv(X.T @ V @ X)\n",
    "se = np.sqrt(np.diag(cov))\n",
    "este=log.x/se\n",
    "p_v=2 * (1 - norm.cdf(abs(este)))\n",
    "p_v"
   ]
  },
  {
   "cell_type": "markdown",
   "id": "481e0861-bbc3-495a-a554-6c02f77148d1",
   "metadata": {},
   "source": [
    "### Diferencias"
   ]
  },
  {
   "cell_type": "markdown",
   "id": "0059d4d5-bc79-4919-b4af-8f5bbc8e66aa",
   "metadata": {},
   "source": [
    "Entre el primer códoigo y el segundo está la diferencia del np.linalg.norm, sin embargo, la diferencia que existe entre uno y otro es en el primereo no se está aplicando una regularización a los betas, es decir, los betas que arroja el resultado son muy grandes, mientras que en el segundo sí hay una regularización y se está restrijiendo un sobreajuste en los coeficientes. \n",
    "\n",
    "Además, esto se puede observar en los valores p donde en el primero que es donde se ajusta mediante una verosimilutd los valores p en promedio son muy pequeños, mientras que en el segundo son muy grandes. Devido a esto nosotros decidimos usar el segundo, ya que, para los valores de entrenamiento y prueba dará mejor resultado."
   ]
  },
  {
   "cell_type": "markdown",
   "id": "3dccedbe-2892-4d11-93be-d41bdc6742c1",
   "metadata": {},
   "source": [
    "Viendo esto se puede asumir que nuestra hipotesis que si hay una relación entre sí las personas creen que el uso del celular les afecta en cada una de nuestras variables se puede decir que no, que no se cumple la $H_0$ afirmando que no hay una relación."
   ]
  },
  {
   "cell_type": "markdown",
   "id": "dbd79619-3adf-4a0c-b6b4-68ce6b508d40",
   "metadata": {},
   "source": [
    "### 6. Testeo de variables"
   ]
  },
  {
   "cell_type": "code",
   "execution_count": 61,
   "id": "b9d3179c-eda2-4114-9cba-e518aabc0790",
   "metadata": {},
   "outputs": [
    {
     "data": {
      "text/plain": [
       "40"
      ]
     },
     "execution_count": 61,
     "metadata": {},
     "output_type": "execute_result"
    }
   ],
   "source": [
    "from sklearn.model_selection import train_test_split\n",
    "\n",
    "X_train, X_test, y_train, y_test = train_test_split(X, y_vector, test_size=0.5)\n",
    "\n",
    "log_split = opt.minimize(J,beta, args=(X_train, y_train))\n",
    "beta_split = np.reshape(log_split.x, [10,1])\n",
    "pr_test = np.round(predi(beta_split, X_test))\n",
    "(pr_test==y_test).sum()"
   ]
  },
  {
   "cell_type": "code",
   "execution_count": 63,
   "id": "80d902d1-693a-4573-b641-812cbaaaf55a",
   "metadata": {},
   "outputs": [
    {
     "data": {
      "text/plain": [
       "40"
      ]
     },
     "execution_count": 63,
     "metadata": {},
     "output_type": "execute_result"
    }
   ],
   "source": [
    "X_train, X_test, y_train, y_test = train_test_split(X, y_vector, test_size=0.5)\n",
    "\n",
    "log_split = opt.minimize(J,beta, args=(X_test, y_test))\n",
    "beta_split = np.reshape(log_split.x, [10,1])\n",
    "pr_test = np.round(predi(beta_split, X_test))\n",
    "(pr_test==y_test).sum()"
   ]
  },
  {
   "cell_type": "markdown",
   "id": "cf3e0b70-76b9-4a52-9537-b5fe6b2c5912",
   "metadata": {},
   "source": [
    "Lo que nos está diciendo la variable Train es que de todos los datos muestreados y a la hora de sacarlos estos fueron correctos 32 y para la variable train 40. "
   ]
  },
  {
   "cell_type": "markdown",
   "id": "3d66ad50-ff74-4af9-b866-f460a133ee16",
   "metadata": {},
   "source": [
    "## Conclusiones"
   ]
  },
  {
   "cell_type": "markdown",
   "id": "89586454-ecf9-48fb-9bfa-d0f2fe5404b6",
   "metadata": {},
   "source": [
    "Mediante esta aplicación de regresión logistica podemos observar que al traterse de una hipotesis que incluye varios factores se puede llegar a complicar realizarlo en papel, como se haría en la materia de Probabilidad y Estádistica, sin embargo, a la hora de realizar con un legunaje de programación y una base bien definida se puede hacer más fácil la resolución del problema. \n",
    "\n",
    "Además, nos hizo darnos cuenta que los problemas de regresión logistica aplicados en un contexto más profesional, como es pudiera ser de ingeneria civil, puede llegar a ser muy util cuando se trata de factores cualitativos cómo es el caso de provedores confiables, mayor rendimiento, satisfacción con los provedores, etc.\n",
    "\n",
    "Por útlimo, el proyecto sirvió para darnos de cuenta que lo que uno haga con su celular no afecta para nada, ya que, nuestra $H_O$ era ver si existe una relación o no y se pudo comprobar que no hay una relación en este."
   ]
  },
  {
   "cell_type": "markdown",
   "id": "63bd260b-8d4a-4eb0-9591-af76387e0245",
   "metadata": {},
   "source": [
    "### Referencias:"
   ]
  },
  {
   "cell_type": "markdown",
   "id": "71b9c42d-1d31-4ce6-bab5-b50dd56e6c9f",
   "metadata": {},
   "source": [
    "James, G., Witten, D., Hastie, T., Tibshirani, R.,, Taylor, J. (2023). An Introduction to Statistical Learning with Applications in Python. Cham: Springer. ISBN: 978-3-031-38746-3"
   ]
  },
  {
   "cell_type": "markdown",
   "id": "c8c9891a-3257-4649-9c32-149bc55dcf6e",
   "metadata": {},
   "source": [
    "https://iteso01-my.sharepoint.com/:x:/g/personal/antonio_ortegon_iteso_mx/EZWUG0dpdK9Ipttincd5Y3oB_O8V49AEeEOgkQwxGZsRXg?e=6RfXKA"
   ]
  }
 ],
 "metadata": {
  "kernelspec": {
   "display_name": "Python 3 (ipykernel)",
   "language": "python",
   "name": "python3"
  },
  "language_info": {
   "codemirror_mode": {
    "name": "ipython",
    "version": 3
   },
   "file_extension": ".py",
   "mimetype": "text/x-python",
   "name": "python",
   "nbconvert_exporter": "python",
   "pygments_lexer": "ipython3",
   "version": "3.12.4"
  }
 },
 "nbformat": 4,
 "nbformat_minor": 5
}
