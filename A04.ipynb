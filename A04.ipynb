{
  "nbformat": 4,
  "nbformat_minor": 0,
  "metadata": {
    "colab": {
      "provenance": []
    },
    "kernelspec": {
      "name": "python3",
      "display_name": "Python 3"
    },
    "language_info": {
      "name": "python"
    }
  },
  "cells": [
    {
      "cell_type": "markdown",
      "source": [
        "# A04\n",
        "## Antonio Ortegón\n",
        "## 29/08/2024"
      ],
      "metadata": {
        "id": "iXfF5vyXQEqe"
      }
    },
    {
      "cell_type": "markdown",
      "source": [
        "## Ejercicio1"
      ],
      "metadata": {
        "id": "FRzkO7Jwfjoz"
      }
    },
    {
      "cell_type": "code",
      "source": [
        "import sympy as sp"
      ],
      "metadata": {
        "id": "oJUjjU97YyHq"
      },
      "execution_count": 26,
      "outputs": []
    },
    {
      "cell_type": "markdown",
      "source": [
        "$$x+y=10$$\n",
        "$$x-y=2$$"
      ],
      "metadata": {
        "id": "i4GxbBkfRZeD"
      }
    },
    {
      "cell_type": "code",
      "source": [
        "sp.var(\"x\")\n",
        "sp.var(\"y\")\n",
        "\n",
        "eq1= x+y-10\n",
        "eq2= x-y-2\n",
        "\n",
        "x_eq1=sp.solve(eq1, x)[0]\n",
        "x_eq1\n",
        "\n",
        "y_eq2=eq2.subs(x, x_eq1)\n",
        "sp.solve(y_eq2, y)\n",
        "\n",
        "y_sol=sp.solve(y_eq2, y)[0]\n",
        "\n",
        "x_sol=x_eq1.subs(y, y_sol)\n",
        "\n",
        "\n",
        "x_sol, y_sol"
      ],
      "metadata": {
        "colab": {
          "base_uri": "https://localhost:8080/"
        },
        "id": "jGGa_rDiQmNC",
        "outputId": "ab0dab02-f67f-46cc-e573-5669353686f6"
      },
      "execution_count": 27,
      "outputs": [
        {
          "output_type": "execute_result",
          "data": {
            "text/plain": [
              "(6, 4)"
            ]
          },
          "metadata": {},
          "execution_count": 27
        }
      ]
    },
    {
      "cell_type": "markdown",
      "source": [
        "$$\n",
        "\\frac{2x - 2y}{3y} + 4y = \\frac{13}{3}\n",
        "$$\n",
        "$$\n",
        "\\frac{2(-2y+x)}{3} -\\frac{3x}{2} =-\\frac{13}{6}\n",
        "$$"
      ],
      "metadata": {
        "id": "fbim6wGCRq7T"
      }
    },
    {
      "cell_type": "code",
      "source": [
        "sp.var(\"x\")\n",
        "sp.var(\"y\")\n",
        "\n",
        "eq1= ((3*x-2*y)/3)+4*y-13/3\n",
        "eq2= ((2*(-2*y+x)/3))-(3*x/2)+13/6\n",
        "\n",
        "x_eq1=sp.solve(eq1, x)[0]\n",
        "x_eq1\n",
        "\n",
        "y_eq2=eq2.subs(x, x_eq1)\n",
        "sp.solve(y_eq2, y)\n",
        "\n",
        "y_sol=sp.solve(y_eq2, y)[0]\n",
        "\n",
        "x_sol=x_eq1.subs(y, y_sol)\n",
        "\n",
        "\n",
        "x_sol, y_sol"
      ],
      "metadata": {
        "colab": {
          "base_uri": "https://localhost:8080/"
        },
        "id": "wP1rkfwuQq1O",
        "outputId": "1414c291-8637-4196-9b59-381e96204b81"
      },
      "execution_count": 28,
      "outputs": [
        {
          "output_type": "execute_result",
          "data": {
            "text/plain": [
              "(1.00000000000000, 1.00000000000000)"
            ]
          },
          "metadata": {},
          "execution_count": 28
        }
      ]
    },
    {
      "cell_type": "markdown",
      "source": [
        "$$\n",
        "x^2-2y=16\n",
        "$$\n",
        "$$\n",
        "x-y=3\n",
        "$$"
      ],
      "metadata": {
        "id": "vuhhpNR4VQt_"
      }
    },
    {
      "cell_type": "code",
      "source": [
        "sp.var(\"x\")\n",
        "sp.var(\"y\")\n",
        "\n",
        "eq1= (x**2)-2*y-16\n",
        "eq2=  x-y-3\n",
        "\n",
        "x_eq1=sp.solve(eq1, x)[0]\n",
        "x_eq1\n",
        "\n",
        "y_eq2=eq2.subs(x, x_eq1)\n",
        "sp.solve(y_eq2, y)\n",
        "\n",
        "y_sol=sp.solve(y_eq2, y)[0]\n",
        "\n",
        "x_sol=x_eq1.subs(y, y_sol)\n",
        "\n",
        "\n",
        "x_sol, y_sol\n"
      ],
      "metadata": {
        "colab": {
          "base_uri": "https://localhost:8080/"
        },
        "id": "fPB1eiOTWmHZ",
        "outputId": "ff9be115-6384-400b-f00c-ff4d30d8009e"
      },
      "execution_count": 43,
      "outputs": [
        {
          "output_type": "execute_result",
          "data": {
            "text/plain": [
              "(-sqrt(12 - 2*sqrt(11)), -sqrt(11) - 2)"
            ]
          },
          "metadata": {},
          "execution_count": 43
        }
      ]
    },
    {
      "cell_type": "code",
      "source": [
        "x_eq1=sp.solve(eq1, x)[1]\n",
        "x_eq1\n",
        "\n",
        "y_eq2=eq2.subs(x, x_eq1)\n",
        "sp.solve(y_eq2, y)\n",
        "\n",
        "y_sol=sp.solve(y_eq2, y)[0]\n",
        "\n",
        "x_sol=x_eq1.subs(y, y_sol)\n",
        "\n",
        "\n",
        "x_sol, y_sol"
      ],
      "metadata": {
        "colab": {
          "base_uri": "https://localhost:8080/"
        },
        "id": "7vSgwowibG6x",
        "outputId": "d690f8dd-ed02-4673-8dd3-61ccffc5f77c"
      },
      "execution_count": 44,
      "outputs": [
        {
          "output_type": "execute_result",
          "data": {
            "text/plain": [
              "(sqrt(2*sqrt(11) + 12), -2 + sqrt(11))"
            ]
          },
          "metadata": {},
          "execution_count": 44
        }
      ]
    },
    {
      "cell_type": "markdown",
      "source": [
        "$$x+y-z=10$$\n",
        "$$x-y=2$$\n",
        "$$y+z=-2$$"
      ],
      "metadata": {
        "id": "R286slijTpxL"
      }
    },
    {
      "cell_type": "code",
      "source": [
        "sp.var(\"x\")\n",
        "sp.var(\"y\")\n",
        "sp.var(\"z\")\n",
        "\n",
        "eq1= x+y-z-10\n",
        "eq2= x-y-2\n",
        "eq3= y+z+2\n",
        "\n",
        "x_eq1=sp.solve(eq1, x)[0]\n",
        "x_eq1\n",
        "\n",
        "y_eq2=eq2.subs(x, x_eq1)\n",
        "y_eq2_desp = sp.solve(y_eq2, y)[0]\n",
        "\n",
        "z_eq3=eq3.subs(y, y_eq2_desp)\n",
        "z_sol = sp.solve(z_eq3, z)[0]\n",
        "\n",
        "y_sol=y_eq2_desp.subs(z, z_sol)\n",
        "\n",
        "x_sol=x_eq1.subs(y, y_sol).subs(z, z_sol)\n",
        "\n",
        "x_sol, y_sol, z_sol\n",
        "\n"
      ],
      "metadata": {
        "colab": {
          "base_uri": "https://localhost:8080/"
        },
        "id": "PvxHIDdsTr8U",
        "outputId": "b9a4fa64-754c-411c-aefc-c1a8cedd870b"
      },
      "execution_count": 76,
      "outputs": [
        {
          "output_type": "execute_result",
          "data": {
            "text/plain": [
              "(4, 2, -4)"
            ]
          },
          "metadata": {},
          "execution_count": 76
        }
      ]
    },
    {
      "cell_type": "markdown",
      "source": [
        "##Ejercicio2"
      ],
      "metadata": {
        "id": "3wiOM1DuffxB"
      }
    },
    {
      "cell_type": "markdown",
      "source": [
        "$$f(x)=1235+133x-6x^2$$"
      ],
      "metadata": {
        "id": "cLiDwantfZAl"
      }
    },
    {
      "cell_type": "code",
      "source": [
        "import sympy as sp\n",
        "import numpy as np\n",
        "import matplotlib.pyplot as plt\n",
        "sp.var(\"x\")\n",
        "y=1235+133*x-6*x**2\n",
        "dy=sp.diff(y, x) #Derivar con respecto de x\n",
        "sp.solve(dy, x)\n"
      ],
      "metadata": {
        "colab": {
          "base_uri": "https://localhost:8080/"
        },
        "id": "z5gsz2y2fl3z",
        "outputId": "e01ff30c-d491-4e35-8cc2-610f8af0ac4a"
      },
      "execution_count": 86,
      "outputs": [
        {
          "output_type": "execute_result",
          "data": {
            "text/plain": [
              "[133/12]"
            ]
          },
          "metadata": {},
          "execution_count": 86
        }
      ]
    },
    {
      "cell_type": "code",
      "source": [
        "x=np.linspace(-1, 20, 100)\n",
        "y=1235+133*x-6*x**2\n",
        "plt.figure(figsize=(3, 3))\n",
        "plt.plot(x, y)\n",
        "plt.grid()\n",
        "\n",
        "plt.show()"
      ],
      "metadata": {
        "colab": {
          "base_uri": "https://localhost:8080/",
          "height": 293
        },
        "id": "kTP0HWEEcSRO",
        "outputId": "14aa22af-2467-42e5-f462-6993cc65a1df"
      },
      "execution_count": 97,
      "outputs": [
        {
          "output_type": "display_data",
          "data": {
            "text/plain": [
              "<Figure size 300x300 with 1 Axes>"
            ],
            "image/png": "[encoded data removed]"
          },
          "metadata": {}
        }
      ]
    },
    {
      "cell_type": "markdown",
      "source": [
        "$f(x)=-3+x+\\frac{\\pi}{x}$ para $x$ >0"
      ],
      "metadata": {
        "id": "oWa-34vKi91u"
      }
    },
    {
      "cell_type": "code",
      "source": [
        "import sympy as sp\n",
        "import numpy as np\n",
        "import matplotlib.pyplot as plt\n",
        "sp.var(\"x\")\n",
        "y=-3+x+np.pi/x\n",
        "dy=sp.diff(y, x)\n",
        "sp.solve(dy, x)"
      ],
      "metadata": {
        "colab": {
          "base_uri": "https://localhost:8080/"
        },
        "id": "rz95fmaEik_K",
        "outputId": "7090b0d7-faa6-4aac-a560-4795f051bc40"
      },
      "execution_count": 98,
      "outputs": [
        {
          "output_type": "execute_result",
          "data": {
            "text/plain": [
              "[-1.77245385090552, 1.77245385090552]"
            ]
          },
          "metadata": {},
          "execution_count": 98
        }
      ]
    },
    {
      "cell_type": "code",
      "source": [
        "x=np.linspace(-3, 5, 100)\n",
        "y=-3+x+np.pi/x\n",
        "plt.figure(figsize=(3, 3))\n",
        "plt.plot(x, y)\n",
        "plt.grid()\n",
        "\n",
        "plt.show()"
      ],
      "metadata": {
        "colab": {
          "base_uri": "https://localhost:8080/",
          "height": 291
        },
        "id": "sgLREJf5joJp",
        "outputId": "76ea0f42-d459-4c66-c094-3bd55d477346"
      },
      "execution_count": 99,
      "outputs": [
        {
          "output_type": "display_data",
          "data": {
            "text/plain": [
              "<Figure size 300x300 with 1 Axes>"
            ],
            "image/png": "[encoded data removed]"
          },
          "metadata": {}
        }
      ]
    },
    {
      "cell_type": "code",
      "source": [],
      "metadata": {
        "id": "24BfSo8zj8i1"
      },
      "execution_count": null,
      "outputs": []
    }
  ]
}