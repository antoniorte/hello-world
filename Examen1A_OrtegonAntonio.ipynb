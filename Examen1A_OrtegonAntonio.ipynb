{
 "cells": [
  {
   "cell_type": "markdown",
   "id": "318694d0-33e1-44f1-9650-3443bbcd7f43",
   "metadata": {
    "id": "318694d0-33e1-44f1-9650-3443bbcd7f43"
   },
   "source": [
    "# Examen A Módulo 1 - Optimización.\n",
    "\n",
    "**Lea cuidadosamente las siguientes indicaciones antes de comenzar el examen:**\n",
    "- Para resolver el examen edite este mismo archivo y renómbrelo de la siguiente manera: *Examen1_ApellidoNombre*, donde *ApellidoNombre* corresponde a su apellido paterno con la inicial en mayúscula, seguido de su primer nombre con la inicial en mayúscula **sin tildes**. Por ejemplo, en mi caso el nombre del archivo sería *Examen1_MoralesGabriel*.\n",
    "- Resuelva los puntos en el espacio provisto. Si requiere agregar más celdas para código o escritura, hágalo (`Esc`,`B`) o (`Esc`,`A`).\n",
    "- Recuerde que también se está evaluando su capacidad de interpretar los resultados. Escriba sus interpretaciones/conclusiones en celdas utilizando *Markdown*.\n",
    "- El formato de presentación de todo el examen en general debe ser adecuado. Use tamaños de letra, colores, etiquetas, etcétera.\n",
    "- No se resuelven dudas de ningún tipo por los profesores de la asignatura. Por favor, absténgase de preguntar.\n",
    "- Revise bien el tipo de examen. Sólo se le calificará si realiza el tipo de examen asignado."
   ]
  },
  {
   "cell_type": "markdown",
   "id": "416c5986-27e8-4eac-84f7-d5ca143cbbae",
   "metadata": {
    "id": "416c5986-27e8-4eac-84f7-d5ca143cbbae"
   },
   "source": [
    "## 1. Optimización de funciones con `Sympy`\n",
    "\n",
    "Funciones permitidas: subs, solve, var, expresiones matemáticas"
   ]
  },
  {
   "cell_type": "markdown",
   "id": "07dadfa1-7f83-484a-909c-0150a65ce280",
   "metadata": {
    "id": "07dadfa1-7f83-484a-909c-0150a65ce280"
   },
   "source": [
    "\n",
    "Un cine cobra 86 pesos la entrada estándar y 60 pesos la entrada a estudiantes. Una sala con capacidad para 120 personas se ocupó al 70\\%. Los ingresos para esa función fueron de 6,600 MXN. ¿Cuántos estudiantes entraron?"
   ]
  },
  {
   "cell_type": "markdown",
   "id": "a368ac55-6021-4453-87e5-34ed4795c895",
   "metadata": {},
   "source": [
    "Variables:\n",
    "\n",
    "x---normal\n",
    "\n",
    "y--- estudiantes\n",
    "\n",
    "Restricciones: \n",
    "\n",
    "Solo entro el 70%\n",
    "\n",
    "$x+y=(120*.7)$\n",
    "\n",
    "Se vendieron 6600\n",
    "\n",
    "$86x+60y=6600$\n",
    "\n"
   ]
  },
  {
   "cell_type": "code",
   "execution_count": 190,
   "id": "c3055dbc-5c52-4727-9fa6-eab29d9e3694",
   "metadata": {
    "colab": {
     "base_uri": "https://localhost:8080/",
     "height": 280
    },
    "id": "c3055dbc-5c52-4727-9fa6-eab29d9e3694",
    "outputId": "73ba5a97-6f50-487e-c8f4-a7e508ad58e1"
   },
   "outputs": [
    {
     "data": {
      "text/latex": [
       "$\\displaystyle 624.0 - 26 y$"
      ],
      "text/plain": [
       "624.0 - 26*y"
      ]
     },
     "execution_count": 190,
     "metadata": {},
     "output_type": "execute_result"
    }
   ],
   "source": [
    "import sympy as sp\n",
    "sp.var(\"x\")\n",
    "sp.var(\"y\")\n",
    "\n",
    "eq1= x+y-(120*.7)\n",
    "eq2= (86*x)+(60*y)-6600\n",
    "\n",
    "x_eq1=sp.solve(eq1, x)[0]\n",
    "y_eq2=eq2.subs(x, x_eq1)\n",
    "y_sol=sp.solve(y_eq2, y)[0]\n",
    "x_sol=x_eq1.subs(y, y_sol)\n",
    "\n"
   ]
  },
  {
   "cell_type": "markdown",
   "id": "f6a1aaef-ebfd-4783-b108-9aa5f4a55d1f",
   "metadata": {
    "id": "789f4501-2b81-44b3-83dd-4e757a6d90cd"
   },
   "source": [
    "Fueron 24 estudiantes. "
   ]
  },
  {
   "cell_type": "markdown",
   "id": "cb9897ae-f689-4575-82ad-d265f7243f77",
   "metadata": {
    "id": "cb9897ae-f689-4575-82ad-d265f7243f77"
   },
   "source": [
    "El cine ofrece combos y opciones individuales. El combo 'amigos' tiene un costo de 156 MXN y consiste de 2 refrescos y unas palomitas. Existe también el combo 'nachos' que tiene un costo de 112 MXN y consiste de un refresco y una orden de nachos. Por separado el refresco tiene un costo de 60 MXN, las palomitas 58 MXN y los nachos 72 MXN. Se obtuvo un total de 6450 de ingresos en dulcería:\n",
    "\n",
    "- 38 combos vendidos\n",
    "- 70 refrescos vendidos\n",
    "- 33 órdenes de palomitas grandes vendidas\n",
    "- 16 órdenes de nachos vendidas\n",
    "\n",
    "¿Cuántas personas compraron palomitas sueltas?"
   ]
  },
  {
   "cell_type": "markdown",
   "id": "a6c1eb87-0d43-48cb-8b3e-a233fe4b5c04",
   "metadata": {
    "id": "65a87ffc-81ae-4b61-8044-6d12255887f7"
   },
   "source": [
    "Restricciones: \n",
    "\n",
    "Combo amigos $x+2y=156$\n",
    "\n",
    "Combo nachos $y+z=122$\n",
    "\n",
    "Costo separado: \n",
    "\n",
    "x=58\n",
    "y=60\n",
    "z=72\n",
    "\n",
    "Ventas: \n",
    "\n",
    "- 38 combos vendidos\n",
    "- 70 refrescos vendidos\n",
    "- 33 órdenes de palomitas grandes vendidas\n",
    "- 16 órdenes de nachos vendidas\n",
    "\n",
    "Unión de variables: \n",
    "\n",
    "Ventas\n",
    "Refrescos\n",
    "\n",
    "$2ca+cn+y=70$\n",
    "\n",
    "Nachos\n",
    "\n",
    "$cn+z=16$\n",
    "\n",
    "Palomitas\n",
    "\n",
    "$ca+x=33$\n",
    "\n",
    "Combos venididos\n",
    "\n",
    "c$ca+cn=38$\n",
    "\n",
    "Ganancia total\n",
    "\n",
    "$156ca+112cn+58x+60y+72z=6450$\n"
   ]
  },
  {
   "cell_type": "code",
   "execution_count": 307,
   "id": "ec03004a-a360-455e-952e-d7e78bf1854c",
   "metadata": {},
   "outputs": [
    {
     "data": {
      "text/latex": [
       "$\\displaystyle x - 1$"
      ],
      "text/plain": [
       "x - 1"
      ]
     },
     "execution_count": 307,
     "metadata": {},
     "output_type": "execute_result"
    }
   ],
   "source": [
    "import sympy as sp\n",
    "sp.var(\"x\")\n",
    "sp.var(\"y\")\n",
    "sp.var(\"z\")\n",
    "sp.var(\"ca\")\n",
    "sp.var(\"cn\")\n",
    "\n",
    "\n",
    "eq1=2*ca+cn+y-70\n",
    "eq2=cn+z-16\n",
    "aq3=ca+x-33\n",
    "eq4=ca+cn-38\n",
    "eq5=156*ca+112*cn+58*x+60*y+72*z-6450\n",
    "\n",
    "eq1_y=sp.solve(eq1, y)[0]#y=\n",
    "eq2_z=sp.solve(eq2, z)[0]#z=\n",
    "eq3_ca=sp.solve(eq3, ca)[0] #ca= importante\n",
    "eq1_n=eq1_y.subs(ca, eq3_ca)#y= nueva\n",
    "eq4_cn=sp.solve(eq4, cn)[0]#cn= importante\n",
    "eq4_n=eq4_cn.subs(ca, eq3_ca)#cn pero con x\n",
    "eq1_n2=eq1_n.subs(cn, eq4_n)#y= nueva sin ca y cn importante\n",
    "eq1_n2\n"
   ]
  },
  {
   "cell_type": "code",
   "execution_count": 308,
   "id": "fb27ffde-0113-4bf9-9bb9-6e859965f3f5",
   "metadata": {},
   "outputs": [
    {
     "data": {
      "text/latex": [
       "$\\displaystyle 33 - x$"
      ],
      "text/plain": [
       "33 - x"
      ]
     },
     "execution_count": 308,
     "metadata": {},
     "output_type": "execute_result"
    }
   ],
   "source": [
    "eq3_ca"
   ]
  },
  {
   "cell_type": "code",
   "execution_count": 311,
   "id": "9ed00921-5fe5-496a-bab3-ad41a041210b",
   "metadata": {},
   "outputs": [
    {
     "data": {
      "text/latex": [
       "$\\displaystyle x + 5$"
      ],
      "text/plain": [
       "x + 5"
      ]
     },
     "execution_count": 311,
     "metadata": {},
     "output_type": "execute_result"
    }
   ],
   "source": [
    "eq4_n"
   ]
  },
  {
   "cell_type": "code",
   "execution_count": 323,
   "id": "4792f386-0b25-49d0-a812-f3db454538b6",
   "metadata": {},
   "outputs": [
    {
     "data": {
      "text/latex": [
       "$\\displaystyle 11 - x$"
      ],
      "text/plain": [
       "11 - x"
      ]
     },
     "execution_count": 323,
     "metadata": {},
     "output_type": "execute_result"
    }
   ],
   "source": [
    "eq2_n=eq2_z.subs(cn, eq4_n) #z=\n",
    "eq2_n"
   ]
  },
  {
   "cell_type": "code",
   "execution_count": 325,
   "id": "775046b6-13ea-46ca-8669-328f11e34ba2",
   "metadata": {},
   "outputs": [
    {
     "data": {
      "text/latex": [
       "$\\displaystyle 2 x - 10$"
      ],
      "text/plain": [
       "2*x - 10"
      ]
     },
     "execution_count": 325,
     "metadata": {},
     "output_type": "execute_result"
    }
   ],
   "source": [
    "eq5_n=eq5.subs(y, eq1_n2).subs(z, eq2_n).subs(cn, eq4_n).subs(ca, eq3_ca)\n",
    "eq5_n"
   ]
  },
  {
   "cell_type": "code",
   "execution_count": 327,
   "id": "fcfec4e6-90a7-4224-b574-d974caa444fc",
   "metadata": {},
   "outputs": [
    {
     "data": {
      "text/latex": [
       "$\\displaystyle 5$"
      ],
      "text/plain": [
       "5"
      ]
     },
     "execution_count": 327,
     "metadata": {},
     "output_type": "execute_result"
    }
   ],
   "source": [
    "sp.solve(eq5_n, x)[0]\n"
   ]
  },
  {
   "cell_type": "markdown",
   "id": "56479ad5-0218-4d3c-9a5d-4f70717dcbef",
   "metadata": {},
   "source": [
    "La cantidad de palomitas individuales vendidas fueron 5. "
   ]
  },
  {
   "cell_type": "markdown",
   "id": "ab5836e7-1035-42cc-9c90-6f7178d2b733",
   "metadata": {
    "id": "ab5836e7-1035-42cc-9c90-6f7178d2b733"
   },
   "source": [
    "## 2. Programación lineal"
   ]
  },
  {
   "cell_type": "markdown",
   "id": "86788769-18d8-49e5-9ec2-4ba4d8c0c1ce",
   "metadata": {
    "id": "86788769-18d8-49e5-9ec2-4ba4d8c0c1ce"
   },
   "source": [
    "Una empresa produce costales de 3 tipos de fertilizantes para diferentes aplicaciones utilizando cuantro componentes químicos: azufre, potasio, fósforo y nitrógeno. La información de cada tonelada de fertilizante es:\n"
   ]
  },
  {
   "cell_type": "markdown",
   "id": "2de8d90d-84ea-4537-887a-15127e2aaca7",
   "metadata": {
    "id": "2de8d90d-84ea-4537-887a-15127e2aaca7"
   },
   "source": [
    "<table>\n",
    "  <tr>\n",
    "      <th>Fertilizante</th>\n",
    "      <th>Fósforo</th>\n",
    "      <th>Azufre</th>\n",
    "      <th>Potasio</th>\n",
    "      <th>Nitrógeno</th>\n",
    "      <th>Precio de venta </th>\n",
    "  </tr>\n",
    "  <tr>\n",
    "      <td>A</td>\n",
    "      <td>3 kg</td>\n",
    "      <td>5 kg</td>\n",
    "      <td>4 kg</td>\n",
    "      <td>2 kg </td>\n",
    "      <td>\\$40000</td>\n",
    "  </tr>\n",
    "  <tr>\n",
    "      <td>B</td>\n",
    "      <td>4 kg</td>\n",
    "      <td>3 kg</td>\n",
    "      <td>2 kg</td>\n",
    "      <td>1 kg</td>\n",
    "      <td>\\$50000</td>\n",
    "  </tr>\n",
    "  <tr>\n",
    "      <td>C</td>\n",
    "      <td>5 kg</td>\n",
    "      <td>2 kg</td>\n",
    "      <td>3 kg</td>\n",
    "      <td>4 kg</td>\n",
    "      <td>\\$60000</td>\n",
    "  </tr>\n",
    "\n",
    "</table>"
   ]
  },
  {
   "cell_type": "markdown",
   "id": "c712fdf8-3adf-4294-aafc-50be5eb7743d",
   "metadata": {
    "id": "c712fdf8-3adf-4294-aafc-50be5eb7743d"
   },
   "source": [
    "La máquina que se usa para mezclar el fertilizante C necesita mantenimiento y por lo tanto sólo puede mezclar 10 toneladas. Además, hay un pedido de 8 toneladas del fertilizante A."
   ]
  },
  {
   "cell_type": "markdown",
   "id": "52edf909-5367-4cd1-ba12-8a1341254de4",
   "metadata": {
    "id": "52edf909-5367-4cd1-ba12-8a1341254de4"
   },
   "source": [
    "Dado que en almacén se tienen 90 kg de fósforo, 120 kg de nitrógeno, 80 kg de azufre y 95 kg de potasio, ¿cuánto recomiendas que se mezcle de cada fertilizante? (Nota: No se permiten fracciones de toneladas)"
   ]
  },
  {
   "cell_type": "markdown",
   "id": "IH4f7Rx1ElXB",
   "metadata": {
    "id": "IH4f7Rx1ElXB"
   },
   "source": [
    "Criterio: maximizar\n",
    "\n",
    "Variables\n",
    "\n",
    "Fertizante A--- A\n",
    "\n",
    "Fertilizante B---B\n",
    "\n",
    "Fertilizante C---C\n",
    "\n",
    "Función:\n",
    "\n",
    "C= 40000A+50000B+60000C\n",
    "\n",
    "1*3\n",
    "\n",
    "3*n\n",
    "\n",
    "Restricciones:\n",
    "\n",
    "Fosforo\n",
    "\n",
    "$3A+4B+5C\\leq90$\n",
    "\n",
    "Azufre:\n",
    "\n",
    "$5A+3B+2C\\leq80$\n",
    "\n",
    "Potasio:\n",
    "\n",
    "$4A+2B+3C\\leq95$\n",
    "\n",
    "Nitrogeno:\n",
    "\n",
    "$2A+1B+4C\\leq120$\n",
    "\n",
    "\n",
    "Falla\n",
    "\n",
    "$C\\leq10$\n",
    "\n",
    "Pedido\n",
    "\n",
    "$A\\leq-8$"
   ]
  },
  {
   "cell_type": "code",
   "execution_count": 114,
   "id": "23897615-91a8-40e3-8d0f-425817b73dd6",
   "metadata": {
    "id": "23897615-91a8-40e3-8d0f-425817b73dd6"
   },
   "outputs": [],
   "source": [
    "import numpy as np\n",
    "import scipy.optimize as opt\n",
    "\n",
    "C=np.array([-40000,\n",
    "             -50000,\n",
    "             -60000])\n",
    "\n",
    "Aub=np.array([[3, 4, 5],\n",
    "             [5, 3, 2],\n",
    "              [4, 2, 3],\n",
    "              [2, 1, 4],\n",
    "              [0, 0, 1],\n",
    "              [-1, 0, 0]])\n",
    "\n",
    "bub=np.array([90,\n",
    "              80,\n",
    "              95,\n",
    "              120,\n",
    "              10,\n",
    "              -8])\n",
    "sol=opt.linprog(C, Aub, bub,  integrality=1)\n"
   ]
  },
  {
   "cell_type": "code",
   "execution_count": 116,
   "id": "cPjEi-57JRyd",
   "metadata": {
    "colab": {
     "base_uri": "https://localhost:8080/"
    },
    "id": "cPjEi-57JRyd",
    "outputId": "e66bda68-e267-43dd-e554-d912f4e3f71c"
   },
   "outputs": [
    {
     "data": {
      "text/plain": [
       "        message: Optimization terminated successfully. (HiGHS Status 7: Optimal)\n",
       "        success: True\n",
       "         status: 0\n",
       "            fun: -1130000.0\n",
       "              x: [ 8.000e+00  9.000e+00  6.000e+00]\n",
       "            nit: -1\n",
       "          lower:  residual: [ 8.000e+00  9.000e+00  6.000e+00]\n",
       "                 marginals: [ 0.000e+00  0.000e+00  0.000e+00]\n",
       "          upper:  residual: [       inf        inf        inf]\n",
       "                 marginals: [ 0.000e+00  0.000e+00  0.000e+00]\n",
       "          eqlin:  residual: []\n",
       "                 marginals: []\n",
       "        ineqlin:  residual: [ 0.000e+00  1.000e+00  2.700e+01  7.100e+01\n",
       "                              4.000e+00  0.000e+00]\n",
       "                 marginals: [ 0.000e+00  0.000e+00  0.000e+00  0.000e+00\n",
       "                              0.000e+00  0.000e+00]\n",
       " mip_node_count: 1\n",
       " mip_dual_bound: -1130000.0\n",
       "        mip_gap: 0.0"
      ]
     },
     "execution_count": 116,
     "metadata": {},
     "output_type": "execute_result"
    }
   ],
   "source": [
    "sol"
   ]
  },
  {
   "cell_type": "markdown",
   "id": "37122386-1fe4-4c31-bd70-9da91932311c",
   "metadata": {
    "id": "37122386-1fe4-4c31-bd70-9da91932311c"
   },
   "source": [
    "¿Cuál es el ingreso total?"
   ]
  },
  {
   "cell_type": "code",
   "execution_count": 118,
   "id": "ceba489f-2bf7-4989-a51b-f57efae1b51b",
   "metadata": {
    "colab": {
     "base_uri": "https://localhost:8080/"
    },
    "id": "ceba489f-2bf7-4989-a51b-f57efae1b51b",
    "outputId": "a318e634-8307-4327-a33c-89b4e27e0cf5"
   },
   "outputs": [
    {
     "data": {
      "text/plain": [
       "1130000.0"
      ]
     },
     "execution_count": 118,
     "metadata": {},
     "output_type": "execute_result"
    }
   ],
   "source": [
    "sol.fun*-1"
   ]
  },
  {
   "cell_type": "markdown",
   "id": "MRmdaqu_J6Gj",
   "metadata": {
    "id": "MRmdaqu_J6Gj"
   },
   "source": [
    "El ingreso total es de 1130000$"
   ]
  },
  {
   "cell_type": "markdown",
   "id": "5944d4b6-a651-47ec-91d8-f6e3666d62a3",
   "metadata": {
    "id": "5944d4b6-a651-47ec-91d8-f6e3666d62a3"
   },
   "source": [
    "¿Cuánto fósforo quedó en almacén?"
   ]
  },
  {
   "cell_type": "code",
   "execution_count": 120,
   "id": "a5297246-a6ab-4adb-88b7-5002723775be",
   "metadata": {
    "colab": {
     "base_uri": "https://localhost:8080/"
    },
    "id": "a5297246-a6ab-4adb-88b7-5002723775be",
    "outputId": "78b81394-d5c4-4312-e230-1c15ea91b4bc"
   },
   "outputs": [
    {
     "data": {
      "text/plain": [
       "0.0"
      ]
     },
     "execution_count": 120,
     "metadata": {},
     "output_type": "execute_result"
    }
   ],
   "source": [
    "(sol.x[0]*3)+(sol.x[1]*4)+(sol.x[2]*5)-90\n"
   ]
  },
  {
   "cell_type": "markdown",
   "id": "LdyXMMOKKPoU",
   "metadata": {
    "id": "LdyXMMOKKPoU"
   },
   "source": [
    "Dado que la produccion de Fosfroro se llevo 90kg se puede decir que la cantidad que sobro de fosforo fue de 0"
   ]
  },
  {
   "cell_type": "markdown",
   "id": "5837735d-4552-4fd3-919c-8c2250de718e",
   "metadata": {
    "id": "5837735d-4552-4fd3-919c-8c2250de718e"
   },
   "source": [
    "## 3. Regresión lineal"
   ]
  },
  {
   "cell_type": "markdown",
   "id": "4a308da2-7cba-4f2b-85f9-9b3655206ff2",
   "metadata": {
    "id": "4a308da2-7cba-4f2b-85f9-9b3655206ff2"
   },
   "source": [
    "Se quiere predecir la resistencia a la compresión de concreto en función de las proporciones de los componentes en la mezcla (cemento, arena, agua, agregado). La constructora que está realizando el análisis tiene datos históricos donde se registraron cantidades de materia y la resistencia medida:"
   ]
  },
  {
   "cell_type": "code",
   "execution_count": 11,
   "id": "7fd530bd-4cc0-4594-9fa4-e48a8d9eda0b",
   "metadata": {
    "colab": {
     "base_uri": "https://localhost:8080/",
     "height": 802
    },
    "id": "7fd530bd-4cc0-4594-9fa4-e48a8d9eda0b",
    "outputId": "3bdf387e-1cfd-4d58-ade9-288174e40f8c"
   },
   "outputs": [
    {
     "data": {
      "text/html": [
       "<div>\n",
       "<style scoped>\n",
       "    .dataframe tbody tr th:only-of-type {\n",
       "        vertical-align: middle;\n",
       "    }\n",
       "\n",
       "    .dataframe tbody tr th {\n",
       "        vertical-align: top;\n",
       "    }\n",
       "\n",
       "    .dataframe thead th {\n",
       "        text-align: right;\n",
       "    }\n",
       "</style>\n",
       "<table border=\"1\" class=\"dataframe\">\n",
       "  <thead>\n",
       "    <tr style=\"text-align: right;\">\n",
       "      <th></th>\n",
       "      <th>Cemento (kg)</th>\n",
       "      <th>Arena (kg)</th>\n",
       "      <th>Agua (kg)</th>\n",
       "      <th>Agregado (kg)</th>\n",
       "      <th>Resistencia a la compresión (MPa)</th>\n",
       "    </tr>\n",
       "  </thead>\n",
       "  <tbody>\n",
       "    <tr>\n",
       "      <th>0</th>\n",
       "      <td>350</td>\n",
       "      <td>600</td>\n",
       "      <td>180</td>\n",
       "      <td>1000</td>\n",
       "      <td>35</td>\n",
       "    </tr>\n",
       "    <tr>\n",
       "      <th>1</th>\n",
       "      <td>400</td>\n",
       "      <td>550</td>\n",
       "      <td>160</td>\n",
       "      <td>1100</td>\n",
       "      <td>42</td>\n",
       "    </tr>\n",
       "    <tr>\n",
       "      <th>2</th>\n",
       "      <td>300</td>\n",
       "      <td>700</td>\n",
       "      <td>200</td>\n",
       "      <td>950</td>\n",
       "      <td>30</td>\n",
       "    </tr>\n",
       "    <tr>\n",
       "      <th>3</th>\n",
       "      <td>450</td>\n",
       "      <td>500</td>\n",
       "      <td>170</td>\n",
       "      <td>1200</td>\n",
       "      <td>50</td>\n",
       "    </tr>\n",
       "    <tr>\n",
       "      <th>4</th>\n",
       "      <td>380</td>\n",
       "      <td>580</td>\n",
       "      <td>175</td>\n",
       "      <td>1050</td>\n",
       "      <td>38</td>\n",
       "    </tr>\n",
       "    <tr>\n",
       "      <th>5</th>\n",
       "      <td>410</td>\n",
       "      <td>540</td>\n",
       "      <td>165</td>\n",
       "      <td>1150</td>\n",
       "      <td>44</td>\n",
       "    </tr>\n",
       "    <tr>\n",
       "      <th>6</th>\n",
       "      <td>320</td>\n",
       "      <td>650</td>\n",
       "      <td>185</td>\n",
       "      <td>980</td>\n",
       "      <td>32</td>\n",
       "    </tr>\n",
       "    <tr>\n",
       "      <th>7</th>\n",
       "      <td>370</td>\n",
       "      <td>590</td>\n",
       "      <td>172</td>\n",
       "      <td>1020</td>\n",
       "      <td>36</td>\n",
       "    </tr>\n",
       "    <tr>\n",
       "      <th>8</th>\n",
       "      <td>390</td>\n",
       "      <td>570</td>\n",
       "      <td>170</td>\n",
       "      <td>1080</td>\n",
       "      <td>40</td>\n",
       "    </tr>\n",
       "    <tr>\n",
       "      <th>9</th>\n",
       "      <td>360</td>\n",
       "      <td>610</td>\n",
       "      <td>190</td>\n",
       "      <td>970</td>\n",
       "      <td>34</td>\n",
       "    </tr>\n",
       "    <tr>\n",
       "      <th>10</th>\n",
       "      <td>340</td>\n",
       "      <td>630</td>\n",
       "      <td>182</td>\n",
       "      <td>990</td>\n",
       "      <td>33</td>\n",
       "    </tr>\n",
       "    <tr>\n",
       "      <th>11</th>\n",
       "      <td>430</td>\n",
       "      <td>520</td>\n",
       "      <td>165</td>\n",
       "      <td>1120</td>\n",
       "      <td>48</td>\n",
       "    </tr>\n",
       "    <tr>\n",
       "      <th>12</th>\n",
       "      <td>315</td>\n",
       "      <td>660</td>\n",
       "      <td>195</td>\n",
       "      <td>950</td>\n",
       "      <td>31</td>\n",
       "    </tr>\n",
       "    <tr>\n",
       "      <th>13</th>\n",
       "      <td>405</td>\n",
       "      <td>545</td>\n",
       "      <td>175</td>\n",
       "      <td>1060</td>\n",
       "      <td>43</td>\n",
       "    </tr>\n",
       "    <tr>\n",
       "      <th>14</th>\n",
       "      <td>425</td>\n",
       "      <td>530</td>\n",
       "      <td>168</td>\n",
       "      <td>1140</td>\n",
       "      <td>47</td>\n",
       "    </tr>\n",
       "    <tr>\n",
       "      <th>15</th>\n",
       "      <td>345</td>\n",
       "      <td>620</td>\n",
       "      <td>180</td>\n",
       "      <td>990</td>\n",
       "      <td>37</td>\n",
       "    </tr>\n",
       "    <tr>\n",
       "      <th>16</th>\n",
       "      <td>395</td>\n",
       "      <td>560</td>\n",
       "      <td>175</td>\n",
       "      <td>1040</td>\n",
       "      <td>41</td>\n",
       "    </tr>\n",
       "    <tr>\n",
       "      <th>17</th>\n",
       "      <td>355</td>\n",
       "      <td>605</td>\n",
       "      <td>185</td>\n",
       "      <td>1010</td>\n",
       "      <td>35</td>\n",
       "    </tr>\n",
       "    <tr>\n",
       "      <th>18</th>\n",
       "      <td>440</td>\n",
       "      <td>515</td>\n",
       "      <td>162</td>\n",
       "      <td>1160</td>\n",
       "      <td>49</td>\n",
       "    </tr>\n",
       "    <tr>\n",
       "      <th>19</th>\n",
       "      <td>310</td>\n",
       "      <td>670</td>\n",
       "      <td>198</td>\n",
       "      <td>940</td>\n",
       "      <td>29</td>\n",
       "    </tr>\n",
       "    <tr>\n",
       "      <th>20</th>\n",
       "      <td>385</td>\n",
       "      <td>575</td>\n",
       "      <td>178</td>\n",
       "      <td>1070</td>\n",
       "      <td>39</td>\n",
       "    </tr>\n",
       "    <tr>\n",
       "      <th>21</th>\n",
       "      <td>370</td>\n",
       "      <td>590</td>\n",
       "      <td>172</td>\n",
       "      <td>1030</td>\n",
       "      <td>36</td>\n",
       "    </tr>\n",
       "    <tr>\n",
       "      <th>22</th>\n",
       "      <td>425</td>\n",
       "      <td>535</td>\n",
       "      <td>170</td>\n",
       "      <td>1110</td>\n",
       "      <td>45</td>\n",
       "    </tr>\n",
       "    <tr>\n",
       "      <th>23</th>\n",
       "      <td>335</td>\n",
       "      <td>625</td>\n",
       "      <td>180</td>\n",
       "      <td>1025</td>\n",
       "      <td>33</td>\n",
       "    </tr>\n",
       "  </tbody>\n",
       "</table>\n",
       "</div>"
      ],
      "text/plain": [
       "    Cemento (kg)  Arena (kg)  Agua (kg)  Agregado (kg)  \\\n",
       "0            350         600        180           1000   \n",
       "1            400         550        160           1100   \n",
       "2            300         700        200            950   \n",
       "3            450         500        170           1200   \n",
       "4            380         580        175           1050   \n",
       "5            410         540        165           1150   \n",
       "6            320         650        185            980   \n",
       "7            370         590        172           1020   \n",
       "8            390         570        170           1080   \n",
       "9            360         610        190            970   \n",
       "10           340         630        182            990   \n",
       "11           430         520        165           1120   \n",
       "12           315         660        195            950   \n",
       "13           405         545        175           1060   \n",
       "14           425         530        168           1140   \n",
       "15           345         620        180            990   \n",
       "16           395         560        175           1040   \n",
       "17           355         605        185           1010   \n",
       "18           440         515        162           1160   \n",
       "19           310         670        198            940   \n",
       "20           385         575        178           1070   \n",
       "21           370         590        172           1030   \n",
       "22           425         535        170           1110   \n",
       "23           335         625        180           1025   \n",
       "\n",
       "    Resistencia a la compresión (MPa)  \n",
       "0                                  35  \n",
       "1                                  42  \n",
       "2                                  30  \n",
       "3                                  50  \n",
       "4                                  38  \n",
       "5                                  44  \n",
       "6                                  32  \n",
       "7                                  36  \n",
       "8                                  40  \n",
       "9                                  34  \n",
       "10                                 33  \n",
       "11                                 48  \n",
       "12                                 31  \n",
       "13                                 43  \n",
       "14                                 47  \n",
       "15                                 37  \n",
       "16                                 41  \n",
       "17                                 35  \n",
       "18                                 49  \n",
       "19                                 29  \n",
       "20                                 39  \n",
       "21                                 36  \n",
       "22                                 45  \n",
       "23                                 33  "
      ]
     },
     "execution_count": 11,
     "metadata": {},
     "output_type": "execute_result"
    }
   ],
   "source": [
    "import pandas as pd\n",
    "data = {\n",
    "    'Cemento (kg)': [350, 400, 300, 450, 380, 410, 320, 370, 390, 360,\n",
    "                     340, 430, 315, 405, 425, 345, 395, 355, 440, 310,\n",
    "                     385, 370, 425, 335],\n",
    "    'Arena (kg)': [600, 550, 700, 500, 580, 540, 650, 590, 570, 610,\n",
    "                   630, 520, 660, 545, 530, 620, 560, 605, 515, 670,\n",
    "                   575, 590, 535, 625],\n",
    "    'Agua (kg)': [180, 160, 200, 170, 175, 165, 185, 172, 170, 190,\n",
    "                  182, 165, 195, 175, 168, 180, 175, 185, 162, 198,\n",
    "                  178, 172, 170, 180],\n",
    "    'Agregado (kg)': [1000, 1100, 950, 1200, 1050, 1150, 980, 1020, 1080, 970,\n",
    "                      990, 1120, 950, 1060, 1140, 990, 1040, 1010, 1160, 940,\n",
    "                      1070, 1030, 1110, 1025],\n",
    "    'Resistencia a la compresión (MPa)': [35, 42, 30, 50, 38, 44, 32, 36, 40, 34,\n",
    "                                          33, 48, 31, 43, 47, 37, 41, 35, 49, 29,\n",
    "                                          39, 36, 45, 33]\n",
    "}\n",
    "data = pd.DataFrame(data)\n",
    "data"
   ]
  },
  {
   "cell_type": "markdown",
   "id": "f1cc1217-2c41-4082-961b-8369dd6f628a",
   "metadata": {
    "id": "f1cc1217-2c41-4082-961b-8369dd6f628a"
   },
   "source": [
    "Ajusta un modelo utilizando mínimos **cuadrados** para encontrar una función que pueda predecir la resistencia del concreto."
   ]
  },
  {
   "cell_type": "code",
   "execution_count": 72,
   "id": "ad291701-9ab6-494e-ab9f-0bbd017ced75",
   "metadata": {
    "id": "ad291701-9ab6-494e-ab9f-0bbd017ced75"
   },
   "outputs": [],
   "source": [
    "import pandas as pd\n",
    "import numpy as np\n",
    "import matplotlib.pyplot as plt\n",
    "import scipy.optimize as opt\n"
   ]
  },
  {
   "cell_type": "code",
   "execution_count": 74,
   "id": "dc43a29f-8c10-4daf-bf78-772807c42946",
   "metadata": {
    "id": "dc43a29f-8c10-4daf-bf78-772807c42946"
   },
   "outputs": [],
   "source": [
    "y=data['Resistencia a la compresión (MPa)']\n",
    "x1=data['Cemento (kg)']\n",
    "x2=data['Arena (kg)']\n",
    "x3=data['Agua (kg)']\n",
    "x4=data['Agregado (kg)']"
   ]
  },
  {
   "cell_type": "code",
   "execution_count": 75,
   "id": "e0d9fb4e-2d6b-4477-933d-105ec1f43edd",
   "metadata": {
    "colab": {
     "base_uri": "https://localhost:8080/"
    },
    "id": "e0d9fb4e-2d6b-4477-933d-105ec1f43edd",
    "outputId": "83c3a77f-547d-4d61-b174-1fdd73e0b69d"
   },
   "outputs": [
    {
     "data": {
      "text/plain": [
       "array([[1.000e+00, 3.500e+02, 6.000e+02, 1.800e+02, 1.000e+03],\n",
       "       [1.000e+00, 4.000e+02, 5.500e+02, 1.600e+02, 1.100e+03],\n",
       "       [1.000e+00, 3.000e+02, 7.000e+02, 2.000e+02, 9.500e+02],\n",
       "       [1.000e+00, 4.500e+02, 5.000e+02, 1.700e+02, 1.200e+03],\n",
       "       [1.000e+00, 3.800e+02, 5.800e+02, 1.750e+02, 1.050e+03],\n",
       "       [1.000e+00, 4.100e+02, 5.400e+02, 1.650e+02, 1.150e+03],\n",
       "       [1.000e+00, 3.200e+02, 6.500e+02, 1.850e+02, 9.800e+02],\n",
       "       [1.000e+00, 3.700e+02, 5.900e+02, 1.720e+02, 1.020e+03],\n",
       "       [1.000e+00, 3.900e+02, 5.700e+02, 1.700e+02, 1.080e+03],\n",
       "       [1.000e+00, 3.600e+02, 6.100e+02, 1.900e+02, 9.700e+02],\n",
       "       [1.000e+00, 3.400e+02, 6.300e+02, 1.820e+02, 9.900e+02],\n",
       "       [1.000e+00, 4.300e+02, 5.200e+02, 1.650e+02, 1.120e+03],\n",
       "       [1.000e+00, 3.150e+02, 6.600e+02, 1.950e+02, 9.500e+02],\n",
       "       [1.000e+00, 4.050e+02, 5.450e+02, 1.750e+02, 1.060e+03],\n",
       "       [1.000e+00, 4.250e+02, 5.300e+02, 1.680e+02, 1.140e+03],\n",
       "       [1.000e+00, 3.450e+02, 6.200e+02, 1.800e+02, 9.900e+02],\n",
       "       [1.000e+00, 3.950e+02, 5.600e+02, 1.750e+02, 1.040e+03],\n",
       "       [1.000e+00, 3.550e+02, 6.050e+02, 1.850e+02, 1.010e+03],\n",
       "       [1.000e+00, 4.400e+02, 5.150e+02, 1.620e+02, 1.160e+03],\n",
       "       [1.000e+00, 3.100e+02, 6.700e+02, 1.980e+02, 9.400e+02],\n",
       "       [1.000e+00, 3.850e+02, 5.750e+02, 1.780e+02, 1.070e+03],\n",
       "       [1.000e+00, 3.700e+02, 5.900e+02, 1.720e+02, 1.030e+03],\n",
       "       [1.000e+00, 4.250e+02, 5.350e+02, 1.700e+02, 1.110e+03],\n",
       "       [1.000e+00, 3.350e+02, 6.250e+02, 1.800e+02, 1.025e+03]])"
      ]
     },
     "execution_count": 75,
     "metadata": {},
     "output_type": "execute_result"
    }
   ],
   "source": [
    "n=len(y)\n",
    "ones=np.ones([n,1])\n",
    "xf1=np.reshape(x1,(n,1))\n",
    "xf2=np.reshape(x2,(n,1))\n",
    "xf3=np.reshape(x3,(n,1))\n",
    "xf4=np.reshape(x4,(n,1))\n",
    "X=np.hstack((ones, xf1, xf2, xf3, xf4))\n",
    "X"
   ]
  },
  {
   "cell_type": "code",
   "execution_count": 78,
   "id": "agBRF-H2MZUo",
   "metadata": {
    "colab": {
     "base_uri": "https://localhost:8080/"
    },
    "id": "agBRF-H2MZUo",
    "outputId": "b5bdc771-d39b-4be8-8df7-26c88ee0896c"
   },
   "outputs": [
    {
     "data": {
      "text/plain": [
       "array([[35],\n",
       "       [42],\n",
       "       [30],\n",
       "       [50],\n",
       "       [38],\n",
       "       [44],\n",
       "       [32],\n",
       "       [36],\n",
       "       [40],\n",
       "       [34],\n",
       "       [33],\n",
       "       [48],\n",
       "       [31],\n",
       "       [43],\n",
       "       [47],\n",
       "       [37],\n",
       "       [41],\n",
       "       [35],\n",
       "       [49],\n",
       "       [29],\n",
       "       [39],\n",
       "       [36],\n",
       "       [45],\n",
       "       [33]], dtype=int64)"
      ]
     },
     "execution_count": 78,
     "metadata": {},
     "output_type": "execute_result"
    }
   ],
   "source": [
    "y_vector=np.reshape(y,(n,1))\n",
    "y_vector"
   ]
  },
  {
   "cell_type": "code",
   "execution_count": 88,
   "id": "b32d1b87-e9e4-40b6-9cfb-ad50dca0ba51",
   "metadata": {
    "colab": {
     "base_uri": "https://localhost:8080/"
    },
    "id": "b32d1b87-e9e4-40b6-9cfb-ad50dca0ba51",
    "outputId": "49143183-4cb0-4f4f-80b6-064956f644d2"
   },
   "outputs": [
    {
     "data": {
      "text/plain": [
       "  message: Desired error not necessarily achieved due to precision loss.\n",
       "  success: False\n",
       "   status: 2\n",
       "      fun: 29.849891667523114\n",
       "        x: [-5.576e+01  1.374e-01  2.436e-02  1.949e-02  2.397e-02]\n",
       "      nit: 10\n",
       "      jac: [-2.384e-07 -2.861e-06  1.240e-05 -9.537e-07  3.386e-05]\n",
       " hess_inv: [[ 2.554e-04 -1.084e-04 ...  3.194e-04  3.982e-05]\n",
       "            [-1.084e-04  2.493e-04 ... -2.600e-04 -1.058e-04]\n",
       "            ...\n",
       "            [ 3.194e-04 -2.600e-04 ...  1.141e-03  7.853e-05]\n",
       "            [ 3.982e-05 -1.058e-04 ...  7.853e-05  4.686e-05]]\n",
       "     nfev: 324\n",
       "     njev: 52"
      ]
     },
     "execution_count": 88,
     "metadata": {},
     "output_type": "execute_result"
    }
   ],
   "source": [
    "n,p=X.shape\n",
    "beta=np.random.randn(p)\n",
    "\n",
    "def funcion(beta,X, y):\n",
    "  beta=np.reshape(beta, [p, 1])\n",
    "  y_pred=X@beta\n",
    "  error=y_pred-y\n",
    "  rss=error.T@error\n",
    "  return rss\n",
    "rss=opt.minimize(funcion, beta, args=(X, y_vector))\n",
    "rss"
   ]
  },
  {
   "cell_type": "markdown",
   "id": "Ww9abIohNzmE",
   "metadata": {
    "id": "Ww9abIohNzmE"
   },
   "source": [
    "¿Qué efecto tiene cada factor en la resistencia de la mezcla?"
   ]
  },
  {
   "cell_type": "markdown",
   "id": "O2RvYIh_OEXu",
   "metadata": {
    "id": "O2RvYIh_OEXu"
   },
   "source": [
    "Indifcan cuanto se debe de agregar para que la resitencia se optima entre las variables que se consideran en este caso la resistencia a la compresión sería de 24.62(MPA)"
   ]
  },
  {
   "cell_type": "markdown",
   "id": "89a911f1-641a-45c4-b4b8-b2f86ce5b5e6",
   "metadata": {
    "id": "89a911f1-641a-45c4-b4b8-b2f86ce5b5e6"
   },
   "source": [
    "¿Cuál será la resistencia si mezclo 390 kg de cemento, 570 kg de arena, 170 kg de agua y 1080 kg de agregado?"
   ]
  },
  {
   "cell_type": "code",
   "execution_count": 125,
   "id": "3e57568b-fc14-4798-a2cd-7c8d64e9b0da",
   "metadata": {
    "id": "3e57568b-fc14-4798-a2cd-7c8d64e9b0da"
   },
   "outputs": [
    {
     "data": {
      "text/plain": [
       "40.905725692982585"
      ]
     },
     "execution_count": 125,
     "metadata": {},
     "output_type": "execute_result"
    }
   ],
   "source": [
    "((rss.x[1]*390)+(rss.x[2]*570)+(rss.x[3]*170)+(rss.x[4]*1080)+rss.x[0])"
   ]
  },
  {
   "cell_type": "markdown",
   "id": "8ff1cb11-2a59-40ff-90b0-40fff3e3bf0d",
   "metadata": {},
   "source": [
    "La resistencia de la mezcla es de 40.90 MPa"
   ]
  },
  {
   "cell_type": "markdown",
   "id": "077149c9-ed47-438a-bf64-f715a817727d",
   "metadata": {
    "id": "077149c9-ed47-438a-bf64-f715a817727d"
   },
   "source": [
    "## 4. Regresión logística"
   ]
  },
  {
   "cell_type": "markdown",
   "id": "0e9a4289-4c6e-4851-a1f4-3cc8cc3ab833",
   "metadata": {
    "id": "0e9a4289-4c6e-4851-a1f4-3cc8cc3ab833"
   },
   "source": [
    "Un equipo de ingenieros quiere saber si una muestra de concreto hidráulico fallará o no bajo determinadas condiciones, basándose en experiencias pasadas.\n",
    "\n",
    "<table>\n",
    "  <thead>\n",
    "    <tr>\n",
    "      <th>Resistencia a la compresión (MPa)</th>\n",
    "      <th>Edad del concreto (días)</th>\n",
    "      <th>Relación agua-cemento</th>\n",
    "      <th>Falla (Sí/No)</th>\n",
    "    </tr>\n",
    "  </thead>\n",
    "  <tbody>\n",
    "    <tr>\n",
    "      <td>25</td>\n",
    "      <td>28</td>\n",
    "      <td>0.45</td>\n",
    "      <td>Sí</td>\n",
    "    </tr>\n",
    "    <tr>\n",
    "      <td>40</td>\n",
    "      <td>56</td>\n",
    "      <td>0.35</td>\n",
    "      <td>No</td>\n",
    "    </tr>\n",
    "    <tr>\n",
    "      <td>30</td>\n",
    "      <td>28</td>\n",
    "      <td>0.50</td>\n",
    "      <td>Sí</td>\n",
    "    </tr>\n",
    "    <tr>\n",
    "      <td>50</td>\n",
    "      <td>90</td>\n",
    "      <td>0.30</td>\n",
    "      <td>No</td>\n",
    "    </tr>\n",
    "    <tr>\n",
    "      <td>35</td>\n",
    "      <td>28</td>\n",
    "      <td>0.40</td>\n",
    "      <td>Sí</td>\n",
    "    </tr>\n",
    "    <tr>\n",
    "      <td>55</td>\n",
    "      <td>120</td>\n",
    "      <td>0.32</td>\n",
    "      <td>No</td>\n",
    "    </tr>\n",
    "    <tr>\n",
    "      <td>45</td>\n",
    "      <td>60</td>\n",
    "      <td>0.36</td>\n",
    "      <td>No</td>\n",
    "    </tr>\n",
    "    <tr>\n",
    "      <td>20</td>\n",
    "      <td>7</td>\n",
    "      <td>0.55</td>\n",
    "      <td>Sí</td>\n",
    "    </tr>\n",
    "  </tbody>\n",
    "</table>\n"
   ]
  },
  {
   "cell_type": "markdown",
   "id": "0b0Ljg8BPz3p",
   "metadata": {
    "id": "0b0Ljg8BPz3p"
   },
   "source": [
    "Sí 1 No 0"
   ]
  },
  {
   "cell_type": "markdown",
   "id": "5911243f-05cf-4009-896d-1ff1354fc1bf",
   "metadata": {
    "id": "5911243f-05cf-4009-896d-1ff1354fc1bf"
   },
   "source": [
    "1. ¿Qué factor afecta más? (Utiliza un vector de ceros como tu beta inicial)"
   ]
  },
  {
   "cell_type": "code",
   "execution_count": 49,
   "id": "fdbfa562-bad0-4897-b432-b51e954d2350",
   "metadata": {
    "id": "fdbfa562-bad0-4897-b432-b51e954d2350"
   },
   "outputs": [],
   "source": [
    "R=[25, 40, 30, 50, 35, 55, 45, 20]\n",
    "E=[28, 56, 28, 90, 28, 120, 60, 7]\n",
    "REL=[.45, .35, .50, .30, .40, .32, .36, .55]\n",
    "F=[1, 0, 1, 0, 1, 0, 0, 1]\n"
   ]
  },
  {
   "cell_type": "code",
   "execution_count": 50,
   "id": "49eba297-c977-4ee2-97e3-e609328653cb",
   "metadata": {
    "colab": {
     "base_uri": "https://localhost:8080/"
    },
    "id": "49eba297-c977-4ee2-97e3-e609328653cb",
    "outputId": "97e6626a-0cc0-4f3a-bf31-2e61589fc9ca"
   },
   "outputs": [
    {
     "data": {
      "text/plain": [
       "(array([[1.],\n",
       "        [1.],\n",
       "        [1.],\n",
       "        [1.],\n",
       "        [1.],\n",
       "        [1.],\n",
       "        [1.],\n",
       "        [1.]]),\n",
       " array([[25],\n",
       "        [40],\n",
       "        [30],\n",
       "        [50],\n",
       "        [35],\n",
       "        [55],\n",
       "        [45],\n",
       "        [20]]),\n",
       " array([[ 28],\n",
       "        [ 56],\n",
       "        [ 28],\n",
       "        [ 90],\n",
       "        [ 28],\n",
       "        [120],\n",
       "        [ 60],\n",
       "        [  7]]),\n",
       " array([[0.45],\n",
       "        [0.35],\n",
       "        [0.5 ],\n",
       "        [0.3 ],\n",
       "        [0.4 ],\n",
       "        [0.32],\n",
       "        [0.36],\n",
       "        [0.55]]))"
      ]
     },
     "execution_count": 50,
     "metadata": {},
     "output_type": "execute_result"
    }
   ],
   "source": [
    "n=len(F)\n",
    "ones=np.ones([n, 1])\n",
    "BR=np.reshape(R, (n, 1))\n",
    "BE=np.reshape(E, (n, 1))\n",
    "BRL=np.reshape(REL, (n, 1))\n",
    "ones, BR, BE, BRL\n"
   ]
  },
  {
   "cell_type": "code",
   "execution_count": 51,
   "id": "07ff36bc-6c1b-4950-b3c7-7f2884216e28",
   "metadata": {
    "colab": {
     "base_uri": "https://localhost:8080/"
    },
    "id": "07ff36bc-6c1b-4950-b3c7-7f2884216e28",
    "outputId": "782c16ec-fbb9-40f9-bf86-d6215256c678"
   },
   "outputs": [
    {
     "data": {
      "text/plain": [
       "array([[  1.  ,  25.  ,  28.  ,   0.45],\n",
       "       [  1.  ,  40.  ,  56.  ,   0.35],\n",
       "       [  1.  ,  30.  ,  28.  ,   0.5 ],\n",
       "       [  1.  ,  50.  ,  90.  ,   0.3 ],\n",
       "       [  1.  ,  35.  ,  28.  ,   0.4 ],\n",
       "       [  1.  ,  55.  , 120.  ,   0.32],\n",
       "       [  1.  ,  45.  ,  60.  ,   0.36],\n",
       "       [  1.  ,  20.  ,   7.  ,   0.55]])"
      ]
     },
     "execution_count": 51,
     "metadata": {},
     "output_type": "execute_result"
    }
   ],
   "source": [
    "X=np.hstack((ones, BR, BE, BRL))\n",
    "X"
   ]
  },
  {
   "cell_type": "code",
   "execution_count": 52,
   "id": "jK2QOH2lQyDy",
   "metadata": {
    "colab": {
     "base_uri": "https://localhost:8080/"
    },
    "id": "jK2QOH2lQyDy",
    "outputId": "a4fe6aa6-bc2f-41d0-9d0d-c66a9219f570"
   },
   "outputs": [
    {
     "data": {
      "text/plain": [
       "array([[1],\n",
       "       [0],\n",
       "       [1],\n",
       "       [0],\n",
       "       [1],\n",
       "       [0],\n",
       "       [0],\n",
       "       [1]])"
      ]
     },
     "execution_count": 52,
     "metadata": {},
     "output_type": "execute_result"
    }
   ],
   "source": [
    "y_vector=np.reshape(F,(n, 1))\n",
    "y_vector"
   ]
  },
  {
   "cell_type": "code",
   "execution_count": 53,
   "id": "VgWRoaDLQyGW",
   "metadata": {
    "id": "VgWRoaDLQyGW"
   },
   "outputs": [],
   "source": [
    "def pred(beta, X):\n",
    "  return 1/(1+np.exp(-X@beta))"
   ]
  },
  {
   "cell_type": "code",
   "execution_count": 54,
   "id": "rCShu9FzQyJJ",
   "metadata": {
    "colab": {
     "base_uri": "https://localhost:8080/"
    },
    "id": "rCShu9FzQyJJ",
    "outputId": "e12611f2-9e6b-4d16-c728-ffacf57bfee8"
   },
   "outputs": [
    {
     "data": {
      "text/plain": [
       "  message: Optimization terminated successfully.\n",
       "  success: True\n",
       "   status: 0\n",
       "      fun: 2.1236079788292108e-07\n",
       "        x: [ 2.223e+01  2.043e+00 -2.254e+00  1.432e+01]\n",
       "      nit: 28\n",
       "      jac: [ 9.686e-08  5.215e-06  7.354e-06  4.470e-08]\n",
       " hess_inv: [[ 3.268e+06  2.756e+05 -3.119e+05  2.104e+06]\n",
       "            [ 2.756e+05  2.324e+04 -2.630e+04  1.775e+05]\n",
       "            [-3.119e+05 -2.630e+04  2.977e+04 -2.009e+05]\n",
       "            [ 2.104e+06  1.775e+05 -2.009e+05  1.355e+06]]\n",
       "     nfev: 155\n",
       "     njev: 31"
      ]
     },
     "execution_count": 54,
     "metadata": {},
     "output_type": "execute_result"
    }
   ],
   "source": [
    "def J(beta, X, y):\n",
    "  epsilon=1e-100\n",
    "  n, p=X.shape\n",
    "  beta=np.reshape(beta, [p, 1])\n",
    "  y_pred=pred(beta, X)\n",
    "  e=y*np.log(y_pred+epsilon)+(1-y)*np.log(1-y_pred+epsilon)\n",
    "  return-np.sum(e)\n",
    "\n",
    "beta=[0, 0, 0, 0]\n",
    "rrs=opt.minimize(J, beta, args=(X, y_vector))\n",
    "rrs\n"
   ]
  },
  {
   "cell_type": "markdown",
   "id": "8ODU2X-2Uji1",
   "metadata": {
    "id": "8ODU2X-2Uji1"
   },
   "source": [
    "Si nos vamos por los signos el factor que afectaría más seria el la edad del concreto, sin embargo, si nos vamos por magnitud sería la relación agua cemento."
   ]
  },
  {
   "cell_type": "markdown",
   "id": "507337c2-1ef4-4abf-99d4-319dadfaf2d3",
   "metadata": {
    "id": "507337c2-1ef4-4abf-99d4-319dadfaf2d3"
   },
   "source": [
    "2. Calcula la probabilidad de falla para una muestra con las siguientes características:\n",
    "- Resistencia a la compresión: 38 MPa\n",
    "- Edad del concreto: 30 días\n",
    "- Relación agua-cemento: 0.40"
   ]
  },
  {
   "cell_type": "code",
   "execution_count": 130,
   "id": "e4b6b71a-0e68-40d6-ba60-6c91407ebbbe",
   "metadata": {
    "colab": {
     "base_uri": "https://localhost:8080/"
    },
    "id": "e4b6b71a-0e68-40d6-ba60-6c91407ebbbe",
    "outputId": "4451861e-2bac-4d3c-bf93-3bb696569075"
   },
   "outputs": [
    {
     "data": {
      "text/plain": [
       "-49.799747046551644"
      ]
     },
     "execution_count": 130,
     "metadata": {},
     "output_type": "execute_result"
    }
   ],
   "source": [
    "((rss.x[1]*38)+(rss.x[2]*30)+(rss.x[3]*.4)+rss.x[0])\n",
    "\n"
   ]
  },
  {
   "cell_type": "markdown",
   "id": "9b94777d-f24e-4cdf-9de2-6aaa34aee14e",
   "metadata": {},
   "source": [
    "La probabilidad de falla con las caracteristicas presentadas es de 49%"
   ]
  },
  {
   "cell_type": "code",
   "execution_count": null,
   "id": "6fbe8144-34f5-47be-bc99-0886744c7a00",
   "metadata": {},
   "outputs": [],
   "source": []
  }
 ],
 "metadata": {
  "colab": {
   "provenance": []
  },
  "kernelspec": {
   "display_name": "Python 3 (ipykernel)",
   "language": "python",
   "name": "python3"
  },
  "language_info": {
   "codemirror_mode": {
    "name": "ipython",
    "version": 3
   },
   "file_extension": ".py",
   "mimetype": "text/x-python",
   "name": "python",
   "nbconvert_exporter": "python",
   "pygments_lexer": "ipython3",
   "version": "3.12.4"
  }
 },
 "nbformat": 4,
 "nbformat_minor": 5
}
