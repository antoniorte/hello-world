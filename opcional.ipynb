{
 "cells": [
  {
   "cell_type": "markdown",
   "id": "bccd08df-0c65-440a-9928-4e304b507449",
   "metadata": {},
   "source": [
    "# Antonio Ortegón\n",
    "## 21/08/2024"
   ]
  },
  {
   "cell_type": "code",
   "execution_count": 14,
   "id": "e77a9057-4c0d-4966-bc80-59c6f7e93a64",
   "metadata": {},
   "outputs": [
    {
     "name": "stdin",
     "output_type": "stream",
     "text": [
      "Dame cuántos años haz estado trabajando aquí 1\n",
      "Dame cuantos dependientes tienes 1\n",
      "Dime si haz faltado alguna vez (SI/NO) no\n"
     ]
    },
    {
     "name": "stdout",
     "output_type": "stream",
     "text": [
      "El salario total es: $  6135 más $:  20 años de experiencia más: $: 15 por dependientes\n"
     ]
    }
   ],
   "source": [
    "#Ejercicio 1\n",
    "def calsalario(ano, dependientes, faltas):\n",
    "    meses=ano*12\n",
    "    sueldo=(meses*500)+(20*ano)\n",
    "    apoyo=15*dependientes\n",
    "    faltas3=100*faltas2\n",
    "    st= sueldo+apoyo+faltas3\n",
    "    print(\"El salario total es: $ \", st, \"más $: \", (20*ano), \"años de experiencia más: $:\", apoyo, \"por dependientes\")\n",
    "    \n",
    "    \n",
    "ano=int(input(\"Dame cuántos años haz estado trabajando aquí\"))\n",
    "dependientes=int(input(\"Dame cuantos dependientes tienes\"))\n",
    "faltas=str(input(\"Dime si haz faltado alguna vez (SI/NO)\"))\n",
    "\n",
    "if faltas==\"SI\" or faltas==\"Si\" or faltas==\"si\": \n",
    "    faltas2=int(input(\"Ingresa cuantas veces haz faltado\"))\n",
    "\n",
    "calsalario(ano, dependientes, faltas)\n",
    "\n",
    "\n",
    "\n",
    "\n",
    "\n",
    "\n",
    "\n"
   ]
  },
  {
   "cell_type": "code",
   "execution_count": 22,
   "id": "33f364d5-d75d-48f6-a0ed-0592bf90bb19",
   "metadata": {},
   "outputs": [
    {
     "name": "stdout",
     "output_type": "stream",
     "text": [
      "(4, 5, 9)\n"
     ]
    }
   ],
   "source": [
    "#2\n",
    "#Hecho algo parecido en progra\n",
    "\n",
    "def numero(a): \n",
    "    centenas=a//100\n",
    "    decenas=(a//10)%10\n",
    "    unidades=a%10\n",
    "    return centenas, decenas, unidades\n",
    "\n",
    "print(numero(459))"
   ]
  },
  {
   "cell_type": "code",
   "execution_count": 36,
   "id": "e00163a0-fd8a-4acb-8bea-57a717d1806b",
   "metadata": {},
   "outputs": [
    {
     "name": "stdin",
     "output_type": "stream",
     "text": [
      "Dame tu nombre de cliente Pedro\n"
     ]
    },
    {
     "name": "stdout",
     "output_type": "stream",
     "text": [
      "Se te cobrará el 25$ y un 20% más\n",
      "None\n"
     ]
    }
   ],
   "source": [
    "#3\n",
    "def miembros(cliente): \n",
    "    i=True\n",
    "    Lista=[\"Magnolia\", \"Pedro\", \"Ivan\", \"Sabrina\", \"Monserrrat\", \"Miguel\"]\n",
    "    hr=int(input(\"Cuántas horas estuviste jugando\"))\n",
    "    for i in Lista:\n",
    "        if i!=Lista: \n",
    "            costo=(hr*25)*1.20\n",
    "            print(\"Se te cobrará el 25$ y un 20% más\")\n",
    "            print(\"Entonces el costo será de\", costo)\n",
    "            i=False\n",
    "        else: \n",
    "            costo=(hr*10)*1.10\n",
    "            print(\"Como eres cliente, se te cobrará 10$ y un 10% más\")\n",
    "            print(\"Entonces el costo será de\", costo)\n",
    "        return\n",
    "\n",
    "cliente=str(input(\"Dame tu nombre de cliente\"))\n",
    "print(miembros(cliente))\n"
   ]
  },
  {
   "cell_type": "code",
   "execution_count": 42,
   "id": "17335653-645a-44f9-97ab-23049f279f9f",
   "metadata": {},
   "outputs": [
    {
     "data": {
      "text/plain": [
       "15"
      ]
     },
     "execution_count": 42,
     "metadata": {},
     "output_type": "execute_result"
    }
   ],
   "source": [
    "#4\n",
    "def suma(a): \n",
    "    total=0\n",
    "    for i in range(1, a+1): \n",
    "        total+=i\n",
    "    return total\n",
    "suma(5)"
   ]
  },
  {
   "cell_type": "code",
   "execution_count": 9,
   "id": "4aaecda3-9f30-4990-b90d-83024b420698",
   "metadata": {},
   "outputs": [
    {
     "ename": "NameError",
     "evalue": "name 'i' is not defined",
     "output_type": "error",
     "traceback": [
      "\u001b[1;31m---------------------------------------------------------------------------\u001b[0m",
      "\u001b[1;31mNameError\u001b[0m                                 Traceback (most recent call last)",
      "Cell \u001b[1;32mIn[9], line 18\u001b[0m\n\u001b[0;32m     15\u001b[0m     \u001b[38;5;28;01mreturn\u001b[39;00m promedio\n\u001b[0;32m     17\u001b[0m lista\u001b[38;5;241m=\u001b[39m[\u001b[38;5;241m5\u001b[39m, \u001b[38;5;241m3\u001b[39m, \u001b[38;5;241m4\u001b[39m, \u001b[38;5;241m8\u001b[39m, \u001b[38;5;241m4\u001b[39m, \u001b[38;5;241m3\u001b[39m]\n\u001b[1;32m---> 18\u001b[0m promo(lista)\n",
      "Cell \u001b[1;32mIn[9], line 6\u001b[0m, in \u001b[0;36mpromo\u001b[1;34m(a)\u001b[0m\n\u001b[0;32m      4\u001b[0m cont\u001b[38;5;241m=\u001b[39m\u001b[38;5;241m0\u001b[39m\n\u001b[0;32m      5\u001b[0m \u001b[38;5;28;01mwhile\u001b[39;00m \u001b[38;5;28;01mTrue\u001b[39;00m:\n\u001b[1;32m----> 6\u001b[0m     \u001b[38;5;28;01mif\u001b[39;00m \u001b[38;5;28misinstance\u001b[39m(i, (\u001b[38;5;28mint\u001b[39m, \u001b[38;5;28mfloat\u001b[39m)): \u001b[38;5;66;03m#Estructura vista en chat, pero lo que hace el isinstance, es que comprobara si hay números en la lista\u001b[39;00m\n\u001b[0;32m      7\u001b[0m         \u001b[38;5;28msum\u001b[39m\u001b[38;5;241m=\u001b[39m\u001b[38;5;241m+\u001b[39mi\n\u001b[0;32m      8\u001b[0m         cont\u001b[38;5;241m=\u001b[39m\u001b[38;5;241m+\u001b[39m\u001b[38;5;241m1\u001b[39m\n",
      "\u001b[1;31mNameError\u001b[0m: name 'i' is not defined"
     ]
    }
   ],
   "source": [
    "#5 \n",
    "def promo(a):\n",
    "    sum=0\n",
    "    cont=0\n",
    "    while True:\n",
    "        if isinstance(i, (int, float)): #Estructura vista en chat, pero lo que hace el isinstance, es que comprobara si hay números en la lista\n",
    "            sum=+i\n",
    "            cont=+1\n",
    "        else: \n",
    "            print(\"Esto no es una lista\")\n",
    "            break\n",
    "        \n",
    "    promedio=sum/cont\n",
    "    print(promedio)\n",
    "    return promedio\n",
    "\n",
    "lista=[5, 3, 4, 8, 4, 3]\n",
    "promo(lista)\n"
   ]
  },
  {
   "cell_type": "code",
   "execution_count": null,
   "id": "16ad9dc3-2ea5-460b-8a99-71bd07730c7d",
   "metadata": {},
   "outputs": [],
   "source": []
  }
 ],
 "metadata": {
  "kernelspec": {
   "display_name": "Python 3 (ipykernel)",
   "language": "python",
   "name": "python3"
  },
  "language_info": {
   "codemirror_mode": {
    "name": "ipython",
    "version": 3
   },
   "file_extension": ".py",
   "mimetype": "text/x-python",
   "name": "python",
   "nbconvert_exporter": "python",
   "pygments_lexer": "ipython3",
   "version": "3.12.4"
  }
 },
 "nbformat": 4,
 "nbformat_minor": 5
}
