{
 "cells": [
  {
   "cell_type": "markdown",
   "id": "3eccab54-4abe-4451-a164-78adfb0cfec4",
   "metadata": {},
   "source": [
    "# Diccionarios\n"
   ]
  },
  {
   "cell_type": "code",
   "execution_count": 2,
   "id": "7b1df899-5331-44ec-afc5-5d8720cc0857",
   "metadata": {},
   "outputs": [],
   "source": [
    "lista=[1, 2, 3, \"a\", \"b\"]\n"
   ]
  },
  {
   "cell_type": "code",
   "execution_count": 6,
   "id": "b7284b4d-9e5e-48e4-ab89-0c8a04c20683",
   "metadata": {},
   "outputs": [
    {
     "data": {
      "text/plain": [
       "'a'"
      ]
     },
     "execution_count": 6,
     "metadata": {},
     "output_type": "execute_result"
    }
   ],
   "source": [
    "lista[3]\n"
   ]
  },
  {
   "cell_type": "code",
   "execution_count": 8,
   "id": "7ac038ce-7716-4987-b21e-738a38500218",
   "metadata": {},
   "outputs": [
    {
     "data": {
      "text/plain": [
       "'b'"
      ]
     },
     "execution_count": 8,
     "metadata": {},
     "output_type": "execute_result"
    }
   ],
   "source": [
    "longitud=len(lista)\n",
    "lista[longitud-1]"
   ]
  },
  {
   "cell_type": "code",
   "execution_count": 12,
   "id": "499b149b-b65f-405e-900c-7cfea013454c",
   "metadata": {},
   "outputs": [
    {
     "data": {
      "text/plain": [
       "[1, 2, 3]"
      ]
     },
     "execution_count": 12,
     "metadata": {},
     "output_type": "execute_result"
    }
   ],
   "source": [
    "lista[0:3] #Mostrar solo los valores que estén en el rango"
   ]
  },
  {
   "cell_type": "code",
   "execution_count": 14,
   "id": "f57c49cd-d746-45a5-a177-d4438bc76f96",
   "metadata": {},
   "outputs": [
    {
     "data": {
      "text/plain": [
       "['a', 'b']"
      ]
     },
     "execution_count": 14,
     "metadata": {},
     "output_type": "execute_result"
    }
   ],
   "source": [
    "lista[3:]#Para que regrese los valores desde donde lo establezca "
   ]
  },
  {
   "cell_type": "code",
   "execution_count": 16,
   "id": "21ace8b4-b03f-4aeb-a8a5-76805cdf59fc",
   "metadata": {},
   "outputs": [],
   "source": [
    "#lista.pop() quitar el útimo\n",
    "#lista.append() agrega\n",
    "#Lista.insert(2, x) insertar x antes del elemento con indice 2"
   ]
  },
  {
   "cell_type": "code",
   "execution_count": 22,
   "id": "742ba8b1-9123-4f59-bd3b-93d689492fec",
   "metadata": {},
   "outputs": [
    {
     "data": {
      "text/plain": [
       "'Animal canino de 4 patas que ladra, es mamífero y tiene cola'"
      ]
     },
     "execution_count": 22,
     "metadata": {},
     "output_type": "execute_result"
    }
   ],
   "source": [
    "diccionario={\"Perro\": \"Animal canino de 4 patas que ladra, es mamífero y tiene cola\", \n",
    "             \"Gato\": \"Animal felino de 4 patas que maúlla, es mamífero y tiene cola\"}\n",
    "diccionario[\"Perro\"]"
   ]
  },
  {
   "cell_type": "code",
   "execution_count": 24,
   "id": "5bb78395-8582-4c1c-a3d2-554ae71cbeb2",
   "metadata": {},
   "outputs": [
    {
     "data": {
      "text/plain": [
       "'Animal canino de 4 patas que ladra, es mamífero y tiene cola'"
      ]
     },
     "execution_count": 24,
     "metadata": {},
     "output_type": "execute_result"
    }
   ],
   "source": [
    "diccionario.pop(\"Perro\")"
   ]
  },
  {
   "cell_type": "code",
   "execution_count": 28,
   "id": "d8f14eb9-b381-4a2a-b061-56370de0c4ce",
   "metadata": {},
   "outputs": [
    {
     "data": {
      "text/plain": [
       "dict_keys(['Gato'])"
      ]
     },
     "execution_count": 28,
     "metadata": {},
     "output_type": "execute_result"
    }
   ],
   "source": [
    "diccionario.keys()"
   ]
  },
  {
   "cell_type": "code",
   "execution_count": 30,
   "id": "f0dc9e4e-4244-4883-86c6-b93ce7b136b3",
   "metadata": {},
   "outputs": [],
   "source": [
    "diccionario[\"Pato\"]=\"Animal con plumas dos patas y picos\""
   ]
  },
  {
   "cell_type": "code",
   "execution_count": 34,
   "id": "9d0006f6-dde2-4e96-8912-d1725ca3006b",
   "metadata": {},
   "outputs": [
    {
     "data": {
      "text/plain": [
       "dict_keys(['Gato', 'Pato'])"
      ]
     },
     "execution_count": 34,
     "metadata": {},
     "output_type": "execute_result"
    }
   ],
   "source": [
    "diccionario.keys()"
   ]
  },
  {
   "cell_type": "code",
   "execution_count": 36,
   "id": "b8e733c6-da25-46c7-b363-8fecb0618d0a",
   "metadata": {},
   "outputs": [],
   "source": [
    "diccionario[887]=lista"
   ]
  },
  {
   "cell_type": "code",
   "execution_count": 38,
   "id": "a5e0b3e0-3dfd-4af8-9567-38e6f63344b5",
   "metadata": {},
   "outputs": [
    {
     "data": {
      "text/plain": [
       "{'Gato': 'Animal felino de 4 patas que maúlla, es mamífero y tiene cola',\n",
       " 'Pato': 'Animal con plumas dos patas y picos',\n",
       " 887: [1, 2, 3, 'a', 'b']}"
      ]
     },
     "execution_count": 38,
     "metadata": {},
     "output_type": "execute_result"
    }
   ],
   "source": [
    "diccionario"
   ]
  },
  {
   "cell_type": "code",
   "execution_count": 46,
   "id": "7bf5f2b8-59a8-4edf-b09a-b9f345e6a3d2",
   "metadata": {},
   "outputs": [
    {
     "data": {
      "text/plain": [
       "{697248: {'Nombre': 'Gabriel',\n",
       "  'Apellido': 'Morales',\n",
       "  'Carrera': 'Ingeneria Electrónica',\n",
       "  'Expendiente': 697248,\n",
       "  'Materias inscritas': ['Maninfo', 'Coe', 'Prup', 'Calculo diferencial']},\n",
       " 78048: {'Nombre': 'Gabriel',\n",
       "  'Apellido': 'Morales',\n",
       "  'Carrera': 'Ingeneria Electrónica',\n",
       "  'Expendiente': 78048,\n",
       "  'Materias inscritas': ['Maninfo', 'Coe', 'Prup', 'Calculo diferencial']}}"
      ]
     },
     "execution_count": 46,
     "metadata": {},
     "output_type": "execute_result"
    }
   ],
   "source": [
    "datos_personales={\n",
    "    \"Nombre\": \"Gabriel\",\n",
    "    \"Apellido\": \"Morales\",\n",
    "    \"Carrera\": \"Ingeneria Electrónica\", \n",
    "    \"Expendiente\": 697248, \n",
    "    \"Materias inscritas\": [\"Maninfo\", \"Coe\", \"Prup\", \"Calculo diferencial\"]}\n",
    "jpz={\n",
    "    \"Nombre\": \"Gabriel\",\n",
    "    \"Apellido\": \"Morales\",\n",
    "    \"Carrera\": \"Ingeneria Electrónica\", \n",
    "    \"Expendiente\": 78048, \n",
    "    \"Materias inscritas\": [\"Maninfo\", \"Coe\", \"Prup\", \"Calculo diferencial\"]}\n",
    "alumnos_inscritos={\n",
    "    697248 : datos_personales,\n",
    "    78048 : jpz}\n",
    "alumnos_inscritos\n",
    "    "
   ]
  },
  {
   "cell_type": "markdown",
   "id": "9dcd0b00-6c63-40f0-b7cb-e2883a6d8ccf",
   "metadata": {},
   "source": [
    "# Librerias"
   ]
  },
  {
   "cell_type": "markdown",
   "id": "21f7c86f-39dd-41ae-980f-45f68b1b299b",
   "metadata": {},
   "source": [
    "## numpy"
   ]
  },
  {
   "cell_type": "code",
   "execution_count": 63,
   "id": "79654fce-3e0e-403c-a844-a86a5395e68d",
   "metadata": {},
   "outputs": [
    {
     "data": {
      "text/plain": [
       "array([5, 7, 9])"
      ]
     },
     "execution_count": 63,
     "metadata": {},
     "output_type": "execute_result"
    }
   ],
   "source": [
    "import numpy as np\n",
    "\n",
    "a=np.array([1, 2, 3])\n",
    "b=np.array([4, 5, 6])#Convertir en arreglo\n",
    "a+b"
   ]
  },
  {
   "cell_type": "code",
   "execution_count": 65,
   "id": "bf6c6e07-53cf-4607-a34e-ebf66b6dfc86",
   "metadata": {},
   "outputs": [
    {
     "data": {
      "text/plain": [
       "array([[1, 2, 3]])"
      ]
     },
     "execution_count": 65,
     "metadata": {},
     "output_type": "execute_result"
    }
   ],
   "source": [
    "c=np.array([[1,2,3]])\n",
    "c"
   ]
  },
  {
   "cell_type": "code",
   "execution_count": 71,
   "id": "40491142-c250-4975-8f61-d7ffc9c7d768",
   "metadata": {},
   "outputs": [
    {
     "data": {
      "text/plain": [
       "array([[1],\n",
       "       [2],\n",
       "       [3]])"
      ]
     },
     "execution_count": 71,
     "metadata": {},
     "output_type": "execute_result"
    }
   ],
   "source": [
    "d=np.array([[1], \n",
    "            [2],\n",
    "            [3]])\n",
    "d"
   ]
  },
  {
   "cell_type": "code",
   "execution_count": 77,
   "id": "2b8a4ce3-858c-4966-90d6-440afbe8c1e3",
   "metadata": {},
   "outputs": [
    {
     "data": {
      "text/plain": [
       "array([[1, 2, 3],\n",
       "       [4, 5, 6],\n",
       "       [7, 8, 9]])"
      ]
     },
     "execution_count": 77,
     "metadata": {},
     "output_type": "execute_result"
    }
   ],
   "source": [
    "A=np.array([\n",
    "    [1,2,3],\n",
    "    [4,5,6], \n",
    "    [7, 8, 9]])\n",
    "A"
   ]
  },
  {
   "cell_type": "code",
   "execution_count": 79,
   "id": "e96ac8f2-9678-4e81-9a8c-e4a19d9f2a5e",
   "metadata": {},
   "outputs": [
    {
     "data": {
      "text/plain": [
       "array([[14]])"
      ]
     },
     "execution_count": 79,
     "metadata": {},
     "output_type": "execute_result"
    }
   ],
   "source": [
    "c@d"
   ]
  },
  {
   "cell_type": "code",
   "execution_count": 87,
   "id": "78e03b34-8df8-4537-99e9-f5c7989869d4",
   "metadata": {},
   "outputs": [
    {
     "ename": "NameError",
     "evalue": "name 'x' is not defined",
     "output_type": "error",
     "traceback": [
      "\u001b[1;31m---------------------------------------------------------------------------\u001b[0m",
      "\u001b[1;31mNameError\u001b[0m                                 Traceback (most recent call last)",
      "Cell \u001b[1;32mIn[87], line 2\u001b[0m\n\u001b[0;32m      1\u001b[0m np\u001b[38;5;241m.\u001b[39mexp(\u001b[38;5;241m1\u001b[39m) \u001b[38;5;66;03m#e^1\u001b[39;00m\n\u001b[1;32m----> 2\u001b[0m np\u001b[38;5;241m.\u001b[39msin(x) \n\u001b[0;32m      3\u001b[0m np\u001b[38;5;241m.\u001b[39mcos(x)\n",
      "\u001b[1;31mNameError\u001b[0m: name 'x' is not defined"
     ]
    }
   ],
   "source": [
    "np.exp(1) #e^1\n",
    "np.sin(x) \n",
    "np.cos(x)\n",
    "np.log(x) #log10"
   ]
  },
  {
   "cell_type": "markdown",
   "id": "9b12f604-75cb-45e5-baee-c382ae455c3e",
   "metadata": {},
   "source": [
    "# Pandas"
   ]
  },
  {
   "cell_type": "code",
   "execution_count": 114,
   "id": "a9f96cfa-8cf3-4a46-bf8b-649ad7e0af8d",
   "metadata": {},
   "outputs": [
    {
     "data": {
      "text/html": [
       "<div>\n",
       "<style scoped>\n",
       "    .dataframe tbody tr th:only-of-type {\n",
       "        vertical-align: middle;\n",
       "    }\n",
       "\n",
       "    .dataframe tbody tr th {\n",
       "        vertical-align: top;\n",
       "    }\n",
       "\n",
       "    .dataframe thead th {\n",
       "        text-align: right;\n",
       "    }\n",
       "</style>\n",
       "<table border=\"1\" class=\"dataframe\">\n",
       "  <thead>\n",
       "    <tr style=\"text-align: right;\">\n",
       "      <th></th>\n",
       "      <th>ID Persona</th>\n",
       "      <th>Peso</th>\n",
       "      <th>Estatura</th>\n",
       "    </tr>\n",
       "  </thead>\n",
       "  <tbody>\n",
       "    <tr>\n",
       "      <th>0</th>\n",
       "      <td>1</td>\n",
       "      <td>67</td>\n",
       "      <td>1.41</td>\n",
       "    </tr>\n",
       "    <tr>\n",
       "      <th>1</th>\n",
       "      <td>2</td>\n",
       "      <td>99</td>\n",
       "      <td>1.83</td>\n",
       "    </tr>\n",
       "    <tr>\n",
       "      <th>2</th>\n",
       "      <td>3</td>\n",
       "      <td>86</td>\n",
       "      <td>1.90</td>\n",
       "    </tr>\n",
       "    <tr>\n",
       "      <th>3</th>\n",
       "      <td>4</td>\n",
       "      <td>118</td>\n",
       "      <td>1.65</td>\n",
       "    </tr>\n",
       "    <tr>\n",
       "      <th>4</th>\n",
       "      <td>5</td>\n",
       "      <td>109</td>\n",
       "      <td>1.67</td>\n",
       "    </tr>\n",
       "    <tr>\n",
       "      <th>...</th>\n",
       "      <td>...</td>\n",
       "      <td>...</td>\n",
       "      <td>...</td>\n",
       "    </tr>\n",
       "    <tr>\n",
       "      <th>95</th>\n",
       "      <td>96</td>\n",
       "      <td>88</td>\n",
       "      <td>1.49</td>\n",
       "    </tr>\n",
       "    <tr>\n",
       "      <th>96</th>\n",
       "      <td>97</td>\n",
       "      <td>98</td>\n",
       "      <td>1.54</td>\n",
       "    </tr>\n",
       "    <tr>\n",
       "      <th>97</th>\n",
       "      <td>98</td>\n",
       "      <td>95</td>\n",
       "      <td>1.57</td>\n",
       "    </tr>\n",
       "    <tr>\n",
       "      <th>98</th>\n",
       "      <td>99</td>\n",
       "      <td>61</td>\n",
       "      <td>1.61</td>\n",
       "    </tr>\n",
       "    <tr>\n",
       "      <th>99</th>\n",
       "      <td>100</td>\n",
       "      <td>107</td>\n",
       "      <td>1.62</td>\n",
       "    </tr>\n",
       "  </tbody>\n",
       "</table>\n",
       "<p>100 rows × 3 columns</p>\n",
       "</div>"
      ],
      "text/plain": [
       "    ID Persona  Peso  Estatura\n",
       "0            1    67      1.41\n",
       "1            2    99      1.83\n",
       "2            3    86      1.90\n",
       "3            4   118      1.65\n",
       "4            5   109      1.67\n",
       "..         ...   ...       ...\n",
       "95          96    88      1.49\n",
       "96          97    98      1.54\n",
       "97          98    95      1.57\n",
       "98          99    61      1.61\n",
       "99         100   107      1.62\n",
       "\n",
       "[100 rows x 3 columns]"
      ]
     },
     "execution_count": 114,
     "metadata": {},
     "output_type": "execute_result"
    }
   ],
   "source": [
    "import pandas as pd\n",
    "datos=pd.read_excel(\"datosPE.xlsx\")\n",
    "datos\n"
   ]
  },
  {
   "cell_type": "code",
   "execution_count": 102,
   "id": "ab98168c-8a82-4546-9f84-9894fa8e4df8",
   "metadata": {},
   "outputs": [
    {
     "data": {
      "text/plain": [
       "0      67\n",
       "1      99\n",
       "2      86\n",
       "3     118\n",
       "4     109\n",
       "     ... \n",
       "95     88\n",
       "96     98\n",
       "97     95\n",
       "98     61\n",
       "99    107\n",
       "Name: Peso, Length: 100, dtype: int64"
      ]
     },
     "execution_count": 102,
     "metadata": {},
     "output_type": "execute_result"
    }
   ],
   "source": [
    "datos[\"Peso\"]"
   ]
  },
  {
   "cell_type": "code",
   "execution_count": 104,
   "id": "3b873e39-2395-41ed-9d1a-b34c4f420795",
   "metadata": {},
   "outputs": [
    {
     "data": {
      "text/plain": [
       "Index(['ID Persona', 'Peso', 'Estatura'], dtype='object')"
      ]
     },
     "execution_count": 104,
     "metadata": {},
     "output_type": "execute_result"
    }
   ],
   "source": [
    "datos.columns"
   ]
  },
  {
   "cell_type": "code",
   "execution_count": 112,
   "id": "654fd1aa-2036-4acc-a4dd-61a4164ae235",
   "metadata": {},
   "outputs": [
    {
     "data": {
      "text/html": [
       "<div>\n",
       "<style scoped>\n",
       "    .dataframe tbody tr th:only-of-type {\n",
       "        vertical-align: middle;\n",
       "    }\n",
       "\n",
       "    .dataframe tbody tr th {\n",
       "        vertical-align: top;\n",
       "    }\n",
       "\n",
       "    .dataframe thead th {\n",
       "        text-align: right;\n",
       "    }\n",
       "</style>\n",
       "<table border=\"1\" class=\"dataframe\">\n",
       "  <thead>\n",
       "    <tr style=\"text-align: right;\">\n",
       "      <th></th>\n",
       "      <th>ID Persona</th>\n",
       "      <th>Peso</th>\n",
       "      <th>Estatura</th>\n",
       "      <th>IMC</th>\n",
       "      <th>Ejemplo</th>\n",
       "    </tr>\n",
       "  </thead>\n",
       "  <tbody>\n",
       "    <tr>\n",
       "      <th>0</th>\n",
       "      <td>1</td>\n",
       "      <td>67</td>\n",
       "      <td>0</td>\n",
       "      <td>inf</td>\n",
       "      <td>0</td>\n",
       "    </tr>\n",
       "    <tr>\n",
       "      <th>1</th>\n",
       "      <td>2</td>\n",
       "      <td>99</td>\n",
       "      <td>0</td>\n",
       "      <td>inf</td>\n",
       "      <td>0</td>\n",
       "    </tr>\n",
       "    <tr>\n",
       "      <th>2</th>\n",
       "      <td>3</td>\n",
       "      <td>86</td>\n",
       "      <td>0</td>\n",
       "      <td>inf</td>\n",
       "      <td>0</td>\n",
       "    </tr>\n",
       "    <tr>\n",
       "      <th>3</th>\n",
       "      <td>4</td>\n",
       "      <td>118</td>\n",
       "      <td>0</td>\n",
       "      <td>inf</td>\n",
       "      <td>0</td>\n",
       "    </tr>\n",
       "    <tr>\n",
       "      <th>4</th>\n",
       "      <td>5</td>\n",
       "      <td>109</td>\n",
       "      <td>0</td>\n",
       "      <td>inf</td>\n",
       "      <td>0</td>\n",
       "    </tr>\n",
       "    <tr>\n",
       "      <th>...</th>\n",
       "      <td>...</td>\n",
       "      <td>...</td>\n",
       "      <td>...</td>\n",
       "      <td>...</td>\n",
       "      <td>...</td>\n",
       "    </tr>\n",
       "    <tr>\n",
       "      <th>95</th>\n",
       "      <td>96</td>\n",
       "      <td>88</td>\n",
       "      <td>0</td>\n",
       "      <td>inf</td>\n",
       "      <td>0</td>\n",
       "    </tr>\n",
       "    <tr>\n",
       "      <th>96</th>\n",
       "      <td>97</td>\n",
       "      <td>98</td>\n",
       "      <td>0</td>\n",
       "      <td>inf</td>\n",
       "      <td>0</td>\n",
       "    </tr>\n",
       "    <tr>\n",
       "      <th>97</th>\n",
       "      <td>98</td>\n",
       "      <td>95</td>\n",
       "      <td>0</td>\n",
       "      <td>inf</td>\n",
       "      <td>0</td>\n",
       "    </tr>\n",
       "    <tr>\n",
       "      <th>98</th>\n",
       "      <td>99</td>\n",
       "      <td>61</td>\n",
       "      <td>0</td>\n",
       "      <td>inf</td>\n",
       "      <td>0</td>\n",
       "    </tr>\n",
       "    <tr>\n",
       "      <th>99</th>\n",
       "      <td>100</td>\n",
       "      <td>107</td>\n",
       "      <td>0</td>\n",
       "      <td>inf</td>\n",
       "      <td>0</td>\n",
       "    </tr>\n",
       "  </tbody>\n",
       "</table>\n",
       "<p>100 rows × 5 columns</p>\n",
       "</div>"
      ],
      "text/plain": [
       "    ID Persona  Peso  Estatura  IMC  Ejemplo\n",
       "0            1    67         0  inf        0\n",
       "1            2    99         0  inf        0\n",
       "2            3    86         0  inf        0\n",
       "3            4   118         0  inf        0\n",
       "4            5   109         0  inf        0\n",
       "..         ...   ...       ...  ...      ...\n",
       "95          96    88         0  inf        0\n",
       "96          97    98         0  inf        0\n",
       "97          98    95         0  inf        0\n",
       "98          99    61         0  inf        0\n",
       "99         100   107         0  inf        0\n",
       "\n",
       "[100 rows x 5 columns]"
      ]
     },
     "execution_count": 112,
     "metadata": {},
     "output_type": "execute_result"
    }
   ],
   "source": [
    "datos[\"Ejemplo\"]=0\n",
    "datos"
   ]
  },
  {
   "cell_type": "code",
   "execution_count": 116,
   "id": "ecb03626-7d75-4aee-b09f-30b0e572e1a7",
   "metadata": {},
   "outputs": [
    {
     "data": {
      "text/html": [
       "<div>\n",
       "<style scoped>\n",
       "    .dataframe tbody tr th:only-of-type {\n",
       "        vertical-align: middle;\n",
       "    }\n",
       "\n",
       "    .dataframe tbody tr th {\n",
       "        vertical-align: top;\n",
       "    }\n",
       "\n",
       "    .dataframe thead th {\n",
       "        text-align: right;\n",
       "    }\n",
       "</style>\n",
       "<table border=\"1\" class=\"dataframe\">\n",
       "  <thead>\n",
       "    <tr style=\"text-align: right;\">\n",
       "      <th></th>\n",
       "      <th>ID Persona</th>\n",
       "      <th>Peso</th>\n",
       "      <th>Estatura</th>\n",
       "      <th>IMC</th>\n",
       "    </tr>\n",
       "  </thead>\n",
       "  <tbody>\n",
       "    <tr>\n",
       "      <th>0</th>\n",
       "      <td>1</td>\n",
       "      <td>67</td>\n",
       "      <td>1.41</td>\n",
       "      <td>33.700518</td>\n",
       "    </tr>\n",
       "    <tr>\n",
       "      <th>1</th>\n",
       "      <td>2</td>\n",
       "      <td>99</td>\n",
       "      <td>1.83</td>\n",
       "      <td>29.561946</td>\n",
       "    </tr>\n",
       "    <tr>\n",
       "      <th>2</th>\n",
       "      <td>3</td>\n",
       "      <td>86</td>\n",
       "      <td>1.90</td>\n",
       "      <td>23.822715</td>\n",
       "    </tr>\n",
       "    <tr>\n",
       "      <th>3</th>\n",
       "      <td>4</td>\n",
       "      <td>118</td>\n",
       "      <td>1.65</td>\n",
       "      <td>43.342516</td>\n",
       "    </tr>\n",
       "    <tr>\n",
       "      <th>4</th>\n",
       "      <td>5</td>\n",
       "      <td>109</td>\n",
       "      <td>1.67</td>\n",
       "      <td>39.083510</td>\n",
       "    </tr>\n",
       "    <tr>\n",
       "      <th>...</th>\n",
       "      <td>...</td>\n",
       "      <td>...</td>\n",
       "      <td>...</td>\n",
       "      <td>...</td>\n",
       "    </tr>\n",
       "    <tr>\n",
       "      <th>95</th>\n",
       "      <td>96</td>\n",
       "      <td>88</td>\n",
       "      <td>1.49</td>\n",
       "      <td>39.637854</td>\n",
       "    </tr>\n",
       "    <tr>\n",
       "      <th>96</th>\n",
       "      <td>97</td>\n",
       "      <td>98</td>\n",
       "      <td>1.54</td>\n",
       "      <td>41.322314</td>\n",
       "    </tr>\n",
       "    <tr>\n",
       "      <th>97</th>\n",
       "      <td>98</td>\n",
       "      <td>95</td>\n",
       "      <td>1.57</td>\n",
       "      <td>38.541117</td>\n",
       "    </tr>\n",
       "    <tr>\n",
       "      <th>98</th>\n",
       "      <td>99</td>\n",
       "      <td>61</td>\n",
       "      <td>1.61</td>\n",
       "      <td>23.533043</td>\n",
       "    </tr>\n",
       "    <tr>\n",
       "      <th>99</th>\n",
       "      <td>100</td>\n",
       "      <td>107</td>\n",
       "      <td>1.62</td>\n",
       "      <td>40.771224</td>\n",
       "    </tr>\n",
       "  </tbody>\n",
       "</table>\n",
       "<p>100 rows × 4 columns</p>\n",
       "</div>"
      ],
      "text/plain": [
       "    ID Persona  Peso  Estatura        IMC\n",
       "0            1    67      1.41  33.700518\n",
       "1            2    99      1.83  29.561946\n",
       "2            3    86      1.90  23.822715\n",
       "3            4   118      1.65  43.342516\n",
       "4            5   109      1.67  39.083510\n",
       "..         ...   ...       ...        ...\n",
       "95          96    88      1.49  39.637854\n",
       "96          97    98      1.54  41.322314\n",
       "97          98    95      1.57  38.541117\n",
       "98          99    61      1.61  23.533043\n",
       "99         100   107      1.62  40.771224\n",
       "\n",
       "[100 rows x 4 columns]"
      ]
     },
     "execution_count": 116,
     "metadata": {},
     "output_type": "execute_result"
    }
   ],
   "source": [
    "datos[\"IMC\"]=datos[\"Peso\"]/(datos[\"Estatura\"]**2)\n",
    "datos"
   ]
  },
  {
   "cell_type": "code",
   "execution_count": 122,
   "id": "67830844-49b1-42bf-9c94-c975458e232b",
   "metadata": {},
   "outputs": [
    {
     "data": {
      "text/html": [
       "<div>\n",
       "<style scoped>\n",
       "    .dataframe tbody tr th:only-of-type {\n",
       "        vertical-align: middle;\n",
       "    }\n",
       "\n",
       "    .dataframe tbody tr th {\n",
       "        vertical-align: top;\n",
       "    }\n",
       "\n",
       "    .dataframe thead th {\n",
       "        text-align: right;\n",
       "    }\n",
       "</style>\n",
       "<table border=\"1\" class=\"dataframe\">\n",
       "  <thead>\n",
       "    <tr style=\"text-align: right;\">\n",
       "      <th></th>\n",
       "      <th>ID Persona</th>\n",
       "      <th>Peso</th>\n",
       "      <th>Estatura</th>\n",
       "      <th>IMC</th>\n",
       "    </tr>\n",
       "  </thead>\n",
       "  <tbody>\n",
       "    <tr>\n",
       "      <th>58</th>\n",
       "      <td>59</td>\n",
       "      <td>54</td>\n",
       "      <td>1.92</td>\n",
       "      <td>14.648438</td>\n",
       "    </tr>\n",
       "  </tbody>\n",
       "</table>\n",
       "</div>"
      ],
      "text/plain": [
       "    ID Persona  Peso  Estatura        IMC\n",
       "58          59    54      1.92  14.648438"
      ]
     },
     "execution_count": 122,
     "metadata": {},
     "output_type": "execute_result"
    }
   ],
   "source": [
    "datos[datos[\"IMC\"]<15]"
   ]
  },
  {
   "cell_type": "code",
   "execution_count": 124,
   "id": "6c18bda5-afe2-4037-887a-386f25ca62c2",
   "metadata": {},
   "outputs": [],
   "source": [
    "datos.to_excel(\"datosPE2.xlsx\")"
   ]
  },
  {
   "cell_type": "markdown",
   "id": "ce05628a-0886-4bc2-b6b1-504a2e503efb",
   "metadata": {},
   "source": [
    "# Matplotlib"
   ]
  },
  {
   "cell_type": "code",
   "execution_count": 131,
   "id": "ba1d0907-1596-4dd5-a195-f148fb98e341",
   "metadata": {},
   "outputs": [
    {
     "data": {
      "text/plain": [
       "[<matplotlib.lines.Line2D at 0x1709203eb40>]"
      ]
     },
     "execution_count": 131,
     "metadata": {},
     "output_type": "execute_result"
    },
    {
     "data": {
      "image/png": "[encoded data removed]",
      "text/plain": [
       "<Figure size 640x480 with 1 Axes>"
      ]
     },
     "metadata": {},
     "output_type": "display_data"
    }
   ],
   "source": [
    "import matplotlib.pyplot as plt\n",
    "x=[-3, -2, -1, 0, 1, 2, 3]\n",
    "y=[9, 4, 1, 0, 1, 4, 9]\n",
    "\n",
    "plt.figure()\n",
    "plt.plot(x,y)"
   ]
  },
  {
   "cell_type": "code",
   "execution_count": 155,
   "id": "7747886e-aa97-4d0c-85b9-dc4d39798502",
   "metadata": {},
   "outputs": [
    {
     "data": {
      "text/plain": [
       "Text(0.5, 1.0, 'Titulo')"
      ]
     },
     "execution_count": 155,
     "metadata": {},
     "output_type": "execute_result"
    },
    {
     "data": {
      "image/png": "[encoded data removed]",
      "text/plain": [
       "<Figure size 200x200 with 1 Axes>"
      ]
     },
     "metadata": {},
     "output_type": "display_data"
    }
   ],
   "source": [
    "import matplotlib.pyplot as plt\n",
    "x=np.linspace(-3, 3, 101)\n",
    "y=x**2\n",
    "plt.figure(figsize=(2,2))\n",
    "plt.plot(x, y)\n",
    "plt.grid()\n",
    "plt.xlabel(\"X\")\n",
    "plt.ylabel(\"Y\")\n",
    "plt.title(\"Titulo\")"
   ]
  },
  {
   "cell_type": "code",
   "execution_count": 10,
   "id": "932806ac-73fd-4a7d-8150-38276dee6ef6",
   "metadata": {},
   "outputs": [
    {
     "data": {
      "text/plain": [
       "<matplotlib.legend.Legend at 0x2092d5d7fe0>"
      ]
     },
     "execution_count": 10,
     "metadata": {},
     "output_type": "execute_result"
    },
    {
     "data": {
      "image/png": "[encoded data removed]",
      "text/plain": [
       "<Figure size 800x200 with 1 Axes>"
      ]
     },
     "metadata": {},
     "output_type": "display_data"
    }
   ],
   "source": [
    "import matplotlib.pyplot as plt\n",
    "import numpy as np\n",
    "x=np.linspace(-3, 3, 101)\n",
    "y=x**2\n",
    "y2=-x**2+3\n",
    "plt.figure(figsize=(8,2))\n",
    "plt.plot(x, y, label=\"primera línea\")\n",
    "plt.grid()\n",
    "plt.xlabel(\"X\")\n",
    "plt.ylabel(\"Y\")\n",
    "plt.title(\"Titulo\")\n",
    "plt.plot(x, y2, label=\"segunda línea\")\n",
    "plt.legend(loc=\"best\")"
   ]
  },
  {
   "cell_type": "code",
   "execution_count": null,
   "id": "5d6bf2ec-27e4-4a01-b02a-f4e0e9ef9596",
   "metadata": {},
   "outputs": [],
   "source": []
  }
 ],
 "metadata": {
  "kernelspec": {
   "display_name": "Python 3 (ipykernel)",
   "language": "python",
   "name": "python3"
  },
  "language_info": {
   "codemirror_mode": {
    "name": "ipython",
    "version": 3
   },
   "file_extension": ".py",
   "mimetype": "text/x-python",
   "name": "python",
   "nbconvert_exporter": "python",
   "pygments_lexer": "ipython3",
   "version": "3.12.4"
  }
 },
 "nbformat": 4,
 "nbformat_minor": 5
}
